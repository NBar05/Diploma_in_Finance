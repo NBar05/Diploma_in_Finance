{
 "cells": [
  {
   "cell_type": "markdown",
   "metadata": {},
   "source": [
    "## Код для дипломной работы по теме:\n",
    "## Факторная модель спредов на российском рынке корпоративных облигаций"
   ]
  },
  {
   "cell_type": "code",
   "execution_count": 1,
   "metadata": {},
   "outputs": [],
   "source": [
    "import xlrd\n",
    "import string\n",
    "import pickle\n",
    "import datetime\n",
    "import numpy as np\n",
    "import pandas as pd\n",
    "\n",
    "import statsmodels.api as sm\n",
    "import statsmodels.formula.api as smf\n",
    "\n",
    "from scipy.stats import mstats\n",
    "\n",
    "import matplotlib.pyplot as plt\n",
    "import seaborn as sns\n",
    "\n",
    "import time\n",
    "import pyautogui\n",
    "\n",
    "pd.set_option('display.max_columns', None)\n",
    "pd.set_option('display.max_rows', 100)\n",
    "\n",
    "from tqdm import tqdm, trange\n",
    "\n",
    "from collections import Counter"
   ]
  },
  {
   "cell_type": "markdown",
   "metadata": {},
   "source": [
    "## Открытие сводных таблиц"
   ]
  },
  {
   "cell_type": "markdown",
   "metadata": {},
   "source": [
    "Открываем таблицу с информацией по каждой эмиссии"
   ]
  },
  {
   "cell_type": "code",
   "execution_count": 2,
   "metadata": {
    "scrolled": false
   },
   "outputs": [
    {
     "data": {
      "text/plain": [
       "(4241, 27)"
      ]
     },
     "execution_count": 2,
     "metadata": {},
     "output_type": "execute_result"
    }
   ],
   "source": [
    "oblig_discrip_data = pd.read_excel('Список облигаций - clean.xlsx', parse_dates=['Дата начала размещения',\n",
    "                                                                                 'Дата окончания размещения',\n",
    "                                                                                 'Дата погашения',\n",
    "                                                                                 'Дата начала начисления купонов',\n",
    "                                                                                 'Расчетная дата начала обращения',\n",
    "                                                                                 'Дата регистрации',\n",
    "                                                                                 'Дата торгов'])\n",
    "oblig_discrip_data.sort_values(\"Дата регистрации\", ascending=False, inplace=True)\n",
    "\n",
    "oblig_discrip_data = oblig_discrip_data.loc[oblig_discrip_data['Дата регистрации'].dt.year >= 2012]\n",
    "oblig_discrip_data = oblig_discrip_data.loc[oblig_discrip_data['Дата регистрации'].dt.year <= 2020]\n",
    "oblig_discrip_data.shape"
   ]
  },
  {
   "cell_type": "markdown",
   "metadata": {},
   "source": [
    "Проверяем на наличие дубликатов"
   ]
  },
  {
   "cell_type": "code",
   "execution_count": 3,
   "metadata": {},
   "outputs": [
    {
     "data": {
      "text/plain": [
       "[('Ипотечный агент Эклипс-1, класс Б', 2),\n",
       " ('РОСБАНК, БО-12', 2),\n",
       " ('ЭБИС, КО-П06', 1)]"
      ]
     },
     "execution_count": 3,
     "metadata": {},
     "output_type": "execute_result"
    }
   ],
   "source": [
    "Counter(list(oblig_discrip_data.Бумага)).most_common(3)"
   ]
  },
  {
   "cell_type": "markdown",
   "metadata": {},
   "source": [
    "Удаляем две проблемные облигации"
   ]
  },
  {
   "cell_type": "code",
   "execution_count": 4,
   "metadata": {},
   "outputs": [],
   "source": [
    "strange_bonds = ['Ипотечный агент Эклипс-1, класс Б', 'РОСБАНК, БО-12']\n",
    "oblig_discrip_data = oblig_discrip_data.loc[~oblig_discrip_data.Бумага.isin(strange_bonds)]"
   ]
  },
  {
   "cell_type": "markdown",
   "metadata": {},
   "source": [
    "Добавляем ещё информацию о данных эмиссиях"
   ]
  },
  {
   "cell_type": "code",
   "execution_count": 5,
   "metadata": {},
   "outputs": [
    {
     "data": {
      "text/plain": [
       "((1973, 27), (2435, 27), (2078, 27))"
      ]
     },
     "execution_count": 5,
     "metadata": {},
     "output_type": "execute_result"
    }
   ],
   "source": [
    "extra_info_1 = pd.read_excel('bondsearch_14_04_2021-1.xlsx')\n",
    "extra_info_2 = pd.read_excel('bondsearch_14_04_2021-2.xlsx')\n",
    "extra_info_3 = pd.read_excel('bondsearch_14_04_2021-3.xlsx')\n",
    "# extra_info_4 = pd.read_excel('bondsearch_14_04_2021-4.xlsx')\n",
    "extra_info_1.shape, extra_info_2.shape, extra_info_3.shape #, extra_info_4.shape"
   ]
  },
  {
   "cell_type": "markdown",
   "metadata": {},
   "source": [
    "В 4 таблице информация и слишком старых эмиссиях, поэтому соединим только первые три таблицы и добавим их информацию к верхней"
   ]
  },
  {
   "cell_type": "code",
   "execution_count": 6,
   "metadata": {},
   "outputs": [],
   "source": [
    "extra_info = pd.concat([extra_info_1, extra_info_2, extra_info_3], axis=0)\n",
    "extra_info.drop_duplicates(inplace=True)\n",
    "set(extra_info.columns).intersection(set(oblig_discrip_data.columns))\n",
    "\n",
    "extra_info.drop(columns=['Биржа', 'Бумага', 'Периодичность выплаты купонов', 'Эмитент'], inplace=True)\n",
    "oblig_discrip_data = oblig_discrip_data.merge(extra_info, on=['ISIN'], how='left')"
   ]
  },
  {
   "cell_type": "code",
   "execution_count": 7,
   "metadata": {},
   "outputs": [
    {
     "data": {
      "text/html": [
       "<div>\n",
       "<style scoped>\n",
       "    .dataframe tbody tr th:only-of-type {\n",
       "        vertical-align: middle;\n",
       "    }\n",
       "\n",
       "    .dataframe tbody tr th {\n",
       "        vertical-align: top;\n",
       "    }\n",
       "\n",
       "    .dataframe thead th {\n",
       "        text-align: right;\n",
       "    }\n",
       "</style>\n",
       "<table border=\"1\" class=\"dataframe\">\n",
       "  <thead>\n",
       "    <tr style=\"text-align: right;\">\n",
       "      <th></th>\n",
       "      <th>№ new</th>\n",
       "      <th>Бумага</th>\n",
       "      <th>Эмитент</th>\n",
       "      <th>Отрасль</th>\n",
       "      <th>Периодичность выплаты купонов</th>\n",
       "      <th>Объем эмиссии</th>\n",
       "      <th>Номинал / минимальный торговый лот</th>\n",
       "      <th>Плавающая ставка</th>\n",
       "      <th>Цена первичного размещения</th>\n",
       "      <th>Доходность первичного размещения</th>\n",
       "      <th>ISIN</th>\n",
       "      <th>Дата погашения</th>\n",
       "      <th>Дата начала начисления купонов</th>\n",
       "      <th>Расчетная дата начала обращения</th>\n",
       "      <th>Дата регистрации</th>\n",
       "      <th>Биржа</th>\n",
       "      <th>Индикативная цена</th>\n",
       "      <th>Доходность эфф.</th>\n",
       "      <th>Дюрация, дней</th>\n",
       "      <th>Торговые площадки</th>\n",
       "      <th>Статус</th>\n",
       "      <th>Купон</th>\n",
       "      <th>Текущий купон, %</th>\n",
       "      <th>Тип ставки</th>\n",
       "      <th>Тип</th>\n",
       "      <th>Специальный вид</th>\n",
       "      <th>Участники сделки</th>\n",
       "      <th>Условия досрочного выкупа</th>\n",
       "      <th>Рейтинг эмитента АКРА</th>\n",
       "      <th>Рейтинг эмитента Эксперт РА</th>\n",
       "      <th>Рейтинг эмиссии АКРА</th>\n",
       "      <th>Рейтинг эмиссии Эксперт РА</th>\n",
       "      <th>Погашение</th>\n",
       "      <th>Оферта (put)</th>\n",
       "      <th>Оферта (call)</th>\n",
       "      <th>Начало обращения</th>\n",
       "    </tr>\n",
       "  </thead>\n",
       "  <tbody>\n",
       "    <tr>\n",
       "      <th>0</th>\n",
       "      <td>6256</td>\n",
       "      <td>ЭБИС, КО-П06</td>\n",
       "      <td>ЭБИС</td>\n",
       "      <td>Другие отрасли</td>\n",
       "      <td>4.0</td>\n",
       "      <td>100000000.0</td>\n",
       "      <td>1000.0</td>\n",
       "      <td>NaN</td>\n",
       "      <td>100.0</td>\n",
       "      <td>14.7419</td>\n",
       "      <td>RU000A102QE8</td>\n",
       "      <td>2023-02-02</td>\n",
       "      <td>2021-02-04</td>\n",
       "      <td>NaT</td>\n",
       "      <td>2020-12-28</td>\n",
       "      <td>Cbonds Estimation</td>\n",
       "      <td>100.25</td>\n",
       "      <td>14.569769</td>\n",
       "      <td>600.764845</td>\n",
       "      <td>NaN</td>\n",
       "      <td>В обращении</td>\n",
       "      <td>1-8 купоны - 14% годовых</td>\n",
       "      <td>14.0</td>\n",
       "      <td>Фиксированная</td>\n",
       "      <td>Облигации</td>\n",
       "      <td>NaN</td>\n",
       "      <td>Организатор: Септем Капитал</td>\n",
       "      <td>NaN</td>\n",
       "      <td>NaN</td>\n",
       "      <td>ruBB+</td>\n",
       "      <td>NaN</td>\n",
       "      <td>NaN</td>\n",
       "      <td>2023-02-02</td>\n",
       "      <td>NaT</td>\n",
       "      <td>NaT</td>\n",
       "      <td>NaT</td>\n",
       "    </tr>\n",
       "  </tbody>\n",
       "</table>\n",
       "</div>"
      ],
      "text/plain": [
       "   № new        Бумага Эмитент         Отрасль  Периодичность выплаты купонов  \\\n",
       "0   6256  ЭБИС, КО-П06    ЭБИС  Другие отрасли                            4.0   \n",
       "\n",
       "   Объем эмиссии  Номинал / минимальный торговый лот Плавающая ставка  \\\n",
       "0    100000000.0                              1000.0              NaN   \n",
       "\n",
       "   Цена первичного размещения  Доходность первичного размещения          ISIN  \\\n",
       "0                       100.0                           14.7419  RU000A102QE8   \n",
       "\n",
       "  Дата погашения Дата начала начисления купонов  \\\n",
       "0     2023-02-02                     2021-02-04   \n",
       "\n",
       "  Расчетная дата начала обращения Дата регистрации              Биржа  \\\n",
       "0                             NaT       2020-12-28  Cbonds Estimation   \n",
       "\n",
       "   Индикативная цена  Доходность эфф.  Дюрация, дней Торговые площадки  \\\n",
       "0             100.25        14.569769     600.764845               NaN   \n",
       "\n",
       "        Статус                     Купон  Текущий купон, %     Тип ставки  \\\n",
       "0  В обращении  1-8 купоны - 14% годовых              14.0  Фиксированная   \n",
       "\n",
       "         Тип Специальный вид             Участники сделки  \\\n",
       "0  Облигации             NaN  Организатор: Септем Капитал   \n",
       "\n",
       "  Условия досрочного выкупа Рейтинг эмитента АКРА Рейтинг эмитента Эксперт РА  \\\n",
       "0                       NaN                   NaN                       ruBB+   \n",
       "\n",
       "  Рейтинг эмиссии АКРА Рейтинг эмиссии Эксперт РА  Погашение Оферта (put)  \\\n",
       "0                  NaN                        NaN 2023-02-02          NaT   \n",
       "\n",
       "  Оферта (call) Начало обращения  \n",
       "0           NaT              NaT  "
      ]
     },
     "execution_count": 7,
     "metadata": {},
     "output_type": "execute_result"
    }
   ],
   "source": [
    "oblig_discrip_data.drop(columns=['Рейтинг эмитента в ин.валюте M/S&P/F', 'Рейтинг эмиссии в ин.валюте M/S&P/F', \n",
    "                                 'Рейтинг эмитента в нац.валюте M/S&P/F', 'Рейтинг эмиссии в нац.валюте M/S&P/F', \n",
    "                                 'Дата начала размещения', 'Дата окончания размещения', \n",
    "                                 'Начало размещения', 'Окончание размещения', '№ old', \n",
    "                                 'Дата оферты (put)', 'Дата оферты (call)', 'Дата торгов', 'Статус эмиссии'],\n",
    "                        inplace=True)\n",
    "oblig_discrip_data.head(1)"
   ]
  },
  {
   "cell_type": "markdown",
   "metadata": {},
   "source": [
    "Открываем таблицу со списком компании (Дата регистрации - дата последней зарегистрированной облигации)"
   ]
  },
  {
   "cell_type": "code",
   "execution_count": 8,
   "metadata": {},
   "outputs": [
    {
     "name": "stdout",
     "output_type": "stream",
     "text": [
      "(616, 4)\n"
     ]
    },
    {
     "data": {
      "text/html": [
       "<div>\n",
       "<style scoped>\n",
       "    .dataframe tbody tr th:only-of-type {\n",
       "        vertical-align: middle;\n",
       "    }\n",
       "\n",
       "    .dataframe tbody tr th {\n",
       "        vertical-align: top;\n",
       "    }\n",
       "\n",
       "    .dataframe thead th {\n",
       "        text-align: right;\n",
       "    }\n",
       "</style>\n",
       "<table border=\"1\" class=\"dataframe\">\n",
       "  <thead>\n",
       "    <tr style=\"text-align: right;\">\n",
       "      <th></th>\n",
       "      <th>№</th>\n",
       "      <th>Эмитент</th>\n",
       "      <th>Отрасль</th>\n",
       "      <th>Дата регистрации</th>\n",
       "    </tr>\n",
       "  </thead>\n",
       "  <tbody>\n",
       "    <tr>\n",
       "      <th>30</th>\n",
       "      <td>31</td>\n",
       "      <td>ГСП-Финанс</td>\n",
       "      <td>Нефтегазовая отрасль</td>\n",
       "      <td>2020-12-28</td>\n",
       "    </tr>\n",
       "    <tr>\n",
       "      <th>31</th>\n",
       "      <td>32</td>\n",
       "      <td>Займер</td>\n",
       "      <td>Финансовые институты</td>\n",
       "      <td>2020-12-28</td>\n",
       "    </tr>\n",
       "    <tr>\n",
       "      <th>32</th>\n",
       "      <td>33</td>\n",
       "      <td>Мосгорломбард</td>\n",
       "      <td>Финансовые институты</td>\n",
       "      <td>2020-12-28</td>\n",
       "    </tr>\n",
       "  </tbody>\n",
       "</table>\n",
       "</div>"
      ],
      "text/plain": [
       "     №        Эмитент               Отрасль Дата регистрации\n",
       "30  31     ГСП-Финанс  Нефтегазовая отрасль       2020-12-28\n",
       "31  32         Займер  Финансовые институты       2020-12-28\n",
       "32  33  Мосгорломбард  Финансовые институты       2020-12-28"
      ]
     },
     "execution_count": 8,
     "metadata": {},
     "output_type": "execute_result"
    }
   ],
   "source": [
    "company_data = pd.read_excel('Список компаний.xlsx', parse_dates=['Дата регистрации'])\n",
    "company_data = company_data.loc[company_data['Дата регистрации'].dt.year >= 2012]\n",
    "company_data = company_data.loc[company_data['Дата регистрации'].dt.year <= 2020]\n",
    "\n",
    "print(company_data.shape)\n",
    "company_data.head(3)"
   ]
  },
  {
   "cell_type": "markdown",
   "metadata": {},
   "source": [
    "## Извлечение данных"
   ]
  },
  {
   "cell_type": "markdown",
   "metadata": {},
   "source": [
    "### Извлечение данных по котировкам акций Московской биржи"
   ]
  },
  {
   "cell_type": "code",
   "execution_count": 9,
   "metadata": {},
   "outputs": [
    {
     "name": "stdout",
     "output_type": "stream",
     "text": [
      "(280, 30)\n"
     ]
    },
    {
     "data": {
      "text/html": [
       "<div>\n",
       "<style scoped>\n",
       "    .dataframe tbody tr th:only-of-type {\n",
       "        vertical-align: middle;\n",
       "    }\n",
       "\n",
       "    .dataframe tbody tr th {\n",
       "        vertical-align: top;\n",
       "    }\n",
       "\n",
       "    .dataframe thead th {\n",
       "        text-align: right;\n",
       "    }\n",
       "</style>\n",
       "<table border=\"1\" class=\"dataframe\">\n",
       "  <thead>\n",
       "    <tr style=\"text-align: right;\">\n",
       "      <th></th>\n",
       "      <th>Название акции</th>\n",
       "      <th>Тикер</th>\n",
       "      <th>Отрасль</th>\n",
       "      <th>Страна</th>\n",
       "      <th>Биржа</th>\n",
       "      <th>Котировальный список</th>\n",
       "      <th>Входит в индекс</th>\n",
       "      <th>Уровень ликвидности</th>\n",
       "      <th>P/E</th>\n",
       "      <th>EPS</th>\n",
       "      <th>Капитализация, млн USD</th>\n",
       "      <th>Дивидендная доходность</th>\n",
       "      <th>Дата</th>\n",
       "      <th>Валюта</th>\n",
       "      <th>Bid</th>\n",
       "      <th>Ask</th>\n",
       "      <th>Open</th>\n",
       "      <th>Min</th>\n",
       "      <th>Max</th>\n",
       "      <th>Last</th>\n",
       "      <th>ΔLast за день</th>\n",
       "      <th>ΔLast за месяц</th>\n",
       "      <th>ΔLast за год</th>\n",
       "      <th>Оборот, млн</th>\n",
       "      <th>Количество сделок</th>\n",
       "      <th>Средняя за 20 дней</th>\n",
       "      <th>Средняя за 50 дней</th>\n",
       "      <th>Средняя за 200 дней</th>\n",
       "      <th>company</th>\n",
       "      <th>type</th>\n",
       "    </tr>\n",
       "  </thead>\n",
       "  <tbody>\n",
       "    <tr>\n",
       "      <th>0</th>\n",
       "      <td>Globaltrans Investment PLC, деп. расп.</td>\n",
       "      <td>GLTR</td>\n",
       "      <td>Транспорт</td>\n",
       "      <td>Россия</td>\n",
       "      <td>Московская Биржа</td>\n",
       "      <td>Первый уровень</td>\n",
       "      <td>Индекс МосБиржи</td>\n",
       "      <td>Средний</td>\n",
       "      <td>NaN</td>\n",
       "      <td>NaN</td>\n",
       "      <td>1124.999583</td>\n",
       "      <td>NaN</td>\n",
       "      <td>2021-04-23</td>\n",
       "      <td>RUB</td>\n",
       "      <td>480.9</td>\n",
       "      <td>480.95</td>\n",
       "      <td>480.05</td>\n",
       "      <td>471.0</td>\n",
       "      <td>486.0</td>\n",
       "      <td>483.0</td>\n",
       "      <td>0.83507</td>\n",
       "      <td>-5.686</td>\n",
       "      <td>NaN</td>\n",
       "      <td>204.52566</td>\n",
       "      <td>5466.0</td>\n",
       "      <td>497.2325</td>\n",
       "      <td>500.631</td>\n",
       "      <td>NaN</td>\n",
       "      <td>Globaltrans Investment PLC</td>\n",
       "      <td>деп. расп.</td>\n",
       "    </tr>\n",
       "  </tbody>\n",
       "</table>\n",
       "</div>"
      ],
      "text/plain": [
       "                           Название акции Тикер    Отрасль  Страна  \\\n",
       "0  Globaltrans Investment PLC, деп. расп.  GLTR  Транспорт  Россия   \n",
       "\n",
       "              Биржа Котировальный список  Входит в индекс Уровень ликвидности  \\\n",
       "0  Московская Биржа       Первый уровень  Индекс МосБиржи             Средний   \n",
       "\n",
       "   P/E  EPS  Капитализация, млн USD  Дивидендная доходность       Дата Валюта  \\\n",
       "0  NaN  NaN             1124.999583                     NaN 2021-04-23    RUB   \n",
       "\n",
       "     Bid     Ask    Open    Min    Max   Last  ΔLast за день  ΔLast за месяц  \\\n",
       "0  480.9  480.95  480.05  471.0  486.0  483.0        0.83507          -5.686   \n",
       "\n",
       "   ΔLast за год  Оборот, млн  Количество сделок  Средняя за 20 дней  \\\n",
       "0           NaN    204.52566             5466.0            497.2325   \n",
       "\n",
       "   Средняя за 50 дней  Средняя за 200 дней                     company  \\\n",
       "0             500.631                  NaN  Globaltrans Investment PLC   \n",
       "\n",
       "          type  \n",
       "0   деп. расп.  "
      ]
     },
     "execution_count": 9,
     "metadata": {},
     "output_type": "execute_result"
    }
   ],
   "source": [
    "stock_discrip_data = pd.read_excel('stock_info.xlsx')\n",
    "stock_discrip_data['company'] = pd.DataFrame(stock_discrip_data['Название акции'].str.split(',').tolist())[0]\n",
    "stock_discrip_data['type'] = pd.DataFrame(stock_discrip_data['Название акции'].str.split(',').tolist())[1]\n",
    "stock_discrip_data = stock_discrip_data.loc[~stock_discrip_data.Тикер.isin(['nomp', 'nompp'])] # какие-то плохие\n",
    "print(stock_discrip_data.shape)\n",
    "stock_discrip_data.head(1)"
   ]
  },
  {
   "cell_type": "code",
   "execution_count": 10,
   "metadata": {},
   "outputs": [
    {
     "data": {
      "text/plain": [
       "((213, 30), (54, 30), (13, 30))"
      ]
     },
     "execution_count": 10,
     "metadata": {},
     "output_type": "execute_result"
    }
   ],
   "source": [
    "stock_discrip_data_common = stock_discrip_data.query('type == \" акция об.\"')\n",
    "stock_discrip_data_preferred = stock_discrip_data.query('type == \" акция прив.\"')\n",
    "stock_discrip_data_depositary_receipt = stock_discrip_data.query('type == \" деп. расп.\"')\n",
    "stock_discrip_data_common.shape, stock_discrip_data_preferred.shape, stock_discrip_data_depositary_receipt.shape"
   ]
  },
  {
   "cell_type": "code",
   "execution_count": 11,
   "metadata": {},
   "outputs": [],
   "source": [
    "# from pandas_datareader import moex"
   ]
  },
  {
   "cell_type": "code",
   "execution_count": 12,
   "metadata": {},
   "outputs": [],
   "source": [
    "# %%time\n",
    "# moex_parser = moex.MoexReader(symbols=stock_discrip_data_common.Тикер.unique()[:100], pause=1, chunksize=10,\n",
    "#                               start='2000-01-01', end='2021-04-24', retry_count=5)\n",
    "# stock_common_1 = moex_parser.read()\n",
    "# stock_common_1 = stock_common_1.loc[:, stock_common_1.columns[stock_common_1.notna().sum() > 0]]\n",
    "# moex_parser.close()\n",
    "\n",
    "# Wall time: 19min 42s"
   ]
  },
  {
   "cell_type": "code",
   "execution_count": 13,
   "metadata": {},
   "outputs": [],
   "source": [
    "# stock_common_1.head(3)"
   ]
  },
  {
   "cell_type": "code",
   "execution_count": 14,
   "metadata": {},
   "outputs": [],
   "source": [
    "# %%time\n",
    "# moex_parser = moex.MoexReader(symbols=stock_discrip_data_common.Тикер.unique()[100:], pause=1, chunksize=10,\n",
    "#                               start='2000-01-01', end='2021-04-24', retry_count=5)\n",
    "# stock_common_2 = moex_parser.read()\n",
    "# stock_common_2 = stock_common_2.loc[:, stock_common_2.columns[stock_common_2.notna().sum() > 0]]\n",
    "# moex_parser.close()\n",
    "\n",
    "# Wall time: 22min 20s"
   ]
  },
  {
   "cell_type": "code",
   "execution_count": 15,
   "metadata": {},
   "outputs": [],
   "source": [
    "# stock_common_2.head(3)"
   ]
  },
  {
   "cell_type": "code",
   "execution_count": 16,
   "metadata": {},
   "outputs": [],
   "source": [
    "# stock_common_1.reset_index(inplace=True)\n",
    "# stock_common_2.reset_index(inplace=True)"
   ]
  },
  {
   "cell_type": "code",
   "execution_count": 17,
   "metadata": {},
   "outputs": [],
   "source": [
    "# intersection_cols = list(set(stock_common_1.columns).intersection(set(stock_common_2.columns)))\n",
    "# stock_common_1 = stock_common_1.loc[:, intersection_cols]\n",
    "# stock_common_2 = stock_common_2.loc[:, intersection_cols]"
   ]
  },
  {
   "cell_type": "code",
   "execution_count": 18,
   "metadata": {},
   "outputs": [],
   "source": [
    "# stock_common_data = pd.concat([stock_common_1, stock_common_2], axis=0)\n",
    "# stock_common_data.shape\n",
    "# (1902128, 46)"
   ]
  },
  {
   "cell_type": "code",
   "execution_count": 19,
   "metadata": {},
   "outputs": [],
   "source": [
    "# stock_common_data.columns\n",
    "\n",
    "# ['LOW', 'BOARDID', 'TRADEDATE', 'LASTPRICE', 'COUPONVALUE', 'REGNUMBER',\n",
    "#  'WAVAL', 'NUMBID', 'VALUE', 'ISSUESIZE', 'ISIN', 'LISTNAME', 'VOLUME',\n",
    "#  'SECID', 'OPEN', 'HIGH', 'MARKETPRICE2', 'ADMITTEDQUOTE', 'CLOSEVAL',\n",
    "#  'OPENVAL', 'MPVALTRD', 'ADMITTEDVALUE', 'BID', 'BOARDNAME', 'DECIMALS',\n",
    "#  'FACEUNIT', 'MARKETPRICE3', 'DAILYCAPITALIZATION', 'HIGHBID',\n",
    "#  'MARKETPRICE3TRADESVALUE', 'CURRENCYID', 'COUPONPERCENT', 'OFFER',\n",
    "#  'NUMOFFER', 'TYPE', 'WAPRICE', 'NUMTRADES', 'LOWOFFER', 'SHORTNAME',\n",
    "#  'MONTHLYCAPITALIZATION', 'CLOSE', 'LASTTRADEDATE', 'TRADINGSESSION',\n",
    "#  'LEGALCLOSEPRICE', 'MP2VALTRD', 'FACEVALUE']"
   ]
  },
  {
   "cell_type": "code",
   "execution_count": 20,
   "metadata": {},
   "outputs": [],
   "source": [
    "# stock_common_data = stock_common_data.loc[:, stock_common_data.columns[stock_common_data.notna().sum() > 500000]]\n",
    "# stock_common_data.shape\n",
    "# (1902128, 17)"
   ]
  },
  {
   "cell_type": "code",
   "execution_count": 21,
   "metadata": {},
   "outputs": [],
   "source": [
    "# stock_common_data.sort_values(['SECID', 'TRADEDATE'], inplace=True)\n",
    "# stock_common_data.to_pickle('stock_common_data.pkl')"
   ]
  },
  {
   "cell_type": "code",
   "execution_count": 22,
   "metadata": {},
   "outputs": [],
   "source": [
    "# %%time\n",
    "# moex_parser = moex.MoexReader(symbols=stock_discrip_data_preferred.Тикер.unique(), pause=1, chunksize=10,\n",
    "#                               start='2000-01-01', end='2021-04-24', retry_count=5)\n",
    "# stock_preferred = moex_parser.read()\n",
    "# stock_preferred = stock_preferred.loc[:, stock_preferred.columns[stock_preferred.notna().sum() > 0]].reset_index()\n",
    "# moex_parser.close()\n",
    "\n",
    "# Wall time: 10min 21s"
   ]
  },
  {
   "cell_type": "code",
   "execution_count": 23,
   "metadata": {},
   "outputs": [],
   "source": [
    "# stock_preferred = stock_preferred.loc[:, stock_preferred.columns[stock_preferred.notna().sum() > 200000]]\n",
    "# stock_preferred.shape\n",
    "# (418812, 13)"
   ]
  },
  {
   "cell_type": "code",
   "execution_count": 24,
   "metadata": {},
   "outputs": [],
   "source": [
    "# stock_preferred.sort_values(['SECID', 'TRADEDATE'], inplace=True)\n",
    "# stock_preferred.to_pickle('stock_preferred_data.pkl')"
   ]
  },
  {
   "cell_type": "code",
   "execution_count": 25,
   "metadata": {},
   "outputs": [],
   "source": [
    "# %%time\n",
    "# moex_parser = moex.MoexReader(symbols=stock_discrip_data_depositary_receipt.Тикер.unique(), pause=1, chunksize=15,\n",
    "#                               start='2000-01-01', end='2021-04-24', retry_count=5)\n",
    "# stock_depositary_receipt = moex_parser.read()\n",
    "# stock_depositary_receipt = stock_depositary_receipt.loc[:, stock_depositary_receipt.columns[\n",
    "#     stock_depositary_receipt.notna().sum() > 0]].reset_index()\n",
    "# moex_parser.close()\n",
    "\n",
    "# Wall time: 16.1 s"
   ]
  },
  {
   "cell_type": "code",
   "execution_count": 26,
   "metadata": {},
   "outputs": [],
   "source": [
    "# stock_depositary_receipt = stock_depositary_receipt.loc[:, stock_depositary_receipt.columns[\n",
    "#     stock_depositary_receipt.notna().sum() > 10000]]\n",
    "# stock_depositary_receipt.shape\n",
    "# (29598, 13)"
   ]
  },
  {
   "cell_type": "code",
   "execution_count": 27,
   "metadata": {},
   "outputs": [],
   "source": [
    "# stock_depositary_receipt.sort_values(['SECID', 'TRADEDATE'], inplace=True)\n",
    "# stock_depositary_receipt.to_pickle('stock_depositary_receipt_data.pkl')"
   ]
  },
  {
   "cell_type": "code",
   "execution_count": 28,
   "metadata": {},
   "outputs": [
    {
     "data": {
      "text/plain": [
       "((1902128, 17), (418812, 13), (29598, 13))"
      ]
     },
     "execution_count": 28,
     "metadata": {},
     "output_type": "execute_result"
    }
   ],
   "source": [
    "stock_common_data = pd.read_pickle('stock_common_data.pkl').reset_index(drop=True)\n",
    "stock_preferred_data = pd.read_pickle('stock_preferred_data.pkl').reset_index(drop=True)\n",
    "stock_depositary_receipt_data = pd.read_pickle('stock_depositary_receipt_data.pkl').reset_index(drop=True)\n",
    "stock_common_data.shape, stock_preferred_data.shape, stock_depositary_receipt_data.shape"
   ]
  },
  {
   "cell_type": "code",
   "execution_count": 29,
   "metadata": {},
   "outputs": [],
   "source": [
    "stock_common_data = stock_common_data.loc[stock_common_data.BOARDID == 'TQBR']"
   ]
  },
  {
   "cell_type": "code",
   "execution_count": 31,
   "metadata": {},
   "outputs": [],
   "source": [
    "# plt.figure(figsize=(16, 7))\n",
    "# sns.lineplot(data=stock_common_data.loc[stock_common_data.SECID == 'LKOH'], x='TRADEDATE', y='CLOSE')"
   ]
  },
  {
   "cell_type": "markdown",
   "metadata": {},
   "source": [
    "### Полуавтоматизированное извлечение облигационных временных рядов"
   ]
  },
  {
   "cell_type": "code",
   "execution_count": 32,
   "metadata": {},
   "outputs": [],
   "source": [
    "# мини-код для создания 6266 таблиц, куда будем заносить данные по облигациям\n",
    "# import xlsxwriter\n",
    "\n",
    "# for i in trange(1, oblig_discrip_data.shape[0]+1):\n",
    "#     workbook = xlsxwriter.Workbook(f'obligations/{i:04d}.xlsx')\n",
    "#     worksheet = workbook.add_worksheet()\n",
    "#     workbook.close()\n",
    "\n",
    "# 100%|██████████| 6266/6266 [01:33<00:00, 66.84it/s]"
   ]
  },
  {
   "cell_type": "markdown",
   "metadata": {},
   "source": [
    "Открываем массив с ещё не извлечёнными облигациями (получен с помощью проверки в следующем блоке) и итерируемся по нему"
   ]
  },
  {
   "cell_type": "code",
   "execution_count": 33,
   "metadata": {},
   "outputs": [],
   "source": [
    "# with open(\"errors_bonds.txt\", \"rb\") as fp: # Unpickling\n",
    "#     errors = pickle.load(fp)"
   ]
  },
  {
   "cell_type": "code",
   "execution_count": 34,
   "metadata": {
    "scrolled": false
   },
   "outputs": [],
   "source": [
    "# pause_place = 4000\n",
    "# ISIN_codes = oblig_discrip_data.loc[(oblig_discrip_data['№ new'].isin(errors))].ISIN.values\n",
    "# ids = oblig_discrip_data.loc[(oblig_discrip_data['№ new'].isin(errors))]['№ new'].values\n",
    "\n",
    "# ISIN_codes = ISIN_codes[1::11]\n",
    "# ids = ids[1::11]\n",
    "\n",
    "# print(oblig_discrip_data.loc[oblig_discrip_data['ISIN'].isin(ISIN_codes)]['Бумага'].values[:10])"
   ]
  },
  {
   "cell_type": "code",
   "execution_count": 35,
   "metadata": {
    "scrolled": false
   },
   "outputs": [],
   "source": [
    "# len(ids)"
   ]
  },
  {
   "cell_type": "code",
   "execution_count": 36,
   "metadata": {
    "scrolled": false
   },
   "outputs": [],
   "source": [
    "# # фиктивное действие, чтобы успеть переключить экран\n",
    "# pyautogui.moveTo(500, 500, duration=3)\n",
    "# for i, code in tqdm(zip(ids, ISIN_codes)):\n",
    "#     # клик на поиск и ввод номера файла\n",
    "#     pyautogui.click(x=1415, y=55, clicks=2, interval=3, button='left')\n",
    "#     pyautogui.typewrite(f'{i:04d}.xlsx', interval=0.4)\n",
    "#     time.sleep(3)\n",
    "#     # клик на файл, затем открытие файла\n",
    "#     pyautogui.click(x=200, y=160)\n",
    "#     time.sleep(1)\n",
    "#     pyautogui.click(x=200, y=160, clicks=1, button='right')\n",
    "#     pyautogui.click(x=202, y=162, clicks=1, button='left')\n",
    "#     time.sleep(8)\n",
    "#     # клик на cbonds иконку\n",
    "#     pyautogui.click(x=780, y=110)\n",
    "#     time.sleep(9)\n",
    "#     # наводим на поле с паролем и логинимся\n",
    "#     pyautogui.click(x=615, y=375, clicks=1, interval=1, button='left')\n",
    "#     pyautogui.press('enter')\n",
    "#     time.sleep(10)\n",
    "#     # отматываем на поле ввода номера облигации и соответственно вводим\n",
    "#     pyautogui.scroll(-33)\n",
    "#     pyautogui.click(x=615, y=375)\n",
    "#     pyautogui.typewrite(f'{code}', interval=0.1)\n",
    "#     time.sleep(7)\n",
    "#     # нажимаем на всплывшую облигацию\n",
    "#     pyautogui.click(x=655, y=415)\n",
    "#     time.sleep(2)\n",
    "#     # стираем дефолтную дату и вводим нашу\n",
    "#     pyautogui.click(x=655, y=415)\n",
    "#     pyautogui.press(['backspace' for i in range(10)], interval=0.1)\n",
    "#     pyautogui.typewrite(f'01.01.1990', interval=0.1)\n",
    "#     time.sleep(1)\n",
    "#     # чуть отматываем вниз и извлекаем данные\n",
    "#     pyautogui.scroll(-3)\n",
    "#     pyautogui.click()\n",
    "#     time.sleep(15)\n",
    "#     # на всякий случай кликаем два раза на сохранить (через паузу)\n",
    "#     pyautogui.click(x=303, y=43, clicks=2, interval=5)\n",
    "#     time.sleep(5)\n",
    "#     # закрываем файл\n",
    "#     pyautogui.click(x=32, y=43)\n",
    "#     time.sleep(5)"
   ]
  },
  {
   "cell_type": "markdown",
   "metadata": {},
   "source": [
    "## Соединение данных по временным рядам облигаций"
   ]
  },
  {
   "cell_type": "markdown",
   "metadata": {},
   "source": [
    "Запишем список колонок, которые не будем использовать и поэтому будем сразу удалять (закомментированные оставляем)"
   ]
  },
  {
   "cell_type": "code",
   "execution_count": 36,
   "metadata": {},
   "outputs": [],
   "source": [
    "columns_to_drop = [\n",
    "    # 'Дата торгов', 'Название биржи', \n",
    "    # 'Котировка на покупку, закрытие (bid), %', 'Котировка на продажу, закрытие (ask), %', 'Bid-ask спред, б.п.', \n",
    "    'Цена средняя, %', 'Цена открытия, %', 'Цена минимальная, %', 'Цена максимальная, %', 'Цена последняя, %', \n",
    "    'Цена средневзвешенная, %', \n",
    "    # 'Рыночная цена, %', \n",
    "    'Рыночная цена 2 (пенс.накопл.), %', \n",
    "    # 'Признаваемая котировка, %', 'Цена закрытия, %', 'Индикативная цена, %', 'Тип индикативной цены', \n",
    "    # 'Оборот', 'Количество сделок', 'Объем сделок в бумагах', 'Текущая ставка купона, %', \n",
    "    # 'Дата погашения', 'Доходность к погашению по инд. цене, %', \n",
    "    'Доходность к погашению по цене bid, %', 'Доходность к погашению по цене ask, %', \n",
    "    'Доходность к погашению по цене last, %', \n",
    "    # 'Доходность к погашению по цене закрытия, %', 'НКД', 'Дюрация', 'Модифицированная дюрация', \n",
    "    # 'Дата оферты (put/call)', 'Доходность к оферте по инд. цене, %', \n",
    "    'Доходность к оферте по цене bid, %', 'Доходность к оферте по цене ask, %', \n",
    "    'Доходность к оферте по последней цене, %', \n",
    "    # 'Доходность к оферте по цене закрытия, %', \n",
    "    # 'Дюрация к оферте', 'Модифицированная дюрация к оферте', 'G-spread, б.п.', \n",
    "    'G-spread, б.п..1', 'Бенчмарк для G-spread'\n",
    "]"
   ]
  },
  {
   "cell_type": "markdown",
   "metadata": {},
   "source": [
    "Далее идёт цикл для формирования панели в трёх вариантах:\n",
    "\n",
    "1. ежедневная периодичность;\n",
    "\n",
    "2. недельная периодичность;\n",
    "\n",
    "3. квартальная периодичность.\n",
    "\n",
    "Также ниже можно увидеть таблицы с уже соединёнными (на момент запуска цикла) данными: чтобы не собирать данные по кусочкам снова и снова с нуля, после цикла они будут сохраняться и в цикле лишь будут добавляться новые облигации."
   ]
  },
  {
   "cell_type": "code",
   "execution_count": 37,
   "metadata": {
    "scrolled": false
   },
   "outputs": [
    {
     "data": {
      "text/plain": [
       "((17544, 27), (202843, 27), (969674, 27))"
      ]
     },
     "execution_count": 37,
     "metadata": {},
     "output_type": "execute_result"
    }
   ],
   "source": [
    "all_quarterly_data = pd.read_pickle('all_quarterly_data.pkl')\n",
    "all_weekly_data = pd.read_pickle('all_weekly_data.pkl')\n",
    "all_daily_data = pd.read_pickle('all_daily_data.pkl')\n",
    "all_quarterly_data.shape, all_weekly_data.shape, all_daily_data.shape"
   ]
  },
  {
   "cell_type": "code",
   "execution_count": 38,
   "metadata": {},
   "outputs": [
    {
     "data": {
      "text/plain": [
       "1635"
      ]
     },
     "execution_count": 38,
     "metadata": {},
     "output_type": "execute_result"
    }
   ],
   "source": [
    "already_added_bonds = list(all_daily_data.bond.unique())\n",
    "len(already_added_bonds)"
   ]
  },
  {
   "cell_type": "code",
   "execution_count": 39,
   "metadata": {},
   "outputs": [],
   "source": [
    "not_take = oblig_discrip_data.loc[oblig_discrip_data.Статус.isin(\n",
    "    ['Планируется', 'Дефолт по погашению', 'Аннулирована']), 'Бумага'].tolist()"
   ]
  },
  {
   "cell_type": "code",
   "execution_count": 40,
   "metadata": {
    "scrolled": false
   },
   "outputs": [
    {
     "name": "stderr",
     "output_type": "stream",
     "text": [
      "  0%|          | 0/4237 [00:00<?, ?it/s]<ipython-input-40-bab26344d219>:27: RuntimeWarning: invalid value encountered in long_scalars\n",
      "  if (new_data.shape[0] == 0) | (check_value < 50) | (check_value / new_data.shape[0] < 0.4):\n",
      "100%|██████████| 4237/4237 [04:51<00:00, 14.55it/s]"
     ]
    },
    {
     "name": "stdout",
     "output_type": "stream",
     "text": [
      "Bonds added: 0\n"
     ]
    },
    {
     "name": "stderr",
     "output_type": "stream",
     "text": [
      "\n"
     ]
    }
   ],
   "source": [
    "# all_daily_data, all_weekly_data, all_quarterly_data = pd.DataFrame(), pd.DataFrame(), pd.DataFrame()\n",
    "errors, wrong_parsed, nonrelevant, inadequate, added = [], [], [], [], 0\n",
    "\n",
    "for i in tqdm(oblig_discrip_data['№ new'].values):\n",
    "    \n",
    "    if oblig_discrip_data.loc[oblig_discrip_data['№ new'] == i, 'Бумага'].values[0] in already_added_bonds:\n",
    "        continue\n",
    "    \n",
    "    if oblig_discrip_data.loc[oblig_discrip_data['№ new'] == i, 'Бумага'].values[0] in not_take:\n",
    "        inadequate.append(i)\n",
    "        continue\n",
    "    \n",
    "    try:\n",
    "        new_data = pd.read_excel(f'obligations/{i:04d}.xlsx', sheet_name='CbondsIssueQuotes', \n",
    "                                 skiprows=6, parse_dates=['Дата торгов', \n",
    "                                                          'Дата погашения', \n",
    "                                                          'Дата оферты (put/call)'])\n",
    "        \n",
    "        new_data.drop(columns=columns_to_drop, inplace=True)\n",
    "        new_data = new_data.loc[new_data['Название биржи'].isin(['Московская биржа Т+', 'Московская Биржа'])]\n",
    "        \n",
    "        new_data = new_data.drop_duplicates(subset='Дата торгов', keep='first').set_index('Дата торгов')\n",
    "        \n",
    "        # если мало наблюдений - точно не используем и прерываем обработку уже здесь\n",
    "        # будем делать порог и в абсолютном и относительном значениях\n",
    "        check_value = new_data['Bid-ask спред, б.п.'].notna().sum()\n",
    "        if (new_data.shape[0] == 0) | (check_value < 50) | (check_value / new_data.shape[0] < 0.4):\n",
    "            nonrelevant.append(i)\n",
    "            continue\n",
    "        \n",
    "        # открываем таблицу для проведения мини-проверок и сохранения имени облигации\n",
    "        workbook = xlrd.open_workbook(f'obligations/{i:04d}.xlsx')\n",
    "        worksheet = workbook.sheet_by_name('CbondsIssueQuotes')\n",
    "        \n",
    "        print(f'Problem with {i}') if worksheet.cell(2, 0).value[:7] != 'Эмиссия' else None\n",
    "        \n",
    "        if worksheet.cell(3, 0).value[8:18] != '01.01.1990':\n",
    "            wrong_parsed.append(i)\n",
    "            continue\n",
    "        \n",
    "        bond_name = worksheet.cell(2, 0).value[9:]\n",
    "        \n",
    "        non_numeric = ['Название биржи', 'Тип индикативной цены', 'Дата погашения', 'Дата оферты (put/call)']\n",
    "        \n",
    "        # агрегируем поквартально и понедельно\n",
    "        agg_q_data = new_data.drop(\n",
    "            columns=non_numeric).resample('Q').mean().merge(\n",
    "            new_data.loc[:, non_numeric].resample('Q').last(), left_index=True, right_index=True).reset_index()\n",
    "        \n",
    "        agg_w_data = new_data.drop(\n",
    "            columns=non_numeric).resample('W').mean().merge(\n",
    "            new_data.loc[:, non_numeric].resample('W').last(), left_index=True, right_index=True).reset_index()\n",
    "        \n",
    "        new_data.reset_index(inplace=True)\n",
    "        \n",
    "        # добавляем имя бонда к таблице и заносим данные в общие панельные таблицы\n",
    "        agg_q_data['bond'] = bond_name\n",
    "        agg_w_data['bond'] = bond_name\n",
    "        new_data['bond'] = bond_name\n",
    "        \n",
    "        all_quarterly_data = pd.concat([all_quarterly_data, agg_q_data], axis=0)\n",
    "        all_weekly_data = pd.concat([all_weekly_data, agg_w_data], axis=0)\n",
    "        all_daily_data = pd.concat([all_daily_data, new_data], axis=0)\n",
    "        \n",
    "        added += 1\n",
    "    \n",
    "    except:\n",
    "        errors.append(i) # происходит в случае ошибок (отсутствия информации или иных причин)\n",
    "        \n",
    "print(f'Bonds added: {added}')"
   ]
  },
  {
   "cell_type": "markdown",
   "metadata": {},
   "source": [
    "Смотрим какие таблицы вышли по размеру, смотрим сколько вышло бондов и изучаем другие характеристики"
   ]
  },
  {
   "cell_type": "code",
   "execution_count": 41,
   "metadata": {
    "scrolled": true
   },
   "outputs": [
    {
     "data": {
      "text/plain": [
       "((17544, 27), (202843, 27), (969674, 27))"
      ]
     },
     "execution_count": 41,
     "metadata": {},
     "output_type": "execute_result"
    }
   ],
   "source": [
    "all_quarterly_data.shape, all_weekly_data.shape, all_daily_data.shape"
   ]
  },
  {
   "cell_type": "code",
   "execution_count": 42,
   "metadata": {},
   "outputs": [
    {
     "data": {
      "text/plain": [
       "(1462, 1635, 0, 42, 1098)"
      ]
     },
     "execution_count": 42,
     "metadata": {},
     "output_type": "execute_result"
    }
   ],
   "source": [
    "len(errors), all_weekly_data.bond.nunique(), len(wrong_parsed), len(inadequate), len(nonrelevant)"
   ]
  },
  {
   "cell_type": "markdown",
   "metadata": {},
   "source": [
    "Сохраняем проблемные бонды, чтобы при новом прогоне спарсить и их"
   ]
  },
  {
   "cell_type": "code",
   "execution_count": 43,
   "metadata": {},
   "outputs": [],
   "source": [
    "with open(\"errors_bonds.txt\", \"wb\") as fp: # Pickling\n",
    "    pickle.dump(errors+wrong_parsed, fp)"
   ]
  },
  {
   "cell_type": "markdown",
   "metadata": {},
   "source": [
    "__Checkpoint start__"
   ]
  },
  {
   "cell_type": "code",
   "execution_count": 44,
   "metadata": {},
   "outputs": [],
   "source": [
    "all_quarterly_data.to_pickle('all_quarterly_data.pkl')\n",
    "all_weekly_data.to_pickle('all_weekly_data.pkl')\n",
    "all_daily_data.to_pickle('all_daily_data.pkl')"
   ]
  },
  {
   "cell_type": "markdown",
   "metadata": {},
   "source": [
    "__Checkpoint end__"
   ]
  },
  {
   "cell_type": "markdown",
   "metadata": {},
   "source": [
    "## Преобразование данных"
   ]
  },
  {
   "cell_type": "code",
   "execution_count": 30,
   "metadata": {
    "scrolled": true
   },
   "outputs": [
    {
     "data": {
      "text/plain": [
       "((17544, 27), (202843, 27), (969674, 27))"
      ]
     },
     "execution_count": 30,
     "metadata": {},
     "output_type": "execute_result"
    }
   ],
   "source": [
    "all_quarterly_data = pd.read_pickle('all_quarterly_data.pkl')\n",
    "all_weekly_data = pd.read_pickle('all_weekly_data.pkl')\n",
    "all_daily_data = pd.read_pickle('all_daily_data.pkl')\n",
    "all_quarterly_data.shape, all_weekly_data.shape, all_daily_data.shape"
   ]
  },
  {
   "cell_type": "markdown",
   "metadata": {},
   "source": [
    "Переименуем столбцы для удобства"
   ]
  },
  {
   "cell_type": "code",
   "execution_count": 31,
   "metadata": {},
   "outputs": [],
   "source": [
    "translation_1 = {'Дата торгов': 'date', \n",
    "                 'Название биржи': 'exchange',\n",
    "                 'Котировка на покупку, закрытие (bid), %': 'bid',\n",
    "                 'Котировка на продажу, закрытие (ask), %': 'ask',\n",
    "                 'Bid-ask спред, б.п.': 'bid_ask_bp',\n",
    "                 'Рыночная цена, %': 'market_price',\n",
    "                 'Признаваемая котировка, %': 'admitted_price',\n",
    "                 'Цена закрытия, %': 'close_price',\n",
    "                 'Индикативная цена, %': 'indicative',\n",
    "                 'Тип индикативной цены': 'indicative_type',\n",
    "                 'Оборот': 'turnover',\n",
    "                 'Количество сделок': 'num_of_deals',\n",
    "                 'Объем сделок в бумагах': 'turnover_in_securities',\n",
    "                 'Текущая ставка купона, %': 'current_coupon',\n",
    "                 'Дата погашения': 'maturity',\n",
    "                 'Доходность к погашению по инд. цене, %': 'ytm_ind_p',\n",
    "                 'Доходность к погашению по цене закрытия, %': 'ytm_close_p',\n",
    "                 'НКД': 'accrued_interest', \n",
    "                 'Дюрация': 'duration',\n",
    "                 'Модифицированная дюрация': 'mod_duration',\n",
    "                 'Дата оферты (put/call)': 'put_call_date',\n",
    "                 'Доходность к оферте по инд. цене, %': 'ytm_oferta_ind_p',\n",
    "                 'Доходность к оферте по цене закрытия, %': 'ytm_oferta_close_p',\n",
    "                 'Дюрация к оферте': 'dur_to_p_c_date',\n",
    "                 'Модифицированная дюрация к оферте': 'mod_dur_to_p_c_date',\n",
    "                 'G-spread, б.п.': 'g_spread_bp'\n",
    "              }\n",
    "\n",
    "for df in [all_daily_data, all_weekly_data, all_quarterly_data]:\n",
    "    df.rename(columns=translation_1, inplace=True)"
   ]
  },
  {
   "cell_type": "code",
   "execution_count": 32,
   "metadata": {},
   "outputs": [],
   "source": [
    "sns.set_theme(style=\"darkgrid\")"
   ]
  },
  {
   "cell_type": "code",
   "execution_count": 33,
   "metadata": {},
   "outputs": [
    {
     "data": {
      "image/png": "[encoded data removed]",
      "text/plain": [
       "<Figure size 1224x1008 with 2 Axes>"
      ]
     },
     "metadata": {},
     "output_type": "display_data"
    }
   ],
   "source": [
    "fig, ax = plt.subplots(2, 1, figsize=(17, 14))\n",
    "\n",
    "bond_name = 'Роснефть, 06'\n",
    "\n",
    "data = all_daily_data.loc[all_daily_data.bond == bond_name]\n",
    "\n",
    "sns.lineplot(x=data.loc[:, 'date'], \n",
    "             y=data.loc[:, 'bid'], label='bid', ax=ax[0])\n",
    "sns.lineplot(x=data.loc[:, 'date'], \n",
    "             y=data.loc[:, 'ask'], label='ask', ax=ax[0])\n",
    "sns.lineplot(x=data.loc[:, 'date'], \n",
    "             y=data.loc[:, 'close_price'], label='close price', ax=ax[0])\n",
    "ax[0].set_xlabel('Дата', fontsize=12)\n",
    "ax[0].set_ylabel('Показатели в процентах', fontsize=12)\n",
    "ax[0].set_title(bond_name + ', ежедневная динамика', fontsize=13)\n",
    "\n",
    "data = all_weekly_data.loc[all_weekly_data.bond == bond_name]\n",
    "\n",
    "sns.lineplot(x=data.loc[:, 'date'], \n",
    "             y=data.loc[:, 'bid'], label='bid', ax=ax[1])\n",
    "sns.lineplot(x=data.loc[:, 'date'], \n",
    "             y=data.loc[:, 'ask'], label='ask', ax=ax[1])\n",
    "sns.lineplot(x=data.loc[:, 'date'], \n",
    "             y=data.loc[:, 'close_price'], label='close price', ax=ax[1])\n",
    "ax[1].set_xlabel('Дата', fontsize=12)\n",
    "ax[1].set_ylabel('Показатели в процентах', fontsize=12)\n",
    "ax[1].set_title(bond_name + ', еженедельная динамика', fontsize=13)\n",
    "\n",
    "plt.show()"
   ]
  },
  {
   "cell_type": "code",
   "execution_count": 34,
   "metadata": {},
   "outputs": [],
   "source": [
    "public_companies = set(oblig_discrip_data.Эмитент).intersection(set(stock_discrip_data.company))\n",
    "bonds_of_public = oblig_discrip_data.loc[oblig_discrip_data.Эмитент.isin(public_companies), 'Бумага'].tolist()"
   ]
  },
  {
   "cell_type": "code",
   "execution_count": 35,
   "metadata": {
    "scrolled": false
   },
   "outputs": [
    {
     "data": {
      "text/plain": [
       "Альфа-Банк            23\n",
       "Газпромбанк           21\n",
       "Банк ФК Открытие      20\n",
       "ГТЛК                  17\n",
       "Россельхозбанк        16\n",
       "ДОМ.РФ                15\n",
       "РЖД                   12\n",
       "ВЭБ                   10\n",
       "ВЭБ-лизинг            10\n",
       "Русфинанс Банк         9\n",
       "АКБ Пересвет (ПАО)     8\n",
       "Name: Эмитент, dtype: int64"
      ]
     },
     "execution_count": 35,
     "metadata": {},
     "output_type": "execute_result"
    }
   ],
   "source": [
    "oblig_discrip_data.loc[oblig_discrip_data.Бумага.isin(\n",
    "    list(all_weekly_data.loc[~all_weekly_data.bond.isin(bonds_of_public)].bond.value_counts().head(500).index)), \n",
    "                       'Эмитент'].value_counts().head(11)"
   ]
  },
  {
   "cell_type": "code",
   "execution_count": 36,
   "metadata": {},
   "outputs": [
    {
     "data": {
      "text/plain": [
       "(67677, 27)"
      ]
     },
     "execution_count": 36,
     "metadata": {},
     "output_type": "execute_result"
    }
   ],
   "source": [
    "all_weekly_data = all_weekly_data.loc[all_weekly_data.bond.isin(bonds_of_public)]\n",
    "all_weekly_data.shape"
   ]
  },
  {
   "cell_type": "markdown",
   "metadata": {},
   "source": [
    "Прежде всего, удалим бонды облигации с \"рваной\" информацией."
   ]
  },
  {
   "cell_type": "code",
   "execution_count": 37,
   "metadata": {},
   "outputs": [],
   "source": [
    "all_weekly_data['cum_count'] = all_weekly_data.groupby(['bond']).cumcount() + 1"
   ]
  },
  {
   "cell_type": "code",
   "execution_count": 38,
   "metadata": {},
   "outputs": [],
   "source": [
    "all_weekly_data = all_weekly_data[~((all_weekly_data.cum_count <= 16) & (all_weekly_data.g_spread_bp.isna()))]"
   ]
  },
  {
   "cell_type": "code",
   "execution_count": 39,
   "metadata": {
    "scrolled": true
   },
   "outputs": [
    {
     "data": {
      "text/plain": [
       "bond\n",
       "Ашинский метзавод, БО-01                             333\n",
       "БАНК УРАЛСИБ, 04                                       1\n",
       "БАНК УРАЛСИБ, 05                                       1\n",
       "Банк Держава, БО-01                                  276\n",
       "Банк Санкт-Петербург, БО-08                            1\n",
       "ВТБ, Б-1-25                                            1\n",
       "ВТБ, Б-1-3                                             1\n",
       "ВТБ, Б-1-33                                            1\n",
       "ВТБ, Б-1-35                                            1\n",
       "ВТБ, Б-1-36                                            1\n",
       "ВТБ, Б-1-6                                             1\n",
       "ВТБ, СУБ-Т2-2                                          9\n",
       "ГЕОТЕК Сейсморазведка, 01                            134\n",
       "Группа компаний Самолет, БО-П06                       36\n",
       "Детский мир, БО-04                                     1\n",
       "ИНГРАД (ПАО), 001P-01                                111\n",
       "ИНГРАД (ПАО), БО-01                                  147\n",
       "КАМАЗ, БО-09                                         136\n",
       "КАМАЗ, БО-10                                         136\n",
       "КАМАЗ, БО-11                                         135\n",
       "Левенгук, БО-01                                        1\n",
       "МРСК Центра, БО-06                                     2\n",
       "Магнит, БО-001P-01                                     1\n",
       "Магнит, БО-001P-02                                     1\n",
       "Магнит, БО-11                                          1\n",
       "МегаФон, БО-001P-04                                    1\n",
       "Московский кредитный банк, 15                          1\n",
       "НЛМК, БО-13                                            1\n",
       "Новороссийский морской торговый порт, БО-02            1\n",
       "ПИК-Специализированный застройщик, БО-04               1\n",
       "ПИК-Специализированный застройщик, БО-05               1\n",
       "ПИК-Специализированный застройщик, БО-06               1\n",
       "ПИК-Специализированный застройщик, БО-07               4\n",
       "ПИК-Специализированный застройщик, БО-П01             60\n",
       "ПИК-Специализированный застройщик, БО-П06            113\n",
       "РОСБАНК, А7                                            1\n",
       "РОСБАНК, А8                                            2\n",
       "РОСБАНК, БО-14                                         5\n",
       "Россети Ленэнерго, 04                                  1\n",
       "Россети Московский регион, БО-02                       1\n",
       "Россети Московский регион, БО-04                      68\n",
       "Россети Московский регион, БО-06                       2\n",
       "Россети Московский регион, БО-08                       2\n",
       "Россети Московский регион, БО-09                       1\n",
       "Россети, БО-001P-01                                   11\n",
       "Ростелеком, 17                                         1\n",
       "Русская Аквакультура, БО-01                            1\n",
       "Сбербанк России, БО-17                                 1\n",
       "Сбербанк России, БО-18                                 1\n",
       "Сбербанк России, БСО-OGZD_DIGIPRT-24m-001Р-02R         2\n",
       "Сбербанк России, ИОС-BSK_FIX_MEM-24m-001P-41R          4\n",
       "Сбербанк России, ИОС-BSK_FIX_MEM-24m-001P-49R          4\n",
       "Сбербанк России, ИОС-BSK_FIX_MEM-24m-001P-76R          4\n",
       "Сбербанк России, ИОС-BSK_FIX_MEM-24m-001Р-70R          6\n",
       "Сбербанк России, ИОС-BSK_FIX_MEM-5Y-001P-219R          2\n",
       "Сбербанк России, ИОС-BSK_FIX_MEM-60m-001Р-173R        12\n",
       "Сбербанк России, ИОС-EURUSD_RA_FIX-1Y-001Р-136R        1\n",
       "Сбербанк России, ИОС-EURUSD_RA_FIX-1Y-001Р-84R         1\n",
       "Сбербанк России, ИОС-GOLD_FIX-182d-001Р-66R            2\n",
       "Сбербанк России, ИОС-KR_FIX-182d-001Р-40R              1\n",
       "Сбербанк России, ИОС-KR_FIX-364d-001P-43R              3\n",
       "Сбербанк России, ИОС-KR_FIX-365d-001Р-69R              2\n",
       "Сбербанк России, ИОС-KR_FIX-365d-001Р-94R              1\n",
       "Сбербанк России, ИОС-RUBUSD_RA_FIX-1Y-001Р-122R        1\n",
       "Сбербанк России, ИОС-SP_ROT-PRT-36m-001Р-85R          10\n",
       "Сбербанк России, ИОС-SX5E-T_W-12m-001Р-111R            2\n",
       "Сбербанк России, ИОС-SX5E-T_W-12m-001Р-128R            1\n",
       "Сбербанк России, ИОС-SX5E-T_W-12m-001Р-167R            1\n",
       "Сбербанк России, ИОС-UKX-T_W-12m-001Р-140R             1\n",
       "Сбербанк России, ИОС-USDRUB_FIX-182d-001Р-247R         1\n",
       "Сбербанк России, ИОС-USDRUB_FIX-182d-001Р-268R         1\n",
       "Сбербанк России, ИОС-USDRUB_FIX-182d-001Р-281R         1\n",
       "Сбербанк России, ИОС-USDRUB_FIX-182d-001Р-313R         1\n",
       "Сбербанк России, ИОС-USDRUB_FIX-6M-001Р-138R           1\n",
       "Сбербанк России, ИОС-USDRUB_FIX-6M-001Р-154R           3\n",
       "Сбербанк России, ИОС-USDRUB_FIX-6m-001Р-185R           1\n",
       "Сбербанк России, ИОС-USDRUB_FIX-6m-001Р-198R           1\n",
       "Сбербанк России, ИОС-USDRUB_FIX-6m-001Р-199R           1\n",
       "Сбербанк России, ИОС-USDRUB_FIX_DGTL-6M-001Р-183R      1\n",
       "ТрансФин-М, БО-20                                     12\n",
       "ТрансФин-М, БО-27                                     41\n",
       "Транснефть, БО-001P-01                                 2\n",
       "ФСК ЕЭС, 22                                          185\n",
       "Name: g_spread_bp, dtype: int64"
      ]
     },
     "execution_count": 39,
     "metadata": {},
     "output_type": "execute_result"
    }
   ],
   "source": [
    "all_weekly_data.groupby('bond')['g_spread_bp'].apply(lambda x: x.isna().sum()).loc[\n",
    "    all_weekly_data.groupby('bond')['g_spread_bp'].apply(lambda x: x.isna().sum() > 0)]"
   ]
  },
  {
   "cell_type": "code",
   "execution_count": 40,
   "metadata": {
    "scrolled": true
   },
   "outputs": [
    {
     "data": {
      "text/plain": [
       "(56650, 28)"
      ]
     },
     "execution_count": 40,
     "metadata": {},
     "output_type": "execute_result"
    }
   ],
   "source": [
    "dirty_bonds = list(all_weekly_data.groupby('bond')['g_spread_bp'].apply(lambda x: x.isna().sum()).loc[\n",
    "    all_weekly_data.groupby('bond')['g_spread_bp'].apply(lambda x: x.isna().sum() > 0)].index)\n",
    "\n",
    "all_weekly_data = all_weekly_data.loc[~all_weekly_data.bond.isin(dirty_bonds)]\n",
    "all_weekly_data.shape"
   ]
  },
  {
   "cell_type": "code",
   "execution_count": 41,
   "metadata": {},
   "outputs": [
    {
     "data": {
      "text/html": [
       "<div>\n",
       "<style scoped>\n",
       "    .dataframe tbody tr th:only-of-type {\n",
       "        vertical-align: middle;\n",
       "    }\n",
       "\n",
       "    .dataframe tbody tr th {\n",
       "        vertical-align: top;\n",
       "    }\n",
       "\n",
       "    .dataframe thead th {\n",
       "        text-align: right;\n",
       "    }\n",
       "</style>\n",
       "<table border=\"1\" class=\"dataframe\">\n",
       "  <thead>\n",
       "    <tr style=\"text-align: right;\">\n",
       "      <th></th>\n",
       "      <th>bid</th>\n",
       "      <th>ask</th>\n",
       "      <th>bid_ask_bp</th>\n",
       "      <th>market_price</th>\n",
       "      <th>admitted_price</th>\n",
       "      <th>close_price</th>\n",
       "      <th>indicative</th>\n",
       "      <th>turnover</th>\n",
       "      <th>num_of_deals</th>\n",
       "      <th>turnover_in_securities</th>\n",
       "      <th>current_coupon</th>\n",
       "      <th>ytm_ind_p</th>\n",
       "      <th>ytm_close_p</th>\n",
       "      <th>accrued_interest</th>\n",
       "      <th>duration</th>\n",
       "      <th>mod_duration</th>\n",
       "      <th>ytm_oferta_ind_p</th>\n",
       "      <th>ytm_oferta_close_p</th>\n",
       "      <th>dur_to_p_c_date</th>\n",
       "      <th>mod_dur_to_p_c_date</th>\n",
       "      <th>g_spread_bp</th>\n",
       "      <th>cum_count</th>\n",
       "    </tr>\n",
       "  </thead>\n",
       "  <tbody>\n",
       "    <tr>\n",
       "      <th>count</th>\n",
       "      <td>56023.000000</td>\n",
       "      <td>54010.000000</td>\n",
       "      <td>53730.000000</td>\n",
       "      <td>53214.000000</td>\n",
       "      <td>53219.000000</td>\n",
       "      <td>56533.000000</td>\n",
       "      <td>56563.000000</td>\n",
       "      <td>4.906600e+04</td>\n",
       "      <td>49066.000000</td>\n",
       "      <td>4.906600e+04</td>\n",
       "      <td>44132.000000</td>\n",
       "      <td>3.761100e+04</td>\n",
       "      <td>3.403800e+04</td>\n",
       "      <td>55697.000000</td>\n",
       "      <td>37585.000000</td>\n",
       "      <td>37541.000000</td>\n",
       "      <td>21778.000000</td>\n",
       "      <td>17418.000000</td>\n",
       "      <td>21778.000000</td>\n",
       "      <td>21739.000000</td>\n",
       "      <td>5.665000e+04</td>\n",
       "      <td>56650.000000</td>\n",
       "    </tr>\n",
       "    <tr>\n",
       "      <th>mean</th>\n",
       "      <td>98.145895</td>\n",
       "      <td>101.469863</td>\n",
       "      <td>296.891037</td>\n",
       "      <td>100.116867</td>\n",
       "      <td>100.318269</td>\n",
       "      <td>100.165593</td>\n",
       "      <td>100.059620</td>\n",
       "      <td>1.314829e+07</td>\n",
       "      <td>22.876273</td>\n",
       "      <td>1.311153e+04</td>\n",
       "      <td>5.268681</td>\n",
       "      <td>1.305194e+04</td>\n",
       "      <td>1.442047e+04</td>\n",
       "      <td>258.635712</td>\n",
       "      <td>929.556427</td>\n",
       "      <td>2.439197</td>\n",
       "      <td>9.767556</td>\n",
       "      <td>8.143830</td>\n",
       "      <td>733.328203</td>\n",
       "      <td>1.859480</td>\n",
       "      <td>8.662475e+05</td>\n",
       "      <td>79.239382</td>\n",
       "    </tr>\n",
       "    <tr>\n",
       "      <th>std</th>\n",
       "      <td>7.248416</td>\n",
       "      <td>6.005741</td>\n",
       "      <td>552.827035</td>\n",
       "      <td>5.224721</td>\n",
       "      <td>5.385938</td>\n",
       "      <td>5.400118</td>\n",
       "      <td>5.332331</td>\n",
       "      <td>5.693164e+07</td>\n",
       "      <td>135.249384</td>\n",
       "      <td>5.679562e+04</td>\n",
       "      <td>4.136816</td>\n",
       "      <td>2.530161e+06</td>\n",
       "      <td>2.659644e+06</td>\n",
       "      <td>7924.290290</td>\n",
       "      <td>530.187996</td>\n",
       "      <td>1.420090</td>\n",
       "      <td>220.047007</td>\n",
       "      <td>69.951074</td>\n",
       "      <td>449.253344</td>\n",
       "      <td>1.138413</td>\n",
       "      <td>2.061606e+08</td>\n",
       "      <td>70.761366</td>\n",
       "    </tr>\n",
       "    <tr>\n",
       "      <th>min</th>\n",
       "      <td>44.940000</td>\n",
       "      <td>45.548333</td>\n",
       "      <td>1.000000</td>\n",
       "      <td>42.240000</td>\n",
       "      <td>42.240000</td>\n",
       "      <td>45.178333</td>\n",
       "      <td>42.240000</td>\n",
       "      <td>2.500000e+02</td>\n",
       "      <td>1.000000</td>\n",
       "      <td>1.000000e+00</td>\n",
       "      <td>0.010000</td>\n",
       "      <td>-6.153635e+01</td>\n",
       "      <td>-6.324515e+01</td>\n",
       "      <td>0.010000</td>\n",
       "      <td>1.000000</td>\n",
       "      <td>0.000049</td>\n",
       "      <td>-63.551736</td>\n",
       "      <td>-63.544759</td>\n",
       "      <td>1.000000</td>\n",
       "      <td>0.001551</td>\n",
       "      <td>-6.636611e+03</td>\n",
       "      <td>1.000000</td>\n",
       "    </tr>\n",
       "    <tr>\n",
       "      <th>0.2%</th>\n",
       "      <td>60.236220</td>\n",
       "      <td>72.830900</td>\n",
       "      <td>1.800000</td>\n",
       "      <td>71.438471</td>\n",
       "      <td>70.358630</td>\n",
       "      <td>71.540500</td>\n",
       "      <td>71.252470</td>\n",
       "      <td>9.300000e+02</td>\n",
       "      <td>1.000000</td>\n",
       "      <td>1.000000e+00</td>\n",
       "      <td>0.010000</td>\n",
       "      <td>-1.774484e+01</td>\n",
       "      <td>-1.962148e+01</td>\n",
       "      <td>0.010000</td>\n",
       "      <td>6.000000</td>\n",
       "      <td>0.014741</td>\n",
       "      <td>-15.999939</td>\n",
       "      <td>-18.798057</td>\n",
       "      <td>12.000000</td>\n",
       "      <td>0.027858</td>\n",
       "      <td>-1.925723e+03</td>\n",
       "      <td>1.000000</td>\n",
       "    </tr>\n",
       "    <tr>\n",
       "      <th>0.5%</th>\n",
       "      <td>61.464400</td>\n",
       "      <td>81.075200</td>\n",
       "      <td>2.750000</td>\n",
       "      <td>78.809430</td>\n",
       "      <td>78.769510</td>\n",
       "      <td>77.810000</td>\n",
       "      <td>77.810000</td>\n",
       "      <td>9.600000e+02</td>\n",
       "      <td>1.000000</td>\n",
       "      <td>1.000000e+00</td>\n",
       "      <td>0.010000</td>\n",
       "      <td>-1.057622e+01</td>\n",
       "      <td>-1.248711e+01</td>\n",
       "      <td>0.010000</td>\n",
       "      <td>13.000000</td>\n",
       "      <td>0.033629</td>\n",
       "      <td>-8.545321</td>\n",
       "      <td>-10.322034</td>\n",
       "      <td>16.000000</td>\n",
       "      <td>0.040781</td>\n",
       "      <td>-1.312133e+03</td>\n",
       "      <td>1.000000</td>\n",
       "    </tr>\n",
       "    <tr>\n",
       "      <th>1%</th>\n",
       "      <td>67.872840</td>\n",
       "      <td>87.080450</td>\n",
       "      <td>3.800000</td>\n",
       "      <td>85.208600</td>\n",
       "      <td>85.166880</td>\n",
       "      <td>84.321600</td>\n",
       "      <td>84.409920</td>\n",
       "      <td>9.899650e+02</td>\n",
       "      <td>1.000000</td>\n",
       "      <td>1.000000e+00</td>\n",
       "      <td>0.010000</td>\n",
       "      <td>-6.280306e+00</td>\n",
       "      <td>-7.552414e+00</td>\n",
       "      <td>0.010000</td>\n",
       "      <td>27.420000</td>\n",
       "      <td>0.070888</td>\n",
       "      <td>-4.075740</td>\n",
       "      <td>-5.293542</td>\n",
       "      <td>25.000000</td>\n",
       "      <td>0.065038</td>\n",
       "      <td>-9.926891e+02</td>\n",
       "      <td>2.000000</td>\n",
       "    </tr>\n",
       "    <tr>\n",
       "      <th>5%</th>\n",
       "      <td>85.628000</td>\n",
       "      <td>93.764075</td>\n",
       "      <td>8.600000</td>\n",
       "      <td>91.900000</td>\n",
       "      <td>91.980000</td>\n",
       "      <td>91.665200</td>\n",
       "      <td>91.650000</td>\n",
       "      <td>3.001662e+03</td>\n",
       "      <td>1.000000</td>\n",
       "      <td>3.000000e+00</td>\n",
       "      <td>0.010000</td>\n",
       "      <td>-1.200864e+00</td>\n",
       "      <td>-1.482288e+00</td>\n",
       "      <td>0.020000</td>\n",
       "      <td>137.000000</td>\n",
       "      <td>0.350096</td>\n",
       "      <td>0.243630</td>\n",
       "      <td>-0.023939</td>\n",
       "      <td>85.000000</td>\n",
       "      <td>0.224952</td>\n",
       "      <td>-6.262689e+02</td>\n",
       "      <td>5.000000</td>\n",
       "    </tr>\n",
       "    <tr>\n",
       "      <th>50%</th>\n",
       "      <td>99.926000</td>\n",
       "      <td>101.000000</td>\n",
       "      <td>97.708333</td>\n",
       "      <td>100.444500</td>\n",
       "      <td>100.540000</td>\n",
       "      <td>100.460000</td>\n",
       "      <td>100.404000</td>\n",
       "      <td>7.975203e+05</td>\n",
       "      <td>4.000000</td>\n",
       "      <td>8.053000e+02</td>\n",
       "      <td>6.900000</td>\n",
       "      <td>5.799991e+00</td>\n",
       "      <td>5.270998e+00</td>\n",
       "      <td>11.390000</td>\n",
       "      <td>879.826594</td>\n",
       "      <td>2.277822</td>\n",
       "      <td>8.371907</td>\n",
       "      <td>7.800463</td>\n",
       "      <td>692.382837</td>\n",
       "      <td>1.772981</td>\n",
       "      <td>8.021007e+01</td>\n",
       "      <td>56.000000</td>\n",
       "    </tr>\n",
       "    <tr>\n",
       "      <th>95%</th>\n",
       "      <td>106.000000</td>\n",
       "      <td>109.973650</td>\n",
       "      <td>1314.555000</td>\n",
       "      <td>106.856700</td>\n",
       "      <td>107.550400</td>\n",
       "      <td>107.324000</td>\n",
       "      <td>107.127800</td>\n",
       "      <td>6.062722e+07</td>\n",
       "      <td>84.800000</td>\n",
       "      <td>6.029805e+04</td>\n",
       "      <td>11.250000</td>\n",
       "      <td>1.224913e+01</td>\n",
       "      <td>1.009477e+01</td>\n",
       "      <td>41.420000</td>\n",
       "      <td>1783.589194</td>\n",
       "      <td>4.815032</td>\n",
       "      <td>12.886836</td>\n",
       "      <td>11.628299</td>\n",
       "      <td>1480.676990</td>\n",
       "      <td>3.752577</td>\n",
       "      <td>3.790172e+02</td>\n",
       "      <td>226.000000</td>\n",
       "    </tr>\n",
       "    <tr>\n",
       "      <th>99%</th>\n",
       "      <td>111.024680</td>\n",
       "      <td>123.799460</td>\n",
       "      <td>3078.142000</td>\n",
       "      <td>112.350000</td>\n",
       "      <td>113.698200</td>\n",
       "      <td>113.489520</td>\n",
       "      <td>112.806900</td>\n",
       "      <td>2.101018e+08</td>\n",
       "      <td>286.305000</td>\n",
       "      <td>2.106359e+05</td>\n",
       "      <td>13.500000</td>\n",
       "      <td>1.821884e+01</td>\n",
       "      <td>1.429617e+01</td>\n",
       "      <td>53.458000</td>\n",
       "      <td>1942.612903</td>\n",
       "      <td>4.994794</td>\n",
       "      <td>17.308854</td>\n",
       "      <td>14.739890</td>\n",
       "      <td>1774.168459</td>\n",
       "      <td>4.485480</td>\n",
       "      <td>8.860883e+02</td>\n",
       "      <td>294.000000</td>\n",
       "    </tr>\n",
       "    <tr>\n",
       "      <th>99.5%</th>\n",
       "      <td>113.484450</td>\n",
       "      <td>130.571038</td>\n",
       "      <td>3636.743000</td>\n",
       "      <td>115.250000</td>\n",
       "      <td>116.600000</td>\n",
       "      <td>116.100000</td>\n",
       "      <td>115.250000</td>\n",
       "      <td>3.355285e+08</td>\n",
       "      <td>450.506250</td>\n",
       "      <td>3.406179e+05</td>\n",
       "      <td>13.750000</td>\n",
       "      <td>3.627350e+01</td>\n",
       "      <td>1.698560e+01</td>\n",
       "      <td>57.706320</td>\n",
       "      <td>2018.222605</td>\n",
       "      <td>5.148627</td>\n",
       "      <td>20.016209</td>\n",
       "      <td>19.808329</td>\n",
       "      <td>1872.319355</td>\n",
       "      <td>4.717632</td>\n",
       "      <td>1.846794e+03</td>\n",
       "      <td>318.000000</td>\n",
       "    </tr>\n",
       "    <tr>\n",
       "      <th>99.8%</th>\n",
       "      <td>117.916665</td>\n",
       "      <td>136.282129</td>\n",
       "      <td>4012.274375</td>\n",
       "      <td>119.887855</td>\n",
       "      <td>122.778020</td>\n",
       "      <td>121.385735</td>\n",
       "      <td>119.593090</td>\n",
       "      <td>4.795746e+08</td>\n",
       "      <td>627.622917</td>\n",
       "      <td>4.809461e+05</td>\n",
       "      <td>16.000000</td>\n",
       "      <td>4.888599e+01</td>\n",
       "      <td>2.474550e+01</td>\n",
       "      <td>62.328000</td>\n",
       "      <td>2100.970061</td>\n",
       "      <td>5.476236</td>\n",
       "      <td>28.811886</td>\n",
       "      <td>32.564892</td>\n",
       "      <td>2460.384567</td>\n",
       "      <td>6.310890</td>\n",
       "      <td>3.745005e+03</td>\n",
       "      <td>337.000000</td>\n",
       "    </tr>\n",
       "    <tr>\n",
       "      <th>max</th>\n",
       "      <td>154.238000</td>\n",
       "      <td>165.498333</td>\n",
       "      <td>7555.000000</td>\n",
       "      <td>154.006000</td>\n",
       "      <td>155.316000</td>\n",
       "      <td>155.316000</td>\n",
       "      <td>154.742000</td>\n",
       "      <td>2.963444e+09</td>\n",
       "      <td>12219.000000</td>\n",
       "      <td>2.957681e+06</td>\n",
       "      <td>16.000000</td>\n",
       "      <td>4.906882e+08</td>\n",
       "      <td>4.906882e+08</td>\n",
       "      <td>405041.100000</td>\n",
       "      <td>2635.531235</td>\n",
       "      <td>6.742297</td>\n",
       "      <td>32389.634373</td>\n",
       "      <td>8667.445099</td>\n",
       "      <td>2677.476402</td>\n",
       "      <td>6.860748</td>\n",
       "      <td>4.906881e+10</td>\n",
       "      <td>388.000000</td>\n",
       "    </tr>\n",
       "  </tbody>\n",
       "</table>\n",
       "</div>"
      ],
      "text/plain": [
       "                bid           ask    bid_ask_bp  market_price  admitted_price  \\\n",
       "count  56023.000000  54010.000000  53730.000000  53214.000000    53219.000000   \n",
       "mean      98.145895    101.469863    296.891037    100.116867      100.318269   \n",
       "std        7.248416      6.005741    552.827035      5.224721        5.385938   \n",
       "min       44.940000     45.548333      1.000000     42.240000       42.240000   \n",
       "0.2%      60.236220     72.830900      1.800000     71.438471       70.358630   \n",
       "0.5%      61.464400     81.075200      2.750000     78.809430       78.769510   \n",
       "1%        67.872840     87.080450      3.800000     85.208600       85.166880   \n",
       "5%        85.628000     93.764075      8.600000     91.900000       91.980000   \n",
       "50%       99.926000    101.000000     97.708333    100.444500      100.540000   \n",
       "95%      106.000000    109.973650   1314.555000    106.856700      107.550400   \n",
       "99%      111.024680    123.799460   3078.142000    112.350000      113.698200   \n",
       "99.5%    113.484450    130.571038   3636.743000    115.250000      116.600000   \n",
       "99.8%    117.916665    136.282129   4012.274375    119.887855      122.778020   \n",
       "max      154.238000    165.498333   7555.000000    154.006000      155.316000   \n",
       "\n",
       "        close_price    indicative      turnover  num_of_deals  \\\n",
       "count  56533.000000  56563.000000  4.906600e+04  49066.000000   \n",
       "mean     100.165593    100.059620  1.314829e+07     22.876273   \n",
       "std        5.400118      5.332331  5.693164e+07    135.249384   \n",
       "min       45.178333     42.240000  2.500000e+02      1.000000   \n",
       "0.2%      71.540500     71.252470  9.300000e+02      1.000000   \n",
       "0.5%      77.810000     77.810000  9.600000e+02      1.000000   \n",
       "1%        84.321600     84.409920  9.899650e+02      1.000000   \n",
       "5%        91.665200     91.650000  3.001662e+03      1.000000   \n",
       "50%      100.460000    100.404000  7.975203e+05      4.000000   \n",
       "95%      107.324000    107.127800  6.062722e+07     84.800000   \n",
       "99%      113.489520    112.806900  2.101018e+08    286.305000   \n",
       "99.5%    116.100000    115.250000  3.355285e+08    450.506250   \n",
       "99.8%    121.385735    119.593090  4.795746e+08    627.622917   \n",
       "max      155.316000    154.742000  2.963444e+09  12219.000000   \n",
       "\n",
       "       turnover_in_securities  current_coupon     ytm_ind_p   ytm_close_p  \\\n",
       "count            4.906600e+04    44132.000000  3.761100e+04  3.403800e+04   \n",
       "mean             1.311153e+04        5.268681  1.305194e+04  1.442047e+04   \n",
       "std              5.679562e+04        4.136816  2.530161e+06  2.659644e+06   \n",
       "min              1.000000e+00        0.010000 -6.153635e+01 -6.324515e+01   \n",
       "0.2%             1.000000e+00        0.010000 -1.774484e+01 -1.962148e+01   \n",
       "0.5%             1.000000e+00        0.010000 -1.057622e+01 -1.248711e+01   \n",
       "1%               1.000000e+00        0.010000 -6.280306e+00 -7.552414e+00   \n",
       "5%               3.000000e+00        0.010000 -1.200864e+00 -1.482288e+00   \n",
       "50%              8.053000e+02        6.900000  5.799991e+00  5.270998e+00   \n",
       "95%              6.029805e+04       11.250000  1.224913e+01  1.009477e+01   \n",
       "99%              2.106359e+05       13.500000  1.821884e+01  1.429617e+01   \n",
       "99.5%            3.406179e+05       13.750000  3.627350e+01  1.698560e+01   \n",
       "99.8%            4.809461e+05       16.000000  4.888599e+01  2.474550e+01   \n",
       "max              2.957681e+06       16.000000  4.906882e+08  4.906882e+08   \n",
       "\n",
       "       accrued_interest      duration  mod_duration  ytm_oferta_ind_p  \\\n",
       "count      55697.000000  37585.000000  37541.000000      21778.000000   \n",
       "mean         258.635712    929.556427      2.439197          9.767556   \n",
       "std         7924.290290    530.187996      1.420090        220.047007   \n",
       "min            0.010000      1.000000      0.000049        -63.551736   \n",
       "0.2%           0.010000      6.000000      0.014741        -15.999939   \n",
       "0.5%           0.010000     13.000000      0.033629         -8.545321   \n",
       "1%             0.010000     27.420000      0.070888         -4.075740   \n",
       "5%             0.020000    137.000000      0.350096          0.243630   \n",
       "50%           11.390000    879.826594      2.277822          8.371907   \n",
       "95%           41.420000   1783.589194      4.815032         12.886836   \n",
       "99%           53.458000   1942.612903      4.994794         17.308854   \n",
       "99.5%         57.706320   2018.222605      5.148627         20.016209   \n",
       "99.8%         62.328000   2100.970061      5.476236         28.811886   \n",
       "max       405041.100000   2635.531235      6.742297      32389.634373   \n",
       "\n",
       "       ytm_oferta_close_p  dur_to_p_c_date  mod_dur_to_p_c_date   g_spread_bp  \\\n",
       "count        17418.000000     21778.000000         21739.000000  5.665000e+04   \n",
       "mean             8.143830       733.328203             1.859480  8.662475e+05   \n",
       "std             69.951074       449.253344             1.138413  2.061606e+08   \n",
       "min            -63.544759         1.000000             0.001551 -6.636611e+03   \n",
       "0.2%           -18.798057        12.000000             0.027858 -1.925723e+03   \n",
       "0.5%           -10.322034        16.000000             0.040781 -1.312133e+03   \n",
       "1%              -5.293542        25.000000             0.065038 -9.926891e+02   \n",
       "5%              -0.023939        85.000000             0.224952 -6.262689e+02   \n",
       "50%              7.800463       692.382837             1.772981  8.021007e+01   \n",
       "95%             11.628299      1480.676990             3.752577  3.790172e+02   \n",
       "99%             14.739890      1774.168459             4.485480  8.860883e+02   \n",
       "99.5%           19.808329      1872.319355             4.717632  1.846794e+03   \n",
       "99.8%           32.564892      2460.384567             6.310890  3.745005e+03   \n",
       "max           8667.445099      2677.476402             6.860748  4.906881e+10   \n",
       "\n",
       "          cum_count  \n",
       "count  56650.000000  \n",
       "mean      79.239382  \n",
       "std       70.761366  \n",
       "min        1.000000  \n",
       "0.2%       1.000000  \n",
       "0.5%       1.000000  \n",
       "1%         2.000000  \n",
       "5%         5.000000  \n",
       "50%       56.000000  \n",
       "95%      226.000000  \n",
       "99%      294.000000  \n",
       "99.5%    318.000000  \n",
       "99.8%    337.000000  \n",
       "max      388.000000  "
      ]
     },
     "execution_count": 41,
     "metadata": {},
     "output_type": "execute_result"
    }
   ],
   "source": [
    "all_weekly_data.describe(percentiles=[0.0025, 0.005, 0.01, 0.05, 0.95, 0.99, 0.995, 0.9975])"
   ]
  },
  {
   "cell_type": "markdown",
   "metadata": {},
   "source": [
    "Сначала сделаем 95% винзоризацию"
   ]
  },
  {
   "cell_type": "code",
   "execution_count": 42,
   "metadata": {},
   "outputs": [],
   "source": [
    "from scipy.stats import mstats\n",
    "\n",
    "def winsorize_series(group):\n",
    "    return mstats.winsorize(group, limits=[0.025, 0.025])\n",
    "\n",
    "numeric_cols = all_weekly_data.select_dtypes(include=np.number).columns.tolist()\n",
    "\n",
    "for col in numeric_cols:\n",
    "    all_weekly_data[col] = all_weekly_data.groupby('bond')[col].transform(winsorize_series)"
   ]
  },
  {
   "cell_type": "code",
   "execution_count": 43,
   "metadata": {},
   "outputs": [
    {
     "data": {
      "text/html": [
       "<div>\n",
       "<style scoped>\n",
       "    .dataframe tbody tr th:only-of-type {\n",
       "        vertical-align: middle;\n",
       "    }\n",
       "\n",
       "    .dataframe tbody tr th {\n",
       "        vertical-align: top;\n",
       "    }\n",
       "\n",
       "    .dataframe thead th {\n",
       "        text-align: right;\n",
       "    }\n",
       "</style>\n",
       "<table border=\"1\" class=\"dataframe\">\n",
       "  <thead>\n",
       "    <tr style=\"text-align: right;\">\n",
       "      <th></th>\n",
       "      <th>bid</th>\n",
       "      <th>ask</th>\n",
       "      <th>bid_ask_bp</th>\n",
       "      <th>market_price</th>\n",
       "      <th>admitted_price</th>\n",
       "      <th>close_price</th>\n",
       "      <th>indicative</th>\n",
       "      <th>turnover</th>\n",
       "      <th>num_of_deals</th>\n",
       "      <th>turnover_in_securities</th>\n",
       "      <th>current_coupon</th>\n",
       "      <th>ytm_ind_p</th>\n",
       "      <th>ytm_close_p</th>\n",
       "      <th>accrued_interest</th>\n",
       "      <th>duration</th>\n",
       "      <th>mod_duration</th>\n",
       "      <th>ytm_oferta_ind_p</th>\n",
       "      <th>ytm_oferta_close_p</th>\n",
       "      <th>dur_to_p_c_date</th>\n",
       "      <th>mod_dur_to_p_c_date</th>\n",
       "      <th>g_spread_bp</th>\n",
       "      <th>cum_count</th>\n",
       "    </tr>\n",
       "  </thead>\n",
       "  <tbody>\n",
       "    <tr>\n",
       "      <th>count</th>\n",
       "      <td>56146.000000</td>\n",
       "      <td>54163.000000</td>\n",
       "      <td>53877.000000</td>\n",
       "      <td>53335.000000</td>\n",
       "      <td>53284.000000</td>\n",
       "      <td>56578.000000</td>\n",
       "      <td>56608.000000</td>\n",
       "      <td>4.919800e+04</td>\n",
       "      <td>49198.000000</td>\n",
       "      <td>4.919800e+04</td>\n",
       "      <td>44132.000000</td>\n",
       "      <td>3.760900e+04</td>\n",
       "      <td>34064.000000</td>\n",
       "      <td>55825.000000</td>\n",
       "      <td>37583.000000</td>\n",
       "      <td>37543.000000</td>\n",
       "      <td>21785.000000</td>\n",
       "      <td>17425.000000</td>\n",
       "      <td>21785.000000</td>\n",
       "      <td>21744.000000</td>\n",
       "      <td>56650.000000</td>\n",
       "      <td>56650.000000</td>\n",
       "    </tr>\n",
       "    <tr>\n",
       "      <th>mean</th>\n",
       "      <td>98.216441</td>\n",
       "      <td>101.494955</td>\n",
       "      <td>297.425576</td>\n",
       "      <td>100.143530</td>\n",
       "      <td>100.339210</td>\n",
       "      <td>100.180010</td>\n",
       "      <td>100.075685</td>\n",
       "      <td>1.274374e+07</td>\n",
       "      <td>22.735483</td>\n",
       "      <td>1.270736e+04</td>\n",
       "      <td>5.268681</td>\n",
       "      <td>1.305263e+04</td>\n",
       "      <td>4.593140</td>\n",
       "      <td>258.096617</td>\n",
       "      <td>929.621695</td>\n",
       "      <td>2.439459</td>\n",
       "      <td>8.270520</td>\n",
       "      <td>8.153741</td>\n",
       "      <td>733.660259</td>\n",
       "      <td>1.860170</td>\n",
       "      <td>5.154691</td>\n",
       "      <td>79.240229</td>\n",
       "    </tr>\n",
       "    <tr>\n",
       "      <th>std</th>\n",
       "      <td>7.057468</td>\n",
       "      <td>5.968641</td>\n",
       "      <td>552.364383</td>\n",
       "      <td>5.182184</td>\n",
       "      <td>5.293717</td>\n",
       "      <td>5.314846</td>\n",
       "      <td>5.265119</td>\n",
       "      <td>5.163165e+07</td>\n",
       "      <td>134.530222</td>\n",
       "      <td>5.149840e+04</td>\n",
       "      <td>4.136816</td>\n",
       "      <td>2.530228e+06</td>\n",
       "      <td>6.060990</td>\n",
       "      <td>7915.254582</td>\n",
       "      <td>529.861204</td>\n",
       "      <td>1.419243</td>\n",
       "      <td>16.188077</td>\n",
       "      <td>69.874274</td>\n",
       "      <td>448.329990</td>\n",
       "      <td>1.136065</td>\n",
       "      <td>2395.007081</td>\n",
       "      <td>70.618126</td>\n",
       "    </tr>\n",
       "    <tr>\n",
       "      <th>min</th>\n",
       "      <td>51.027500</td>\n",
       "      <td>51.708000</td>\n",
       "      <td>1.000000</td>\n",
       "      <td>49.980000</td>\n",
       "      <td>51.145000</td>\n",
       "      <td>51.573333</td>\n",
       "      <td>51.394000</td>\n",
       "      <td>5.050000e+02</td>\n",
       "      <td>1.000000</td>\n",
       "      <td>1.000000e+00</td>\n",
       "      <td>0.010000</td>\n",
       "      <td>-5.270472e+01</td>\n",
       "      <td>-62.497646</td>\n",
       "      <td>0.010000</td>\n",
       "      <td>1.000000</td>\n",
       "      <td>0.000258</td>\n",
       "      <td>-57.211869</td>\n",
       "      <td>-47.092296</td>\n",
       "      <td>5.500000</td>\n",
       "      <td>0.013319</td>\n",
       "      <td>-5673.468075</td>\n",
       "      <td>1.000000</td>\n",
       "    </tr>\n",
       "    <tr>\n",
       "      <th>0.2%</th>\n",
       "      <td>60.370000</td>\n",
       "      <td>72.880125</td>\n",
       "      <td>2.200000</td>\n",
       "      <td>72.225030</td>\n",
       "      <td>71.222393</td>\n",
       "      <td>71.754585</td>\n",
       "      <td>71.720490</td>\n",
       "      <td>9.617865e+02</td>\n",
       "      <td>1.000000</td>\n",
       "      <td>1.000000e+00</td>\n",
       "      <td>0.010000</td>\n",
       "      <td>-1.610009e+01</td>\n",
       "      <td>-17.469569</td>\n",
       "      <td>0.010000</td>\n",
       "      <td>13.000000</td>\n",
       "      <td>0.033340</td>\n",
       "      <td>-15.194487</td>\n",
       "      <td>-18.506408</td>\n",
       "      <td>20.000000</td>\n",
       "      <td>0.050535</td>\n",
       "      <td>-1631.440825</td>\n",
       "      <td>2.000000</td>\n",
       "    </tr>\n",
       "    <tr>\n",
       "      <th>0.5%</th>\n",
       "      <td>62.837575</td>\n",
       "      <td>82.053620</td>\n",
       "      <td>3.200000</td>\n",
       "      <td>79.839740</td>\n",
       "      <td>80.000000</td>\n",
       "      <td>78.242000</td>\n",
       "      <td>78.412600</td>\n",
       "      <td>9.800000e+02</td>\n",
       "      <td>1.000000</td>\n",
       "      <td>1.000000e+00</td>\n",
       "      <td>0.010000</td>\n",
       "      <td>-9.310555e+00</td>\n",
       "      <td>-10.485881</td>\n",
       "      <td>0.010000</td>\n",
       "      <td>20.500000</td>\n",
       "      <td>0.050621</td>\n",
       "      <td>-7.247859</td>\n",
       "      <td>-9.486805</td>\n",
       "      <td>24.500000</td>\n",
       "      <td>0.059919</td>\n",
       "      <td>-1215.811553</td>\n",
       "      <td>2.000000</td>\n",
       "    </tr>\n",
       "    <tr>\n",
       "      <th>1%</th>\n",
       "      <td>70.003800</td>\n",
       "      <td>87.599240</td>\n",
       "      <td>4.250000</td>\n",
       "      <td>85.508450</td>\n",
       "      <td>85.880000</td>\n",
       "      <td>85.010000</td>\n",
       "      <td>84.894770</td>\n",
       "      <td>1.000000e+03</td>\n",
       "      <td>1.000000</td>\n",
       "      <td>1.000000e+00</td>\n",
       "      <td>0.010000</td>\n",
       "      <td>-5.677145e+00</td>\n",
       "      <td>-6.965396</td>\n",
       "      <td>0.010000</td>\n",
       "      <td>34.000000</td>\n",
       "      <td>0.086709</td>\n",
       "      <td>-3.598850</td>\n",
       "      <td>-4.777217</td>\n",
       "      <td>33.000000</td>\n",
       "      <td>0.085446</td>\n",
       "      <td>-964.545300</td>\n",
       "      <td>2.000000</td>\n",
       "    </tr>\n",
       "    <tr>\n",
       "      <th>5%</th>\n",
       "      <td>85.894250</td>\n",
       "      <td>93.836150</td>\n",
       "      <td>9.000000</td>\n",
       "      <td>91.971400</td>\n",
       "      <td>92.100000</td>\n",
       "      <td>91.752000</td>\n",
       "      <td>91.700000</td>\n",
       "      <td>3.176603e+03</td>\n",
       "      <td>1.000000</td>\n",
       "      <td>3.000000e+00</td>\n",
       "      <td>0.010000</td>\n",
       "      <td>-1.156748e+00</td>\n",
       "      <td>-1.441812</td>\n",
       "      <td>0.020000</td>\n",
       "      <td>137.062513</td>\n",
       "      <td>0.352048</td>\n",
       "      <td>0.267555</td>\n",
       "      <td>0.009365</td>\n",
       "      <td>87.000000</td>\n",
       "      <td>0.227916</td>\n",
       "      <td>-622.841495</td>\n",
       "      <td>6.000000</td>\n",
       "    </tr>\n",
       "    <tr>\n",
       "      <th>50%</th>\n",
       "      <td>99.940000</td>\n",
       "      <td>101.000000</td>\n",
       "      <td>98.000000</td>\n",
       "      <td>100.450000</td>\n",
       "      <td>100.546000</td>\n",
       "      <td>100.465000</td>\n",
       "      <td>100.406000</td>\n",
       "      <td>8.086487e+05</td>\n",
       "      <td>4.000000</td>\n",
       "      <td>8.150000e+02</td>\n",
       "      <td>6.900000</td>\n",
       "      <td>5.803347e+00</td>\n",
       "      <td>5.277791</td>\n",
       "      <td>11.390000</td>\n",
       "      <td>879.738361</td>\n",
       "      <td>2.277822</td>\n",
       "      <td>8.375433</td>\n",
       "      <td>7.809859</td>\n",
       "      <td>693.185917</td>\n",
       "      <td>1.773839</td>\n",
       "      <td>80.305009</td>\n",
       "      <td>56.000000</td>\n",
       "    </tr>\n",
       "    <tr>\n",
       "      <th>95%</th>\n",
       "      <td>105.979500</td>\n",
       "      <td>109.975900</td>\n",
       "      <td>1305.200000</td>\n",
       "      <td>106.880000</td>\n",
       "      <td>107.508000</td>\n",
       "      <td>107.272450</td>\n",
       "      <td>107.081300</td>\n",
       "      <td>6.084457e+07</td>\n",
       "      <td>85.000000</td>\n",
       "      <td>6.051372e+04</td>\n",
       "      <td>11.250000</td>\n",
       "      <td>1.224062e+01</td>\n",
       "      <td>10.095855</td>\n",
       "      <td>41.420000</td>\n",
       "      <td>1783.589247</td>\n",
       "      <td>4.814335</td>\n",
       "      <td>12.842752</td>\n",
       "      <td>11.618828</td>\n",
       "      <td>1477.987308</td>\n",
       "      <td>3.742851</td>\n",
       "      <td>371.630658</td>\n",
       "      <td>226.000000</td>\n",
       "    </tr>\n",
       "    <tr>\n",
       "      <th>99%</th>\n",
       "      <td>111.040000</td>\n",
       "      <td>123.750000</td>\n",
       "      <td>3075.720000</td>\n",
       "      <td>112.490000</td>\n",
       "      <td>113.551700</td>\n",
       "      <td>113.244805</td>\n",
       "      <td>112.799860</td>\n",
       "      <td>2.048330e+08</td>\n",
       "      <td>282.507500</td>\n",
       "      <td>2.038852e+05</td>\n",
       "      <td>13.500000</td>\n",
       "      <td>1.793136e+01</td>\n",
       "      <td>14.251562</td>\n",
       "      <td>53.405000</td>\n",
       "      <td>1942.618569</td>\n",
       "      <td>4.992922</td>\n",
       "      <td>16.460063</td>\n",
       "      <td>14.463483</td>\n",
       "      <td>1773.085512</td>\n",
       "      <td>4.484850</td>\n",
       "      <td>858.013299</td>\n",
       "      <td>294.000000</td>\n",
       "    </tr>\n",
       "    <tr>\n",
       "      <th>99.5%</th>\n",
       "      <td>113.400000</td>\n",
       "      <td>130.889520</td>\n",
       "      <td>3654.306667</td>\n",
       "      <td>115.258000</td>\n",
       "      <td>116.217550</td>\n",
       "      <td>116.000000</td>\n",
       "      <td>115.230000</td>\n",
       "      <td>3.064817e+08</td>\n",
       "      <td>421.052500</td>\n",
       "      <td>3.076451e+05</td>\n",
       "      <td>13.750000</td>\n",
       "      <td>3.560194e+01</td>\n",
       "      <td>16.760162</td>\n",
       "      <td>57.350000</td>\n",
       "      <td>2016.864216</td>\n",
       "      <td>5.147452</td>\n",
       "      <td>19.328304</td>\n",
       "      <td>19.296375</td>\n",
       "      <td>1872.257313</td>\n",
       "      <td>4.717468</td>\n",
       "      <td>1426.560352</td>\n",
       "      <td>317.000000</td>\n",
       "    </tr>\n",
       "    <tr>\n",
       "      <th>99.8%</th>\n",
       "      <td>117.720681</td>\n",
       "      <td>136.392975</td>\n",
       "      <td>4029.046000</td>\n",
       "      <td>119.867890</td>\n",
       "      <td>121.034725</td>\n",
       "      <td>120.000000</td>\n",
       "      <td>119.424000</td>\n",
       "      <td>4.347160e+08</td>\n",
       "      <td>619.553750</td>\n",
       "      <td>4.378917e+05</td>\n",
       "      <td>16.000000</td>\n",
       "      <td>4.811976e+01</td>\n",
       "      <td>24.530310</td>\n",
       "      <td>62.246000</td>\n",
       "      <td>2100.990238</td>\n",
       "      <td>5.476141</td>\n",
       "      <td>22.919618</td>\n",
       "      <td>28.548459</td>\n",
       "      <td>2460.274766</td>\n",
       "      <td>6.310835</td>\n",
       "      <td>3382.551771</td>\n",
       "      <td>336.000000</td>\n",
       "    </tr>\n",
       "    <tr>\n",
       "      <th>max</th>\n",
       "      <td>151.366667</td>\n",
       "      <td>165.498333</td>\n",
       "      <td>7555.000000</td>\n",
       "      <td>154.006000</td>\n",
       "      <td>150.300000</td>\n",
       "      <td>150.300000</td>\n",
       "      <td>149.180000</td>\n",
       "      <td>2.766434e+09</td>\n",
       "      <td>12219.000000</td>\n",
       "      <td>2.766005e+06</td>\n",
       "      <td>16.000000</td>\n",
       "      <td>4.906882e+08</td>\n",
       "      <td>546.349023</td>\n",
       "      <td>405041.100000</td>\n",
       "      <td>2633.656834</td>\n",
       "      <td>6.738786</td>\n",
       "      <td>1470.864007</td>\n",
       "      <td>8667.445099</td>\n",
       "      <td>2671.329922</td>\n",
       "      <td>6.843922</td>\n",
       "      <td>555969.699144</td>\n",
       "      <td>379.000000</td>\n",
       "    </tr>\n",
       "  </tbody>\n",
       "</table>\n",
       "</div>"
      ],
      "text/plain": [
       "                bid           ask    bid_ask_bp  market_price  admitted_price  \\\n",
       "count  56146.000000  54163.000000  53877.000000  53335.000000    53284.000000   \n",
       "mean      98.216441    101.494955    297.425576    100.143530      100.339210   \n",
       "std        7.057468      5.968641    552.364383      5.182184        5.293717   \n",
       "min       51.027500     51.708000      1.000000     49.980000       51.145000   \n",
       "0.2%      60.370000     72.880125      2.200000     72.225030       71.222393   \n",
       "0.5%      62.837575     82.053620      3.200000     79.839740       80.000000   \n",
       "1%        70.003800     87.599240      4.250000     85.508450       85.880000   \n",
       "5%        85.894250     93.836150      9.000000     91.971400       92.100000   \n",
       "50%       99.940000    101.000000     98.000000    100.450000      100.546000   \n",
       "95%      105.979500    109.975900   1305.200000    106.880000      107.508000   \n",
       "99%      111.040000    123.750000   3075.720000    112.490000      113.551700   \n",
       "99.5%    113.400000    130.889520   3654.306667    115.258000      116.217550   \n",
       "99.8%    117.720681    136.392975   4029.046000    119.867890      121.034725   \n",
       "max      151.366667    165.498333   7555.000000    154.006000      150.300000   \n",
       "\n",
       "        close_price    indicative      turnover  num_of_deals  \\\n",
       "count  56578.000000  56608.000000  4.919800e+04  49198.000000   \n",
       "mean     100.180010    100.075685  1.274374e+07     22.735483   \n",
       "std        5.314846      5.265119  5.163165e+07    134.530222   \n",
       "min       51.573333     51.394000  5.050000e+02      1.000000   \n",
       "0.2%      71.754585     71.720490  9.617865e+02      1.000000   \n",
       "0.5%      78.242000     78.412600  9.800000e+02      1.000000   \n",
       "1%        85.010000     84.894770  1.000000e+03      1.000000   \n",
       "5%        91.752000     91.700000  3.176603e+03      1.000000   \n",
       "50%      100.465000    100.406000  8.086487e+05      4.000000   \n",
       "95%      107.272450    107.081300  6.084457e+07     85.000000   \n",
       "99%      113.244805    112.799860  2.048330e+08    282.507500   \n",
       "99.5%    116.000000    115.230000  3.064817e+08    421.052500   \n",
       "99.8%    120.000000    119.424000  4.347160e+08    619.553750   \n",
       "max      150.300000    149.180000  2.766434e+09  12219.000000   \n",
       "\n",
       "       turnover_in_securities  current_coupon     ytm_ind_p   ytm_close_p  \\\n",
       "count            4.919800e+04    44132.000000  3.760900e+04  34064.000000   \n",
       "mean             1.270736e+04        5.268681  1.305263e+04      4.593140   \n",
       "std              5.149840e+04        4.136816  2.530228e+06      6.060990   \n",
       "min              1.000000e+00        0.010000 -5.270472e+01    -62.497646   \n",
       "0.2%             1.000000e+00        0.010000 -1.610009e+01    -17.469569   \n",
       "0.5%             1.000000e+00        0.010000 -9.310555e+00    -10.485881   \n",
       "1%               1.000000e+00        0.010000 -5.677145e+00     -6.965396   \n",
       "5%               3.000000e+00        0.010000 -1.156748e+00     -1.441812   \n",
       "50%              8.150000e+02        6.900000  5.803347e+00      5.277791   \n",
       "95%              6.051372e+04       11.250000  1.224062e+01     10.095855   \n",
       "99%              2.038852e+05       13.500000  1.793136e+01     14.251562   \n",
       "99.5%            3.076451e+05       13.750000  3.560194e+01     16.760162   \n",
       "99.8%            4.378917e+05       16.000000  4.811976e+01     24.530310   \n",
       "max              2.766005e+06       16.000000  4.906882e+08    546.349023   \n",
       "\n",
       "       accrued_interest      duration  mod_duration  ytm_oferta_ind_p  \\\n",
       "count      55825.000000  37583.000000  37543.000000      21785.000000   \n",
       "mean         258.096617    929.621695      2.439459          8.270520   \n",
       "std         7915.254582    529.861204      1.419243         16.188077   \n",
       "min            0.010000      1.000000      0.000258        -57.211869   \n",
       "0.2%           0.010000     13.000000      0.033340        -15.194487   \n",
       "0.5%           0.010000     20.500000      0.050621         -7.247859   \n",
       "1%             0.010000     34.000000      0.086709         -3.598850   \n",
       "5%             0.020000    137.062513      0.352048          0.267555   \n",
       "50%           11.390000    879.738361      2.277822          8.375433   \n",
       "95%           41.420000   1783.589247      4.814335         12.842752   \n",
       "99%           53.405000   1942.618569      4.992922         16.460063   \n",
       "99.5%         57.350000   2016.864216      5.147452         19.328304   \n",
       "99.8%         62.246000   2100.990238      5.476141         22.919618   \n",
       "max       405041.100000   2633.656834      6.738786       1470.864007   \n",
       "\n",
       "       ytm_oferta_close_p  dur_to_p_c_date  mod_dur_to_p_c_date  \\\n",
       "count        17425.000000     21785.000000         21744.000000   \n",
       "mean             8.153741       733.660259             1.860170   \n",
       "std             69.874274       448.329990             1.136065   \n",
       "min            -47.092296         5.500000             0.013319   \n",
       "0.2%           -18.506408        20.000000             0.050535   \n",
       "0.5%            -9.486805        24.500000             0.059919   \n",
       "1%              -4.777217        33.000000             0.085446   \n",
       "5%               0.009365        87.000000             0.227916   \n",
       "50%              7.809859       693.185917             1.773839   \n",
       "95%             11.618828      1477.987308             3.742851   \n",
       "99%             14.463483      1773.085512             4.484850   \n",
       "99.5%           19.296375      1872.257313             4.717468   \n",
       "99.8%           28.548459      2460.274766             6.310835   \n",
       "max           8667.445099      2671.329922             6.843922   \n",
       "\n",
       "         g_spread_bp     cum_count  \n",
       "count   56650.000000  56650.000000  \n",
       "mean        5.154691     79.240229  \n",
       "std      2395.007081     70.618126  \n",
       "min     -5673.468075      1.000000  \n",
       "0.2%    -1631.440825      2.000000  \n",
       "0.5%    -1215.811553      2.000000  \n",
       "1%       -964.545300      2.000000  \n",
       "5%       -622.841495      6.000000  \n",
       "50%        80.305009     56.000000  \n",
       "95%       371.630658    226.000000  \n",
       "99%       858.013299    294.000000  \n",
       "99.5%    1426.560352    317.000000  \n",
       "99.8%    3382.551771    336.000000  \n",
       "max    555969.699144    379.000000  "
      ]
     },
     "execution_count": 43,
     "metadata": {},
     "output_type": "execute_result"
    }
   ],
   "source": [
    "all_weekly_data.describe(percentiles=[0.0025, 0.005, 0.01, 0.05, 0.95, 0.99, 0.995, 0.9975])"
   ]
  },
  {
   "cell_type": "markdown",
   "metadata": {},
   "source": [
    "Видим снова выбросы по некоторым характеристикам, удалим полностью бонды c такими показателями, для остальных бондов проведём дополнительно винзоризацию."
   ]
  },
  {
   "cell_type": "code",
   "execution_count": 44,
   "metadata": {},
   "outputs": [
    {
     "data": {
      "text/plain": [
       "64"
      ]
     },
     "execution_count": 44,
     "metadata": {},
     "output_type": "execute_result"
    }
   ],
   "source": [
    "cols = ['bid_ask_bp']\n",
    "\n",
    "lower_bound = all_weekly_data[cols].quantile(0.00)\n",
    "upper_bound = all_weekly_data[cols].quantile(0.995)\n",
    "\n",
    "bad_bonds = all_weekly_data.loc[((all_weekly_data[cols] < lower_bound) |\n",
    "                                 (all_weekly_data[cols] > upper_bound)).any(axis=1), 'bond'].value_counts()\n",
    "bad_bad_bonds = list(bad_bonds.index)\n",
    "len(bad_bad_bonds)"
   ]
  },
  {
   "cell_type": "code",
   "execution_count": 45,
   "metadata": {},
   "outputs": [
    {
     "data": {
      "text/plain": [
       "(46946, 28)"
      ]
     },
     "execution_count": 45,
     "metadata": {},
     "output_type": "execute_result"
    }
   ],
   "source": [
    "all_weekly_data = all_weekly_data.loc[~all_weekly_data.bond.isin(bad_bad_bonds)]\n",
    "all_weekly_data.shape"
   ]
  },
  {
   "cell_type": "code",
   "execution_count": 46,
   "metadata": {
    "scrolled": false
   },
   "outputs": [
    {
     "data": {
      "text/html": [
       "<div>\n",
       "<style scoped>\n",
       "    .dataframe tbody tr th:only-of-type {\n",
       "        vertical-align: middle;\n",
       "    }\n",
       "\n",
       "    .dataframe tbody tr th {\n",
       "        vertical-align: top;\n",
       "    }\n",
       "\n",
       "    .dataframe thead th {\n",
       "        text-align: right;\n",
       "    }\n",
       "</style>\n",
       "<table border=\"1\" class=\"dataframe\">\n",
       "  <thead>\n",
       "    <tr style=\"text-align: right;\">\n",
       "      <th></th>\n",
       "      <th>bid</th>\n",
       "      <th>ask</th>\n",
       "      <th>bid_ask_bp</th>\n",
       "      <th>market_price</th>\n",
       "      <th>admitted_price</th>\n",
       "      <th>close_price</th>\n",
       "      <th>indicative</th>\n",
       "      <th>turnover</th>\n",
       "      <th>num_of_deals</th>\n",
       "      <th>turnover_in_securities</th>\n",
       "      <th>current_coupon</th>\n",
       "      <th>ytm_ind_p</th>\n",
       "      <th>ytm_close_p</th>\n",
       "      <th>accrued_interest</th>\n",
       "      <th>duration</th>\n",
       "      <th>mod_duration</th>\n",
       "      <th>ytm_oferta_ind_p</th>\n",
       "      <th>ytm_oferta_close_p</th>\n",
       "      <th>dur_to_p_c_date</th>\n",
       "      <th>mod_dur_to_p_c_date</th>\n",
       "      <th>g_spread_bp</th>\n",
       "      <th>cum_count</th>\n",
       "    </tr>\n",
       "  </thead>\n",
       "  <tbody>\n",
       "    <tr>\n",
       "      <th>count</th>\n",
       "      <td>46717.000000</td>\n",
       "      <td>45790.000000</td>\n",
       "      <td>45618.000000</td>\n",
       "      <td>44809.000000</td>\n",
       "      <td>44646.000000</td>\n",
       "      <td>46901.000000</td>\n",
       "      <td>46925.000000</td>\n",
       "      <td>4.266800e+04</td>\n",
       "      <td>42668.000000</td>\n",
       "      <td>4.266800e+04</td>\n",
       "      <td>37007.000000</td>\n",
       "      <td>3.269000e+04</td>\n",
       "      <td>29745.000000</td>\n",
       "      <td>46187.000000</td>\n",
       "      <td>32664.000000</td>\n",
       "      <td>32624.000000</td>\n",
       "      <td>16661.000000</td>\n",
       "      <td>13442.000000</td>\n",
       "      <td>16661.000000</td>\n",
       "      <td>16625.000000</td>\n",
       "      <td>46946.000000</td>\n",
       "      <td>46946.000000</td>\n",
       "    </tr>\n",
       "    <tr>\n",
       "      <th>mean</th>\n",
       "      <td>98.768352</td>\n",
       "      <td>101.136234</td>\n",
       "      <td>227.182898</td>\n",
       "      <td>99.951738</td>\n",
       "      <td>100.142479</td>\n",
       "      <td>100.014631</td>\n",
       "      <td>99.913324</td>\n",
       "      <td>1.187747e+07</td>\n",
       "      <td>25.642384</td>\n",
       "      <td>1.183211e+04</td>\n",
       "      <td>5.159923</td>\n",
       "      <td>1.501589e+04</td>\n",
       "      <td>4.587773</td>\n",
       "      <td>308.132332</td>\n",
       "      <td>910.981452</td>\n",
       "      <td>2.394202</td>\n",
       "      <td>7.705228</td>\n",
       "      <td>6.905700</td>\n",
       "      <td>780.127766</td>\n",
       "      <td>1.980879</td>\n",
       "      <td>1.794298</td>\n",
       "      <td>72.376411</td>\n",
       "    </tr>\n",
       "    <tr>\n",
       "      <th>std</th>\n",
       "      <td>6.018102</td>\n",
       "      <td>5.623845</td>\n",
       "      <td>390.654823</td>\n",
       "      <td>5.249743</td>\n",
       "      <td>5.208028</td>\n",
       "      <td>5.254226</td>\n",
       "      <td>5.212934</td>\n",
       "      <td>4.726672e+07</td>\n",
       "      <td>144.186866</td>\n",
       "      <td>4.711092e+04</td>\n",
       "      <td>4.047529</td>\n",
       "      <td>2.713927e+06</td>\n",
       "      <td>6.203662</td>\n",
       "      <td>8701.185989</td>\n",
       "      <td>522.556117</td>\n",
       "      <td>1.407846</td>\n",
       "      <td>4.086696</td>\n",
       "      <td>4.228401</td>\n",
       "      <td>455.014405</td>\n",
       "      <td>1.152198</td>\n",
       "      <td>2609.618554</td>\n",
       "      <td>66.233398</td>\n",
       "    </tr>\n",
       "    <tr>\n",
       "      <th>min</th>\n",
       "      <td>51.027500</td>\n",
       "      <td>51.708000</td>\n",
       "      <td>1.000000</td>\n",
       "      <td>49.980000</td>\n",
       "      <td>51.145000</td>\n",
       "      <td>51.573333</td>\n",
       "      <td>51.394000</td>\n",
       "      <td>8.260000e+02</td>\n",
       "      <td>1.000000</td>\n",
       "      <td>1.000000e+00</td>\n",
       "      <td>0.010000</td>\n",
       "      <td>-5.270472e+01</td>\n",
       "      <td>-62.497646</td>\n",
       "      <td>0.010000</td>\n",
       "      <td>1.000000</td>\n",
       "      <td>0.000258</td>\n",
       "      <td>-57.211869</td>\n",
       "      <td>-47.092296</td>\n",
       "      <td>5.500000</td>\n",
       "      <td>0.013319</td>\n",
       "      <td>-5673.468075</td>\n",
       "      <td>1.000000</td>\n",
       "    </tr>\n",
       "    <tr>\n",
       "      <th>0.2%</th>\n",
       "      <td>66.072495</td>\n",
       "      <td>67.931515</td>\n",
       "      <td>2.000000</td>\n",
       "      <td>66.906880</td>\n",
       "      <td>67.641806</td>\n",
       "      <td>68.709000</td>\n",
       "      <td>68.401030</td>\n",
       "      <td>9.650000e+02</td>\n",
       "      <td>1.000000</td>\n",
       "      <td>1.000000e+00</td>\n",
       "      <td>0.010000</td>\n",
       "      <td>-1.618444e+01</td>\n",
       "      <td>-17.546779</td>\n",
       "      <td>0.010000</td>\n",
       "      <td>12.828750</td>\n",
       "      <td>0.030245</td>\n",
       "      <td>-14.214696</td>\n",
       "      <td>-15.936433</td>\n",
       "      <td>20.825000</td>\n",
       "      <td>0.057946</td>\n",
       "      <td>-1724.637087</td>\n",
       "      <td>2.000000</td>\n",
       "    </tr>\n",
       "    <tr>\n",
       "      <th>0.5%</th>\n",
       "      <td>73.715800</td>\n",
       "      <td>81.586940</td>\n",
       "      <td>3.000000</td>\n",
       "      <td>78.159600</td>\n",
       "      <td>80.872500</td>\n",
       "      <td>78.121000</td>\n",
       "      <td>78.103160</td>\n",
       "      <td>9.850000e+02</td>\n",
       "      <td>1.000000</td>\n",
       "      <td>1.000000e+00</td>\n",
       "      <td>0.010000</td>\n",
       "      <td>-9.630914e+00</td>\n",
       "      <td>-10.485881</td>\n",
       "      <td>0.010000</td>\n",
       "      <td>20.000000</td>\n",
       "      <td>0.049530</td>\n",
       "      <td>-7.442890</td>\n",
       "      <td>-9.416925</td>\n",
       "      <td>27.000000</td>\n",
       "      <td>0.073659</td>\n",
       "      <td>-1276.949088</td>\n",
       "      <td>2.000000</td>\n",
       "    </tr>\n",
       "    <tr>\n",
       "      <th>1%</th>\n",
       "      <td>77.616800</td>\n",
       "      <td>87.243400</td>\n",
       "      <td>4.000000</td>\n",
       "      <td>84.902080</td>\n",
       "      <td>85.837933</td>\n",
       "      <td>84.710000</td>\n",
       "      <td>84.716480</td>\n",
       "      <td>1.002000e+03</td>\n",
       "      <td>1.000000</td>\n",
       "      <td>1.000000e+00</td>\n",
       "      <td>0.010000</td>\n",
       "      <td>-5.340251e+00</td>\n",
       "      <td>-6.436692</td>\n",
       "      <td>0.010000</td>\n",
       "      <td>30.000000</td>\n",
       "      <td>0.076400</td>\n",
       "      <td>-3.288581</td>\n",
       "      <td>-4.522213</td>\n",
       "      <td>37.000000</td>\n",
       "      <td>0.106485</td>\n",
       "      <td>-948.005932</td>\n",
       "      <td>2.000000</td>\n",
       "    </tr>\n",
       "    <tr>\n",
       "      <th>5%</th>\n",
       "      <td>88.571200</td>\n",
       "      <td>93.550900</td>\n",
       "      <td>8.200000</td>\n",
       "      <td>91.706000</td>\n",
       "      <td>92.140000</td>\n",
       "      <td>91.816000</td>\n",
       "      <td>91.740000</td>\n",
       "      <td>4.644285e+03</td>\n",
       "      <td>1.000000</td>\n",
       "      <td>4.500000e+00</td>\n",
       "      <td>0.010000</td>\n",
       "      <td>-9.132541e-01</td>\n",
       "      <td>-1.149821</td>\n",
       "      <td>0.020000</td>\n",
       "      <td>132.000000</td>\n",
       "      <td>0.339268</td>\n",
       "      <td>0.283254</td>\n",
       "      <td>0.039288</td>\n",
       "      <td>99.000000</td>\n",
       "      <td>0.263176</td>\n",
       "      <td>-612.680966</td>\n",
       "      <td>6.000000</td>\n",
       "    </tr>\n",
       "    <tr>\n",
       "      <th>50%</th>\n",
       "      <td>99.998000</td>\n",
       "      <td>100.930000</td>\n",
       "      <td>81.750000</td>\n",
       "      <td>100.402000</td>\n",
       "      <td>100.472000</td>\n",
       "      <td>100.414000</td>\n",
       "      <td>100.362500</td>\n",
       "      <td>9.044744e+05</td>\n",
       "      <td>4.750000</td>\n",
       "      <td>9.195000e+02</td>\n",
       "      <td>6.900000</td>\n",
       "      <td>5.700853e+00</td>\n",
       "      <td>5.249027</td>\n",
       "      <td>10.616000</td>\n",
       "      <td>858.062931</td>\n",
       "      <td>2.224432</td>\n",
       "      <td>8.112806</td>\n",
       "      <td>7.493853</td>\n",
       "      <td>757.559192</td>\n",
       "      <td>1.924440</td>\n",
       "      <td>78.899072</td>\n",
       "      <td>50.000000</td>\n",
       "    </tr>\n",
       "    <tr>\n",
       "      <th>95%</th>\n",
       "      <td>105.570000</td>\n",
       "      <td>108.564000</td>\n",
       "      <td>944.200000</td>\n",
       "      <td>106.200000</td>\n",
       "      <td>106.598000</td>\n",
       "      <td>106.452000</td>\n",
       "      <td>106.260000</td>\n",
       "      <td>5.746740e+07</td>\n",
       "      <td>95.000000</td>\n",
       "      <td>5.731367e+04</td>\n",
       "      <td>9.900000</td>\n",
       "      <td>1.225856e+01</td>\n",
       "      <td>9.881443</td>\n",
       "      <td>40.054000</td>\n",
       "      <td>1772.000000</td>\n",
       "      <td>4.795539</td>\n",
       "      <td>12.640173</td>\n",
       "      <td>11.272613</td>\n",
       "      <td>1510.604936</td>\n",
       "      <td>3.841164</td>\n",
       "      <td>370.714211</td>\n",
       "      <td>208.000000</td>\n",
       "    </tr>\n",
       "    <tr>\n",
       "      <th>99%</th>\n",
       "      <td>110.180000</td>\n",
       "      <td>119.655695</td>\n",
       "      <td>2083.500000</td>\n",
       "      <td>110.984980</td>\n",
       "      <td>111.708200</td>\n",
       "      <td>111.500000</td>\n",
       "      <td>110.959520</td>\n",
       "      <td>1.827642e+08</td>\n",
       "      <td>301.330000</td>\n",
       "      <td>1.826317e+05</td>\n",
       "      <td>12.100000</td>\n",
       "      <td>1.859415e+01</td>\n",
       "      <td>14.492458</td>\n",
       "      <td>51.206720</td>\n",
       "      <td>1841.070097</td>\n",
       "      <td>4.966013</td>\n",
       "      <td>16.215578</td>\n",
       "      <td>13.514915</td>\n",
       "      <td>1811.505387</td>\n",
       "      <td>4.560591</td>\n",
       "      <td>861.904036</td>\n",
       "      <td>288.000000</td>\n",
       "    </tr>\n",
       "    <tr>\n",
       "      <th>99.5%</th>\n",
       "      <td>113.387240</td>\n",
       "      <td>126.340000</td>\n",
       "      <td>2532.796000</td>\n",
       "      <td>114.575260</td>\n",
       "      <td>115.347900</td>\n",
       "      <td>114.954000</td>\n",
       "      <td>114.106920</td>\n",
       "      <td>2.830254e+08</td>\n",
       "      <td>469.332500</td>\n",
       "      <td>2.797342e+05</td>\n",
       "      <td>13.750000</td>\n",
       "      <td>3.765414e+01</td>\n",
       "      <td>17.321514</td>\n",
       "      <td>56.110000</td>\n",
       "      <td>1944.227213</td>\n",
       "      <td>5.016654</td>\n",
       "      <td>18.262924</td>\n",
       "      <td>14.463584</td>\n",
       "      <td>1885.074945</td>\n",
       "      <td>4.738353</td>\n",
       "      <td>1367.429883</td>\n",
       "      <td>322.000000</td>\n",
       "    </tr>\n",
       "    <tr>\n",
       "      <th>99.8%</th>\n",
       "      <td>119.931080</td>\n",
       "      <td>133.520550</td>\n",
       "      <td>3000.872500</td>\n",
       "      <td>120.586940</td>\n",
       "      <td>121.823875</td>\n",
       "      <td>121.163000</td>\n",
       "      <td>120.456090</td>\n",
       "      <td>3.965496e+08</td>\n",
       "      <td>674.465500</td>\n",
       "      <td>3.814806e+05</td>\n",
       "      <td>16.000000</td>\n",
       "      <td>5.019706e+01</td>\n",
       "      <td>30.236755</td>\n",
       "      <td>62.246000</td>\n",
       "      <td>2040.022951</td>\n",
       "      <td>5.215566</td>\n",
       "      <td>19.464939</td>\n",
       "      <td>16.890866</td>\n",
       "      <td>2511.879243</td>\n",
       "      <td>6.451485</td>\n",
       "      <td>3393.270187</td>\n",
       "      <td>340.000000</td>\n",
       "    </tr>\n",
       "    <tr>\n",
       "      <th>max</th>\n",
       "      <td>151.366667</td>\n",
       "      <td>165.498333</td>\n",
       "      <td>3651.000000</td>\n",
       "      <td>154.006000</td>\n",
       "      <td>150.300000</td>\n",
       "      <td>150.300000</td>\n",
       "      <td>149.180000</td>\n",
       "      <td>2.766434e+09</td>\n",
       "      <td>12219.000000</td>\n",
       "      <td>2.766005e+06</td>\n",
       "      <td>16.000000</td>\n",
       "      <td>4.906882e+08</td>\n",
       "      <td>546.349023</td>\n",
       "      <td>405041.100000</td>\n",
       "      <td>2633.656834</td>\n",
       "      <td>6.738786</td>\n",
       "      <td>48.995755</td>\n",
       "      <td>163.240974</td>\n",
       "      <td>2671.329922</td>\n",
       "      <td>6.843922</td>\n",
       "      <td>555969.699144</td>\n",
       "      <td>379.000000</td>\n",
       "    </tr>\n",
       "  </tbody>\n",
       "</table>\n",
       "</div>"
      ],
      "text/plain": [
       "                bid           ask    bid_ask_bp  market_price  admitted_price  \\\n",
       "count  46717.000000  45790.000000  45618.000000  44809.000000    44646.000000   \n",
       "mean      98.768352    101.136234    227.182898     99.951738      100.142479   \n",
       "std        6.018102      5.623845    390.654823      5.249743        5.208028   \n",
       "min       51.027500     51.708000      1.000000     49.980000       51.145000   \n",
       "0.2%      66.072495     67.931515      2.000000     66.906880       67.641806   \n",
       "0.5%      73.715800     81.586940      3.000000     78.159600       80.872500   \n",
       "1%        77.616800     87.243400      4.000000     84.902080       85.837933   \n",
       "5%        88.571200     93.550900      8.200000     91.706000       92.140000   \n",
       "50%       99.998000    100.930000     81.750000    100.402000      100.472000   \n",
       "95%      105.570000    108.564000    944.200000    106.200000      106.598000   \n",
       "99%      110.180000    119.655695   2083.500000    110.984980      111.708200   \n",
       "99.5%    113.387240    126.340000   2532.796000    114.575260      115.347900   \n",
       "99.8%    119.931080    133.520550   3000.872500    120.586940      121.823875   \n",
       "max      151.366667    165.498333   3651.000000    154.006000      150.300000   \n",
       "\n",
       "        close_price    indicative      turnover  num_of_deals  \\\n",
       "count  46901.000000  46925.000000  4.266800e+04  42668.000000   \n",
       "mean     100.014631     99.913324  1.187747e+07     25.642384   \n",
       "std        5.254226      5.212934  4.726672e+07    144.186866   \n",
       "min       51.573333     51.394000  8.260000e+02      1.000000   \n",
       "0.2%      68.709000     68.401030  9.650000e+02      1.000000   \n",
       "0.5%      78.121000     78.103160  9.850000e+02      1.000000   \n",
       "1%        84.710000     84.716480  1.002000e+03      1.000000   \n",
       "5%        91.816000     91.740000  4.644285e+03      1.000000   \n",
       "50%      100.414000    100.362500  9.044744e+05      4.750000   \n",
       "95%      106.452000    106.260000  5.746740e+07     95.000000   \n",
       "99%      111.500000    110.959520  1.827642e+08    301.330000   \n",
       "99.5%    114.954000    114.106920  2.830254e+08    469.332500   \n",
       "99.8%    121.163000    120.456090  3.965496e+08    674.465500   \n",
       "max      150.300000    149.180000  2.766434e+09  12219.000000   \n",
       "\n",
       "       turnover_in_securities  current_coupon     ytm_ind_p   ytm_close_p  \\\n",
       "count            4.266800e+04    37007.000000  3.269000e+04  29745.000000   \n",
       "mean             1.183211e+04        5.159923  1.501589e+04      4.587773   \n",
       "std              4.711092e+04        4.047529  2.713927e+06      6.203662   \n",
       "min              1.000000e+00        0.010000 -5.270472e+01    -62.497646   \n",
       "0.2%             1.000000e+00        0.010000 -1.618444e+01    -17.546779   \n",
       "0.5%             1.000000e+00        0.010000 -9.630914e+00    -10.485881   \n",
       "1%               1.000000e+00        0.010000 -5.340251e+00     -6.436692   \n",
       "5%               4.500000e+00        0.010000 -9.132541e-01     -1.149821   \n",
       "50%              9.195000e+02        6.900000  5.700853e+00      5.249027   \n",
       "95%              5.731367e+04        9.900000  1.225856e+01      9.881443   \n",
       "99%              1.826317e+05       12.100000  1.859415e+01     14.492458   \n",
       "99.5%            2.797342e+05       13.750000  3.765414e+01     17.321514   \n",
       "99.8%            3.814806e+05       16.000000  5.019706e+01     30.236755   \n",
       "max              2.766005e+06       16.000000  4.906882e+08    546.349023   \n",
       "\n",
       "       accrued_interest      duration  mod_duration  ytm_oferta_ind_p  \\\n",
       "count      46187.000000  32664.000000  32624.000000      16661.000000   \n",
       "mean         308.132332    910.981452      2.394202          7.705228   \n",
       "std         8701.185989    522.556117      1.407846          4.086696   \n",
       "min            0.010000      1.000000      0.000258        -57.211869   \n",
       "0.2%           0.010000     12.828750      0.030245        -14.214696   \n",
       "0.5%           0.010000     20.000000      0.049530         -7.442890   \n",
       "1%             0.010000     30.000000      0.076400         -3.288581   \n",
       "5%             0.020000    132.000000      0.339268          0.283254   \n",
       "50%           10.616000    858.062931      2.224432          8.112806   \n",
       "95%           40.054000   1772.000000      4.795539         12.640173   \n",
       "99%           51.206720   1841.070097      4.966013         16.215578   \n",
       "99.5%         56.110000   1944.227213      5.016654         18.262924   \n",
       "99.8%         62.246000   2040.022951      5.215566         19.464939   \n",
       "max       405041.100000   2633.656834      6.738786         48.995755   \n",
       "\n",
       "       ytm_oferta_close_p  dur_to_p_c_date  mod_dur_to_p_c_date  \\\n",
       "count        13442.000000     16661.000000         16625.000000   \n",
       "mean             6.905700       780.127766             1.980879   \n",
       "std              4.228401       455.014405             1.152198   \n",
       "min            -47.092296         5.500000             0.013319   \n",
       "0.2%           -15.936433        20.825000             0.057946   \n",
       "0.5%            -9.416925        27.000000             0.073659   \n",
       "1%              -4.522213        37.000000             0.106485   \n",
       "5%               0.039288        99.000000             0.263176   \n",
       "50%              7.493853       757.559192             1.924440   \n",
       "95%             11.272613      1510.604936             3.841164   \n",
       "99%             13.514915      1811.505387             4.560591   \n",
       "99.5%           14.463584      1885.074945             4.738353   \n",
       "99.8%           16.890866      2511.879243             6.451485   \n",
       "max            163.240974      2671.329922             6.843922   \n",
       "\n",
       "         g_spread_bp     cum_count  \n",
       "count   46946.000000  46946.000000  \n",
       "mean        1.794298     72.376411  \n",
       "std      2609.618554     66.233398  \n",
       "min     -5673.468075      1.000000  \n",
       "0.2%    -1724.637087      2.000000  \n",
       "0.5%    -1276.949088      2.000000  \n",
       "1%       -948.005932      2.000000  \n",
       "5%       -612.680966      6.000000  \n",
       "50%        78.899072     50.000000  \n",
       "95%       370.714211    208.000000  \n",
       "99%       861.904036    288.000000  \n",
       "99.5%    1367.429883    322.000000  \n",
       "99.8%    3393.270187    340.000000  \n",
       "max    555969.699144    379.000000  "
      ]
     },
     "execution_count": 46,
     "metadata": {},
     "output_type": "execute_result"
    }
   ],
   "source": [
    "all_weekly_data.describe(percentiles=[0.0025, 0.005, 0.01, 0.05, 0.95, 0.99, 0.995, 0.9975])"
   ]
  },
  {
   "cell_type": "code",
   "execution_count": 47,
   "metadata": {},
   "outputs": [
    {
     "data": {
      "text/plain": [
       "10"
      ]
     },
     "execution_count": 47,
     "metadata": {},
     "output_type": "execute_result"
    }
   ],
   "source": [
    "cols = ['g_spread_bp']\n",
    "\n",
    "lower_bound = all_weekly_data[cols].quantile(0.0025)\n",
    "upper_bound = all_weekly_data[cols].quantile(0.9975)\n",
    "\n",
    "bad_bonds = all_weekly_data.loc[((all_weekly_data[cols] < lower_bound) |\n",
    "                                 (all_weekly_data[cols] > upper_bound)).any(axis=1), 'bond'].value_counts()\n",
    "bad_bad_bonds = list(bad_bonds.index)\n",
    "len(bad_bad_bonds)"
   ]
  },
  {
   "cell_type": "code",
   "execution_count": 48,
   "metadata": {},
   "outputs": [
    {
     "data": {
      "text/plain": [
       "(45982, 28)"
      ]
     },
     "execution_count": 48,
     "metadata": {},
     "output_type": "execute_result"
    }
   ],
   "source": [
    "all_weekly_data = all_weekly_data.loc[~all_weekly_data.bond.isin(bad_bad_bonds)]\n",
    "all_weekly_data.shape"
   ]
  },
  {
   "cell_type": "code",
   "execution_count": 49,
   "metadata": {
    "scrolled": false
   },
   "outputs": [
    {
     "data": {
      "text/html": [
       "<div>\n",
       "<style scoped>\n",
       "    .dataframe tbody tr th:only-of-type {\n",
       "        vertical-align: middle;\n",
       "    }\n",
       "\n",
       "    .dataframe tbody tr th {\n",
       "        vertical-align: top;\n",
       "    }\n",
       "\n",
       "    .dataframe thead th {\n",
       "        text-align: right;\n",
       "    }\n",
       "</style>\n",
       "<table border=\"1\" class=\"dataframe\">\n",
       "  <thead>\n",
       "    <tr style=\"text-align: right;\">\n",
       "      <th></th>\n",
       "      <th>bid</th>\n",
       "      <th>ask</th>\n",
       "      <th>bid_ask_bp</th>\n",
       "      <th>market_price</th>\n",
       "      <th>admitted_price</th>\n",
       "      <th>close_price</th>\n",
       "      <th>indicative</th>\n",
       "      <th>turnover</th>\n",
       "      <th>num_of_deals</th>\n",
       "      <th>turnover_in_securities</th>\n",
       "      <th>current_coupon</th>\n",
       "      <th>ytm_ind_p</th>\n",
       "      <th>ytm_close_p</th>\n",
       "      <th>accrued_interest</th>\n",
       "      <th>duration</th>\n",
       "      <th>mod_duration</th>\n",
       "      <th>ytm_oferta_ind_p</th>\n",
       "      <th>ytm_oferta_close_p</th>\n",
       "      <th>dur_to_p_c_date</th>\n",
       "      <th>mod_dur_to_p_c_date</th>\n",
       "      <th>g_spread_bp</th>\n",
       "      <th>cum_count</th>\n",
       "    </tr>\n",
       "  </thead>\n",
       "  <tbody>\n",
       "    <tr>\n",
       "      <th>count</th>\n",
       "      <td>45754.000000</td>\n",
       "      <td>44845.000000</td>\n",
       "      <td>44674.000000</td>\n",
       "      <td>44006.000000</td>\n",
       "      <td>43817.000000</td>\n",
       "      <td>45938.000000</td>\n",
       "      <td>45962.000000</td>\n",
       "      <td>4.183000e+04</td>\n",
       "      <td>41830.000000</td>\n",
       "      <td>4.183000e+04</td>\n",
       "      <td>36619.000000</td>\n",
       "      <td>31864.000000</td>\n",
       "      <td>29166.000000</td>\n",
       "      <td>45234.000000</td>\n",
       "      <td>31864.000000</td>\n",
       "      <td>31798.000000</td>\n",
       "      <td>16494.000000</td>\n",
       "      <td>13326.000000</td>\n",
       "      <td>16494.000000</td>\n",
       "      <td>16462.000000</td>\n",
       "      <td>45982.000000</td>\n",
       "      <td>45982.000000</td>\n",
       "    </tr>\n",
       "    <tr>\n",
       "      <th>mean</th>\n",
       "      <td>98.850446</td>\n",
       "      <td>101.196052</td>\n",
       "      <td>224.936033</td>\n",
       "      <td>99.999369</td>\n",
       "      <td>100.184858</td>\n",
       "      <td>100.086005</td>\n",
       "      <td>99.981593</td>\n",
       "      <td>1.209386e+07</td>\n",
       "      <td>25.833831</td>\n",
       "      <td>1.203253e+04</td>\n",
       "      <td>5.175894</td>\n",
       "      <td>5.127817</td>\n",
       "      <td>4.526512</td>\n",
       "      <td>314.428392</td>\n",
       "      <td>923.172341</td>\n",
       "      <td>2.427340</td>\n",
       "      <td>7.712572</td>\n",
       "      <td>6.924591</td>\n",
       "      <td>786.134024</td>\n",
       "      <td>1.995921</td>\n",
       "      <td>-23.277311</td>\n",
       "      <td>72.214106</td>\n",
       "    </tr>\n",
       "    <tr>\n",
       "      <th>std</th>\n",
       "      <td>5.306998</td>\n",
       "      <td>4.788583</td>\n",
       "      <td>388.602838</td>\n",
       "      <td>4.413772</td>\n",
       "      <td>4.381435</td>\n",
       "      <td>4.417495</td>\n",
       "      <td>4.374923</td>\n",
       "      <td>4.771135e+07</td>\n",
       "      <td>145.576405</td>\n",
       "      <td>4.755615e+04</td>\n",
       "      <td>4.029184</td>\n",
       "      <td>4.241321</td>\n",
       "      <td>3.859319</td>\n",
       "      <td>8792.260070</td>\n",
       "      <td>521.364489</td>\n",
       "      <td>1.404509</td>\n",
       "      <td>4.033199</td>\n",
       "      <td>4.168357</td>\n",
       "      <td>453.253012</td>\n",
       "      <td>1.147644</td>\n",
       "      <td>318.637527</td>\n",
       "      <td>66.142820</td>\n",
       "    </tr>\n",
       "    <tr>\n",
       "      <th>min</th>\n",
       "      <td>60.015000</td>\n",
       "      <td>79.460000</td>\n",
       "      <td>1.000000</td>\n",
       "      <td>62.380000</td>\n",
       "      <td>74.978000</td>\n",
       "      <td>74.978000</td>\n",
       "      <td>75.563333</td>\n",
       "      <td>8.260000e+02</td>\n",
       "      <td>1.000000</td>\n",
       "      <td>1.000000e+00</td>\n",
       "      <td>0.010000</td>\n",
       "      <td>-13.275703</td>\n",
       "      <td>-28.995443</td>\n",
       "      <td>0.010000</td>\n",
       "      <td>1.000000</td>\n",
       "      <td>0.002848</td>\n",
       "      <td>-57.211869</td>\n",
       "      <td>-47.092296</td>\n",
       "      <td>5.500000</td>\n",
       "      <td>0.013319</td>\n",
       "      <td>-1724.637087</td>\n",
       "      <td>1.000000</td>\n",
       "    </tr>\n",
       "    <tr>\n",
       "      <th>1%</th>\n",
       "      <td>80.800000</td>\n",
       "      <td>88.996660</td>\n",
       "      <td>4.000000</td>\n",
       "      <td>86.772983</td>\n",
       "      <td>87.173280</td>\n",
       "      <td>86.900000</td>\n",
       "      <td>87.101710</td>\n",
       "      <td>1.002300e+03</td>\n",
       "      <td>1.000000</td>\n",
       "      <td>1.000000e+00</td>\n",
       "      <td>0.010000</td>\n",
       "      <td>-3.833304</td>\n",
       "      <td>-4.325247</td>\n",
       "      <td>0.010000</td>\n",
       "      <td>33.657500</td>\n",
       "      <td>0.083032</td>\n",
       "      <td>-2.979873</td>\n",
       "      <td>-4.143279</td>\n",
       "      <td>41.000000</td>\n",
       "      <td>0.109213</td>\n",
       "      <td>-862.584077</td>\n",
       "      <td>2.000000</td>\n",
       "    </tr>\n",
       "    <tr>\n",
       "      <th>5%</th>\n",
       "      <td>89.098600</td>\n",
       "      <td>93.874400</td>\n",
       "      <td>8.200000</td>\n",
       "      <td>91.962000</td>\n",
       "      <td>92.459600</td>\n",
       "      <td>92.200000</td>\n",
       "      <td>92.036100</td>\n",
       "      <td>4.906625e+03</td>\n",
       "      <td>1.000000</td>\n",
       "      <td>5.000000e+00</td>\n",
       "      <td>0.010000</td>\n",
       "      <td>-0.736119</td>\n",
       "      <td>-0.904192</td>\n",
       "      <td>0.020000</td>\n",
       "      <td>140.000000</td>\n",
       "      <td>0.357662</td>\n",
       "      <td>0.321816</td>\n",
       "      <td>0.060417</td>\n",
       "      <td>103.750000</td>\n",
       "      <td>0.273662</td>\n",
       "      <td>-598.283094</td>\n",
       "      <td>6.000000</td>\n",
       "    </tr>\n",
       "    <tr>\n",
       "      <th>25%</th>\n",
       "      <td>96.500000</td>\n",
       "      <td>99.258000</td>\n",
       "      <td>27.000000</td>\n",
       "      <td>98.070000</td>\n",
       "      <td>98.142500</td>\n",
       "      <td>98.111750</td>\n",
       "      <td>98.000000</td>\n",
       "      <td>1.260222e+05</td>\n",
       "      <td>2.200000</td>\n",
       "      <td>1.252708e+02</td>\n",
       "      <td>0.010000</td>\n",
       "      <td>1.406886</td>\n",
       "      <td>1.150732</td>\n",
       "      <td>0.210000</td>\n",
       "      <td>509.508826</td>\n",
       "      <td>1.315475</td>\n",
       "      <td>6.222572</td>\n",
       "      <td>5.838829</td>\n",
       "      <td>425.546613</td>\n",
       "      <td>1.069573</td>\n",
       "      <td>-191.794696</td>\n",
       "      <td>22.000000</td>\n",
       "    </tr>\n",
       "    <tr>\n",
       "      <th>50%</th>\n",
       "      <td>100.000000</td>\n",
       "      <td>100.930000</td>\n",
       "      <td>80.400000</td>\n",
       "      <td>100.408000</td>\n",
       "      <td>100.474000</td>\n",
       "      <td>100.422000</td>\n",
       "      <td>100.370000</td>\n",
       "      <td>9.314451e+05</td>\n",
       "      <td>4.800000</td>\n",
       "      <td>9.356750e+02</td>\n",
       "      <td>6.900000</td>\n",
       "      <td>5.699027</td>\n",
       "      <td>5.268461</td>\n",
       "      <td>10.800000</td>\n",
       "      <td>873.701176</td>\n",
       "      <td>2.260964</td>\n",
       "      <td>8.108551</td>\n",
       "      <td>7.489996</td>\n",
       "      <td>766.302993</td>\n",
       "      <td>1.941671</td>\n",
       "      <td>78.646186</td>\n",
       "      <td>50.000000</td>\n",
       "    </tr>\n",
       "    <tr>\n",
       "      <th>75%</th>\n",
       "      <td>101.880000</td>\n",
       "      <td>103.202500</td>\n",
       "      <td>261.750000</td>\n",
       "      <td>102.410000</td>\n",
       "      <td>102.594000</td>\n",
       "      <td>102.474000</td>\n",
       "      <td>102.376000</td>\n",
       "      <td>5.491616e+06</td>\n",
       "      <td>17.000000</td>\n",
       "      <td>5.403725e+03</td>\n",
       "      <td>8.450000</td>\n",
       "      <td>7.977049</td>\n",
       "      <td>7.335562</td>\n",
       "      <td>24.050000</td>\n",
       "      <td>1348.673647</td>\n",
       "      <td>3.473198</td>\n",
       "      <td>9.729237</td>\n",
       "      <td>9.187526</td>\n",
       "      <td>1110.420588</td>\n",
       "      <td>2.835835</td>\n",
       "      <td>148.207762</td>\n",
       "      <td>105.000000</td>\n",
       "    </tr>\n",
       "    <tr>\n",
       "      <th>95%</th>\n",
       "      <td>105.497675</td>\n",
       "      <td>108.327400</td>\n",
       "      <td>926.810000</td>\n",
       "      <td>106.083500</td>\n",
       "      <td>106.480000</td>\n",
       "      <td>106.317575</td>\n",
       "      <td>106.136000</td>\n",
       "      <td>5.876073e+07</td>\n",
       "      <td>95.800000</td>\n",
       "      <td>5.843848e+04</td>\n",
       "      <td>9.900000</td>\n",
       "      <td>11.734349</td>\n",
       "      <td>9.698242</td>\n",
       "      <td>40.130000</td>\n",
       "      <td>1773.969501</td>\n",
       "      <td>4.800675</td>\n",
       "      <td>12.642547</td>\n",
       "      <td>11.261223</td>\n",
       "      <td>1511.645811</td>\n",
       "      <td>3.846230</td>\n",
       "      <td>331.532995</td>\n",
       "      <td>207.000000</td>\n",
       "    </tr>\n",
       "    <tr>\n",
       "      <th>99%</th>\n",
       "      <td>109.535760</td>\n",
       "      <td>117.155120</td>\n",
       "      <td>2070.540000</td>\n",
       "      <td>110.257100</td>\n",
       "      <td>110.960400</td>\n",
       "      <td>110.776945</td>\n",
       "      <td>110.317730</td>\n",
       "      <td>1.853944e+08</td>\n",
       "      <td>306.400000</td>\n",
       "      <td>1.851652e+05</td>\n",
       "      <td>12.100000</td>\n",
       "      <td>15.930627</td>\n",
       "      <td>13.640338</td>\n",
       "      <td>51.232160</td>\n",
       "      <td>1848.217482</td>\n",
       "      <td>4.966839</td>\n",
       "      <td>16.215578</td>\n",
       "      <td>13.629707</td>\n",
       "      <td>1813.515749</td>\n",
       "      <td>4.563923</td>\n",
       "      <td>712.317773</td>\n",
       "      <td>290.000000</td>\n",
       "    </tr>\n",
       "    <tr>\n",
       "      <th>max</th>\n",
       "      <td>122.372500</td>\n",
       "      <td>149.920000</td>\n",
       "      <td>3651.000000</td>\n",
       "      <td>123.088000</td>\n",
       "      <td>130.000000</td>\n",
       "      <td>130.000000</td>\n",
       "      <td>122.320000</td>\n",
       "      <td>2.766434e+09</td>\n",
       "      <td>12219.000000</td>\n",
       "      <td>2.766005e+06</td>\n",
       "      <td>16.000000</td>\n",
       "      <td>151.012802</td>\n",
       "      <td>51.551912</td>\n",
       "      <td>405041.100000</td>\n",
       "      <td>2633.656834</td>\n",
       "      <td>6.738786</td>\n",
       "      <td>48.995755</td>\n",
       "      <td>163.240974</td>\n",
       "      <td>2671.329922</td>\n",
       "      <td>6.843922</td>\n",
       "      <td>1955.212726</td>\n",
       "      <td>379.000000</td>\n",
       "    </tr>\n",
       "  </tbody>\n",
       "</table>\n",
       "</div>"
      ],
      "text/plain": [
       "                bid           ask    bid_ask_bp  market_price  admitted_price  \\\n",
       "count  45754.000000  44845.000000  44674.000000  44006.000000    43817.000000   \n",
       "mean      98.850446    101.196052    224.936033     99.999369      100.184858   \n",
       "std        5.306998      4.788583    388.602838      4.413772        4.381435   \n",
       "min       60.015000     79.460000      1.000000     62.380000       74.978000   \n",
       "1%        80.800000     88.996660      4.000000     86.772983       87.173280   \n",
       "5%        89.098600     93.874400      8.200000     91.962000       92.459600   \n",
       "25%       96.500000     99.258000     27.000000     98.070000       98.142500   \n",
       "50%      100.000000    100.930000     80.400000    100.408000      100.474000   \n",
       "75%      101.880000    103.202500    261.750000    102.410000      102.594000   \n",
       "95%      105.497675    108.327400    926.810000    106.083500      106.480000   \n",
       "99%      109.535760    117.155120   2070.540000    110.257100      110.960400   \n",
       "max      122.372500    149.920000   3651.000000    123.088000      130.000000   \n",
       "\n",
       "        close_price    indicative      turnover  num_of_deals  \\\n",
       "count  45938.000000  45962.000000  4.183000e+04  41830.000000   \n",
       "mean     100.086005     99.981593  1.209386e+07     25.833831   \n",
       "std        4.417495      4.374923  4.771135e+07    145.576405   \n",
       "min       74.978000     75.563333  8.260000e+02      1.000000   \n",
       "1%        86.900000     87.101710  1.002300e+03      1.000000   \n",
       "5%        92.200000     92.036100  4.906625e+03      1.000000   \n",
       "25%       98.111750     98.000000  1.260222e+05      2.200000   \n",
       "50%      100.422000    100.370000  9.314451e+05      4.800000   \n",
       "75%      102.474000    102.376000  5.491616e+06     17.000000   \n",
       "95%      106.317575    106.136000  5.876073e+07     95.800000   \n",
       "99%      110.776945    110.317730  1.853944e+08    306.400000   \n",
       "max      130.000000    122.320000  2.766434e+09  12219.000000   \n",
       "\n",
       "       turnover_in_securities  current_coupon     ytm_ind_p   ytm_close_p  \\\n",
       "count            4.183000e+04    36619.000000  31864.000000  29166.000000   \n",
       "mean             1.203253e+04        5.175894      5.127817      4.526512   \n",
       "std              4.755615e+04        4.029184      4.241321      3.859319   \n",
       "min              1.000000e+00        0.010000    -13.275703    -28.995443   \n",
       "1%               1.000000e+00        0.010000     -3.833304     -4.325247   \n",
       "5%               5.000000e+00        0.010000     -0.736119     -0.904192   \n",
       "25%              1.252708e+02        0.010000      1.406886      1.150732   \n",
       "50%              9.356750e+02        6.900000      5.699027      5.268461   \n",
       "75%              5.403725e+03        8.450000      7.977049      7.335562   \n",
       "95%              5.843848e+04        9.900000     11.734349      9.698242   \n",
       "99%              1.851652e+05       12.100000     15.930627     13.640338   \n",
       "max              2.766005e+06       16.000000    151.012802     51.551912   \n",
       "\n",
       "       accrued_interest      duration  mod_duration  ytm_oferta_ind_p  \\\n",
       "count      45234.000000  31864.000000  31798.000000      16494.000000   \n",
       "mean         314.428392    923.172341      2.427340          7.712572   \n",
       "std         8792.260070    521.364489      1.404509          4.033199   \n",
       "min            0.010000      1.000000      0.002848        -57.211869   \n",
       "1%             0.010000     33.657500      0.083032         -2.979873   \n",
       "5%             0.020000    140.000000      0.357662          0.321816   \n",
       "25%            0.210000    509.508826      1.315475          6.222572   \n",
       "50%           10.800000    873.701176      2.260964          8.108551   \n",
       "75%           24.050000   1348.673647      3.473198          9.729237   \n",
       "95%           40.130000   1773.969501      4.800675         12.642547   \n",
       "99%           51.232160   1848.217482      4.966839         16.215578   \n",
       "max       405041.100000   2633.656834      6.738786         48.995755   \n",
       "\n",
       "       ytm_oferta_close_p  dur_to_p_c_date  mod_dur_to_p_c_date   g_spread_bp  \\\n",
       "count        13326.000000     16494.000000         16462.000000  45982.000000   \n",
       "mean             6.924591       786.134024             1.995921    -23.277311   \n",
       "std              4.168357       453.253012             1.147644    318.637527   \n",
       "min            -47.092296         5.500000             0.013319  -1724.637087   \n",
       "1%              -4.143279        41.000000             0.109213   -862.584077   \n",
       "5%               0.060417       103.750000             0.273662   -598.283094   \n",
       "25%              5.838829       425.546613             1.069573   -191.794696   \n",
       "50%              7.489996       766.302993             1.941671     78.646186   \n",
       "75%              9.187526      1110.420588             2.835835    148.207762   \n",
       "95%             11.261223      1511.645811             3.846230    331.532995   \n",
       "99%             13.629707      1813.515749             4.563923    712.317773   \n",
       "max            163.240974      2671.329922             6.843922   1955.212726   \n",
       "\n",
       "          cum_count  \n",
       "count  45982.000000  \n",
       "mean      72.214106  \n",
       "std       66.142820  \n",
       "min        1.000000  \n",
       "1%         2.000000  \n",
       "5%         6.000000  \n",
       "25%       22.000000  \n",
       "50%       50.000000  \n",
       "75%      105.000000  \n",
       "95%      207.000000  \n",
       "99%      290.000000  \n",
       "max      379.000000  "
      ]
     },
     "execution_count": 49,
     "metadata": {},
     "output_type": "execute_result"
    }
   ],
   "source": [
    "all_weekly_data.describe(percentiles=[0.01, 0.05, 0.25, 0.5, 0.75, 0.95, 0.99])"
   ]
  },
  {
   "cell_type": "markdown",
   "metadata": {},
   "source": [
    "Посмотрим на длины временных рядов по облигациям"
   ]
  },
  {
   "cell_type": "code",
   "execution_count": 50,
   "metadata": {},
   "outputs": [
    {
     "data": {
      "text/plain": [
       "ИРКУТ, БО-04                                      388\n",
       "Роснефть, 06                                      367\n",
       "Роснефть, 10                                      363\n",
       "Башнефть, 08                                      352\n",
       "Башнефть, 07                                      348\n",
       "                                                 ... \n",
       "ВТБ, Б-1-161                                       15\n",
       "Группа Черкизово, БО-001Р-04                       15\n",
       "ТрансФин-М, БО-24                                  14\n",
       "Сбербанк России, ИОС_PRT_SBPPRP85-5Y-001Р-383R     14\n",
       "ВТБ, Б-1-34                                        11\n",
       "Name: bond, Length: 552, dtype: int64"
      ]
     },
     "execution_count": 50,
     "metadata": {},
     "output_type": "execute_result"
    }
   ],
   "source": [
    "all_weekly_data.bond.value_counts()"
   ]
  },
  {
   "cell_type": "code",
   "execution_count": 51,
   "metadata": {},
   "outputs": [
    {
     "data": {
      "text/plain": [
       "(45943, 29)"
      ]
     },
     "execution_count": 51,
     "metadata": {},
     "output_type": "execute_result"
    }
   ],
   "source": [
    "all_weekly_data['counted_vals'] = all_weekly_data.groupby('bond')['bond'].transform('count')\n",
    "all_weekly_data = all_weekly_data.loc[all_weekly_data.counted_vals > 14]\n",
    "all_weekly_data.shape"
   ]
  },
  {
   "cell_type": "code",
   "execution_count": 52,
   "metadata": {},
   "outputs": [
    {
     "data": {
      "text/plain": [
       "ИРКУТ, БО-04                                      388\n",
       "Роснефть, 06                                      367\n",
       "Роснефть, 10                                      363\n",
       "Башнефть, 08                                      352\n",
       "Башнефть, 07                                      348\n",
       "                                                 ... \n",
       "ВТБ, Б-1-159                                       15\n",
       "Сбербанк России, ИОС_PRT_SBERPRPT-5Y-001Р-374R     15\n",
       "ВТБ, Б-1-160                                       15\n",
       "ВТБ, Б-1-32                                        15\n",
       "ВТБ, Б-1-161                                       15\n",
       "Name: bond, Length: 549, dtype: int64"
      ]
     },
     "execution_count": 52,
     "metadata": {},
     "output_type": "execute_result"
    }
   ],
   "source": [
    "all_weekly_data.bond.value_counts()"
   ]
  },
  {
   "cell_type": "code",
   "execution_count": 53,
   "metadata": {
    "scrolled": true
   },
   "outputs": [
    {
     "data": {
      "text/html": [
       "<div>\n",
       "<style scoped>\n",
       "    .dataframe tbody tr th:only-of-type {\n",
       "        vertical-align: middle;\n",
       "    }\n",
       "\n",
       "    .dataframe tbody tr th {\n",
       "        vertical-align: top;\n",
       "    }\n",
       "\n",
       "    .dataframe thead th {\n",
       "        text-align: right;\n",
       "    }\n",
       "</style>\n",
       "<table border=\"1\" class=\"dataframe\">\n",
       "  <thead>\n",
       "    <tr style=\"text-align: right;\">\n",
       "      <th></th>\n",
       "      <th>index</th>\n",
       "      <th>date</th>\n",
       "    </tr>\n",
       "  </thead>\n",
       "  <tbody>\n",
       "    <tr>\n",
       "      <th>9</th>\n",
       "      <td>2012</td>\n",
       "      <td>93</td>\n",
       "    </tr>\n",
       "    <tr>\n",
       "      <th>8</th>\n",
       "      <td>2013</td>\n",
       "      <td>1552</td>\n",
       "    </tr>\n",
       "    <tr>\n",
       "      <th>5</th>\n",
       "      <td>2014</td>\n",
       "      <td>2221</td>\n",
       "    </tr>\n",
       "    <tr>\n",
       "      <th>6</th>\n",
       "      <td>2015</td>\n",
       "      <td>2049</td>\n",
       "    </tr>\n",
       "    <tr>\n",
       "      <th>7</th>\n",
       "      <td>2016</td>\n",
       "      <td>1833</td>\n",
       "    </tr>\n",
       "    <tr>\n",
       "      <th>4</th>\n",
       "      <td>2017</td>\n",
       "      <td>2877</td>\n",
       "    </tr>\n",
       "    <tr>\n",
       "      <th>3</th>\n",
       "      <td>2018</td>\n",
       "      <td>4428</td>\n",
       "    </tr>\n",
       "    <tr>\n",
       "      <th>1</th>\n",
       "      <td>2019</td>\n",
       "      <td>7274</td>\n",
       "    </tr>\n",
       "    <tr>\n",
       "      <th>0</th>\n",
       "      <td>2020</td>\n",
       "      <td>16717</td>\n",
       "    </tr>\n",
       "    <tr>\n",
       "      <th>2</th>\n",
       "      <td>2021</td>\n",
       "      <td>6899</td>\n",
       "    </tr>\n",
       "  </tbody>\n",
       "</table>\n",
       "</div>"
      ],
      "text/plain": [
       "   index   date\n",
       "9   2012     93\n",
       "8   2013   1552\n",
       "5   2014   2221\n",
       "6   2015   2049\n",
       "7   2016   1833\n",
       "4   2017   2877\n",
       "3   2018   4428\n",
       "1   2019   7274\n",
       "0   2020  16717\n",
       "2   2021   6899"
      ]
     },
     "execution_count": 53,
     "metadata": {},
     "output_type": "execute_result"
    }
   ],
   "source": [
    "all_weekly_data.date.dt.year.value_counts().reset_index().sort_values('index')"
   ]
  },
  {
   "cell_type": "code",
   "execution_count": 54,
   "metadata": {
    "scrolled": true
   },
   "outputs": [
    {
     "data": {
      "text/plain": [
       "Московская Биржа       26166\n",
       "Московская биржа Т+    19777\n",
       "Name: exchange, dtype: int64"
      ]
     },
     "execution_count": 54,
     "metadata": {},
     "output_type": "execute_result"
    }
   ],
   "source": [
    "all_weekly_data['exchange'].value_counts()"
   ]
  },
  {
   "cell_type": "markdown",
   "metadata": {},
   "source": [
    "Добавим к нашей таблице информацию об эмитенте, секторе; добавим столбец с номером месяца"
   ]
  },
  {
   "cell_type": "code",
   "execution_count": 55,
   "metadata": {},
   "outputs": [],
   "source": [
    "dict_bond_company = dict(zip(oblig_discrip_data['Бумага'].tolist(), oblig_discrip_data['Эмитент'].tolist()))\n",
    "all_weekly_data.loc[:, 'company'] = all_weekly_data['bond'].map(dict_bond_company)\n",
    "dict_company_sector = dict(zip(oblig_discrip_data['Эмитент'].tolist(), oblig_discrip_data['Отрасль'].tolist()))\n",
    "all_weekly_data.loc[:, 'sector'] = all_weekly_data['company'].map(dict_company_sector)\n",
    "\n",
    "all_weekly_data.loc[:, 'year_num'] = all_weekly_data.date.dt.year\n",
    "all_weekly_data.loc[:, 'quarter_num'] = all_weekly_data.date.dt.quarter\n",
    "all_weekly_data.loc[:, 'month_num'] = all_weekly_data.date.dt.month\n",
    "all_weekly_data.loc[:, 'week_num'] = all_weekly_data.date.dt.week"
   ]
  },
  {
   "cell_type": "markdown",
   "metadata": {},
   "source": [
    "Посмотрим, кто главные эмитенты (топ10) в нашей выборке, и сколько процентов выборки они состоавляют (по количеству бондов)"
   ]
  },
  {
   "cell_type": "code",
   "execution_count": 56,
   "metadata": {},
   "outputs": [
    {
     "name": "stdout",
     "output_type": "stream",
     "text": [
      "76.50273224043717\n"
     ]
    },
    {
     "data": {
      "text/plain": [
       "Сбербанк России              36.794171\n",
       "ВТБ                          20.947177\n",
       "Московский кредитный банк     4.007286\n",
       "АФК Система                   2.914390\n",
       "МТС                           2.732240\n",
       "Роснефть                      2.550091\n",
       "Магнит                        2.003643\n",
       "Транснефть                    1.639344\n",
       "ФСК ЕЭС                       1.457195\n",
       "Ростелеком                    1.457195\n",
       "Name: company, dtype: float64"
      ]
     },
     "execution_count": 56,
     "metadata": {},
     "output_type": "execute_result"
    }
   ],
   "source": [
    "print(all_weekly_data.drop_duplicates(subset=['bond']).company.value_counts(normalize=True).head(10).sum() * 100)\n",
    "all_weekly_data.drop_duplicates(subset=['bond']).company.value_counts(normalize=True).head(10) * 100"
   ]
  },
  {
   "cell_type": "markdown",
   "metadata": {},
   "source": [
    "Посмотрим на количество облигаций по секторам"
   ]
  },
  {
   "cell_type": "code",
   "execution_count": 57,
   "metadata": {
    "scrolled": false
   },
   "outputs": [
    {
     "data": {
      "text/plain": [
       "Банки                                          346\n",
       "Связь и телекоммуникация                        45\n",
       "Нефтегазовая отрасль                            36\n",
       "Энергетика                                      30\n",
       "Торговля и ритэйл                               17\n",
       "Строительство и девелопмент                     14\n",
       "Черная металлургия                              12\n",
       "Химическая и нефтехимическая промышленность     11\n",
       "Горнодобывающая промышленность                   9\n",
       "Пищевая промышленность                           8\n",
       "Машиностроение                                   8\n",
       "Финансовые институты                             7\n",
       "Транспорт                                        3\n",
       "Образование                                      2\n",
       "Цветная металлургия                              1\n",
       "Name: sector, dtype: int64"
      ]
     },
     "execution_count": 57,
     "metadata": {},
     "output_type": "execute_result"
    }
   ],
   "source": [
    "all_weekly_data.drop_duplicates(subset=['bond']).sector.value_counts()"
   ]
  },
  {
   "cell_type": "markdown",
   "metadata": {},
   "source": [
    "Чуть укоротим названия секторов"
   ]
  },
  {
   "cell_type": "code",
   "execution_count": 58,
   "metadata": {},
   "outputs": [],
   "source": [
    "all_weekly_data.sector.replace({'Пищевая промышленность': 'Пищевая пром',\n",
    "#                                 'Банки', \n",
    "                                'Связь и телекоммуникация': 'Связь/телеком',\n",
    "                                'Черная металлургия': 'Черная метал.', \n",
    "                                'Нефтегазовая отрасль': 'Нефть и газ',\n",
    "#                                 'Энергетика',\n",
    "#                                 'Образование', \n",
    "                                'Машиностроение': 'Машиностр',\n",
    "                                'Торговля и ритэйл': 'Торговля',\n",
    "                                'Строительство и девелопмент': 'Строительство',\n",
    "                                'Химическая и нефтехимическая промышленность': 'Хим/нефтехим',\n",
    "#                                 'Транспорт',\n",
    "                                'Горнодобывающая промышленность': 'Горнодобыча', \n",
    "                                'Цветная металлургия': 'Цвет. метал.', \n",
    "                                'Другие отрасли': 'Другие',\n",
    "                                'Финансовые институты': 'Фин институты',\n",
    "#                                 'Информационные и высокие технологии': 'Высокие техно',\n",
    "#                                 'АПК и сельское хозяйство': 'АПК и с/х',\n",
    "#                                 'Медицина и здравоохранение': 'Медицина',\n",
    "                               }, inplace=True)"
   ]
  },
  {
   "cell_type": "markdown",
   "metadata": {},
   "source": [
    "Добавим информацию о размере эмиссии"
   ]
  },
  {
   "cell_type": "code",
   "execution_count": 59,
   "metadata": {},
   "outputs": [],
   "source": [
    "dict_bond_issuance = dict(zip(oblig_discrip_data['Бумага'].tolist(), \n",
    "                              oblig_discrip_data['Объем эмиссии'].tolist()))\n",
    "dict_bond_reg_date = dict(zip(oblig_discrip_data['Бумага'].tolist(), \n",
    "                              oblig_discrip_data['Расчетная дата начала обращения'].tolist()))\n",
    "\n",
    "all_weekly_data.loc[:, 'issuance'] = all_weekly_data.bond.map(dict_bond_issuance)\n",
    "all_weekly_data.loc[:, 'reg_date'] = all_weekly_data.bond.map(dict_bond_reg_date)"
   ]
  },
  {
   "cell_type": "markdown",
   "metadata": {},
   "source": [
    "### Создание новых признаков по временным рядам (интегрирование, логарифмирование и т.д.)"
   ]
  },
  {
   "cell_type": "markdown",
   "metadata": {},
   "source": [
    "Создаём переменную количества дней до погашения и дней в обращении"
   ]
  },
  {
   "cell_type": "code",
   "execution_count": 60,
   "metadata": {},
   "outputs": [],
   "source": [
    "all_weekly_data.loc[:, 'days_left'] = (all_weekly_data.maturity - all_weekly_data.date).dt.days\n",
    "all_weekly_data.loc[:, 'days_passed'] = (all_weekly_data.date - all_weekly_data.reg_date).dt.days"
   ]
  },
  {
   "cell_type": "markdown",
   "metadata": {},
   "source": [
    "Проведём сортировку по бумаге и датам"
   ]
  },
  {
   "cell_type": "code",
   "execution_count": 61,
   "metadata": {
    "scrolled": false
   },
   "outputs": [
    {
     "data": {
      "text/html": [
       "<div>\n",
       "<style scoped>\n",
       "    .dataframe tbody tr th:only-of-type {\n",
       "        vertical-align: middle;\n",
       "    }\n",
       "\n",
       "    .dataframe tbody tr th {\n",
       "        vertical-align: top;\n",
       "    }\n",
       "\n",
       "    .dataframe thead th {\n",
       "        text-align: right;\n",
       "    }\n",
       "</style>\n",
       "<table border=\"1\" class=\"dataframe\">\n",
       "  <thead>\n",
       "    <tr style=\"text-align: right;\">\n",
       "      <th></th>\n",
       "      <th>date</th>\n",
       "      <th>bid</th>\n",
       "      <th>ask</th>\n",
       "      <th>bid_ask_bp</th>\n",
       "      <th>market_price</th>\n",
       "      <th>admitted_price</th>\n",
       "      <th>close_price</th>\n",
       "      <th>indicative</th>\n",
       "      <th>turnover</th>\n",
       "      <th>num_of_deals</th>\n",
       "      <th>turnover_in_securities</th>\n",
       "      <th>current_coupon</th>\n",
       "      <th>ytm_ind_p</th>\n",
       "      <th>ytm_close_p</th>\n",
       "      <th>accrued_interest</th>\n",
       "      <th>duration</th>\n",
       "      <th>mod_duration</th>\n",
       "      <th>ytm_oferta_ind_p</th>\n",
       "      <th>ytm_oferta_close_p</th>\n",
       "      <th>dur_to_p_c_date</th>\n",
       "      <th>mod_dur_to_p_c_date</th>\n",
       "      <th>g_spread_bp</th>\n",
       "      <th>exchange</th>\n",
       "      <th>indicative_type</th>\n",
       "      <th>maturity</th>\n",
       "      <th>put_call_date</th>\n",
       "      <th>bond</th>\n",
       "      <th>cum_count</th>\n",
       "      <th>counted_vals</th>\n",
       "      <th>company</th>\n",
       "      <th>sector</th>\n",
       "      <th>year_num</th>\n",
       "      <th>quarter_num</th>\n",
       "      <th>month_num</th>\n",
       "      <th>week_num</th>\n",
       "      <th>issuance</th>\n",
       "      <th>reg_date</th>\n",
       "      <th>days_left</th>\n",
       "      <th>days_passed</th>\n",
       "    </tr>\n",
       "  </thead>\n",
       "  <tbody>\n",
       "    <tr>\n",
       "      <th>0</th>\n",
       "      <td>2012-11-11</td>\n",
       "      <td>100.000</td>\n",
       "      <td>100.1375</td>\n",
       "      <td>13.75</td>\n",
       "      <td>100.176667</td>\n",
       "      <td>100.276667</td>\n",
       "      <td>100.0725</td>\n",
       "      <td>100.1375</td>\n",
       "      <td>82745708.70</td>\n",
       "      <td>9.0</td>\n",
       "      <td>82476.00</td>\n",
       "      <td>NaN</td>\n",
       "      <td>9.089402</td>\n",
       "      <td>NaN</td>\n",
       "      <td>1.3325</td>\n",
       "      <td>945.402288</td>\n",
       "      <td>NaN</td>\n",
       "      <td>NaN</td>\n",
       "      <td>NaN</td>\n",
       "      <td>NaN</td>\n",
       "      <td>NaN</td>\n",
       "      <td>214.085654</td>\n",
       "      <td>Московская Биржа</td>\n",
       "      <td>Avg</td>\n",
       "      <td>2015-10-30</td>\n",
       "      <td>NaT</td>\n",
       "      <td>АЛРОСА, БО-01</td>\n",
       "      <td>4</td>\n",
       "      <td>155</td>\n",
       "      <td>АЛРОСА</td>\n",
       "      <td>Горнодобыча</td>\n",
       "      <td>2012</td>\n",
       "      <td>4</td>\n",
       "      <td>11</td>\n",
       "      <td>45</td>\n",
       "      <td>5.000000e+09</td>\n",
       "      <td>2012-11-06</td>\n",
       "      <td>1083</td>\n",
       "      <td>5.0</td>\n",
       "    </tr>\n",
       "    <tr>\n",
       "      <th>1</th>\n",
       "      <td>2012-11-18</td>\n",
       "      <td>100.006</td>\n",
       "      <td>100.0400</td>\n",
       "      <td>6.00</td>\n",
       "      <td>100.040000</td>\n",
       "      <td>100.272000</td>\n",
       "      <td>100.0200</td>\n",
       "      <td>100.0280</td>\n",
       "      <td>756750.25</td>\n",
       "      <td>1.5</td>\n",
       "      <td>756.75</td>\n",
       "      <td>NaN</td>\n",
       "      <td>9.133786</td>\n",
       "      <td>NaN</td>\n",
       "      <td>2.9080</td>\n",
       "      <td>945.402288</td>\n",
       "      <td>NaN</td>\n",
       "      <td>NaN</td>\n",
       "      <td>NaN</td>\n",
       "      <td>NaN</td>\n",
       "      <td>NaN</td>\n",
       "      <td>215.828005</td>\n",
       "      <td>Московская Биржа</td>\n",
       "      <td>Avg</td>\n",
       "      <td>2015-10-30</td>\n",
       "      <td>NaT</td>\n",
       "      <td>АЛРОСА, БО-01</td>\n",
       "      <td>4</td>\n",
       "      <td>155</td>\n",
       "      <td>АЛРОСА</td>\n",
       "      <td>Горнодобыча</td>\n",
       "      <td>2012</td>\n",
       "      <td>4</td>\n",
       "      <td>11</td>\n",
       "      <td>46</td>\n",
       "      <td>5.000000e+09</td>\n",
       "      <td>2012-11-06</td>\n",
       "      <td>1076</td>\n",
       "      <td>12.0</td>\n",
       "    </tr>\n",
       "    <tr>\n",
       "      <th>2</th>\n",
       "      <td>2012-11-25</td>\n",
       "      <td>100.210</td>\n",
       "      <td>100.2700</td>\n",
       "      <td>6.00</td>\n",
       "      <td>100.176000</td>\n",
       "      <td>100.280000</td>\n",
       "      <td>100.2140</td>\n",
       "      <td>100.2060</td>\n",
       "      <td>25059438.25</td>\n",
       "      <td>4.5</td>\n",
       "      <td>25010.25</td>\n",
       "      <td>NaN</td>\n",
       "      <td>9.059162</td>\n",
       "      <td>NaN</td>\n",
       "      <td>4.6060</td>\n",
       "      <td>945.402288</td>\n",
       "      <td>NaN</td>\n",
       "      <td>NaN</td>\n",
       "      <td>NaN</td>\n",
       "      <td>NaN</td>\n",
       "      <td>NaN</td>\n",
       "      <td>228.104924</td>\n",
       "      <td>Московская Биржа</td>\n",
       "      <td>Avg</td>\n",
       "      <td>2015-10-30</td>\n",
       "      <td>NaT</td>\n",
       "      <td>АЛРОСА, БО-01</td>\n",
       "      <td>4</td>\n",
       "      <td>155</td>\n",
       "      <td>АЛРОСА</td>\n",
       "      <td>Горнодобыча</td>\n",
       "      <td>2012</td>\n",
       "      <td>4</td>\n",
       "      <td>11</td>\n",
       "      <td>47</td>\n",
       "      <td>5.000000e+09</td>\n",
       "      <td>2012-11-06</td>\n",
       "      <td>1069</td>\n",
       "      <td>19.0</td>\n",
       "    </tr>\n",
       "  </tbody>\n",
       "</table>\n",
       "</div>"
      ],
      "text/plain": [
       "        date      bid       ask  bid_ask_bp  market_price  admitted_price  \\\n",
       "0 2012-11-11  100.000  100.1375       13.75    100.176667      100.276667   \n",
       "1 2012-11-18  100.006  100.0400        6.00    100.040000      100.272000   \n",
       "2 2012-11-25  100.210  100.2700        6.00    100.176000      100.280000   \n",
       "\n",
       "   close_price  indicative     turnover  num_of_deals  turnover_in_securities  \\\n",
       "0     100.0725    100.1375  82745708.70           9.0                82476.00   \n",
       "1     100.0200    100.0280    756750.25           1.5                  756.75   \n",
       "2     100.2140    100.2060  25059438.25           4.5                25010.25   \n",
       "\n",
       "   current_coupon  ytm_ind_p  ytm_close_p  accrued_interest    duration  \\\n",
       "0             NaN   9.089402          NaN            1.3325  945.402288   \n",
       "1             NaN   9.133786          NaN            2.9080  945.402288   \n",
       "2             NaN   9.059162          NaN            4.6060  945.402288   \n",
       "\n",
       "   mod_duration  ytm_oferta_ind_p  ytm_oferta_close_p  dur_to_p_c_date  \\\n",
       "0           NaN               NaN                 NaN              NaN   \n",
       "1           NaN               NaN                 NaN              NaN   \n",
       "2           NaN               NaN                 NaN              NaN   \n",
       "\n",
       "   mod_dur_to_p_c_date  g_spread_bp          exchange indicative_type  \\\n",
       "0                  NaN   214.085654  Московская Биржа             Avg   \n",
       "1                  NaN   215.828005  Московская Биржа             Avg   \n",
       "2                  NaN   228.104924  Московская Биржа             Avg   \n",
       "\n",
       "    maturity put_call_date           bond  cum_count  counted_vals company  \\\n",
       "0 2015-10-30           NaT  АЛРОСА, БО-01          4           155  АЛРОСА   \n",
       "1 2015-10-30           NaT  АЛРОСА, БО-01          4           155  АЛРОСА   \n",
       "2 2015-10-30           NaT  АЛРОСА, БО-01          4           155  АЛРОСА   \n",
       "\n",
       "        sector  year_num  quarter_num  month_num  week_num      issuance  \\\n",
       "0  Горнодобыча      2012            4         11        45  5.000000e+09   \n",
       "1  Горнодобыча      2012            4         11        46  5.000000e+09   \n",
       "2  Горнодобыча      2012            4         11        47  5.000000e+09   \n",
       "\n",
       "    reg_date  days_left  days_passed  \n",
       "0 2012-11-06       1083          5.0  \n",
       "1 2012-11-06       1076         12.0  \n",
       "2 2012-11-06       1069         19.0  "
      ]
     },
     "execution_count": 61,
     "metadata": {},
     "output_type": "execute_result"
    }
   ],
   "source": [
    "all_weekly_data.sort_values(['bond', 'date'], ascending=[True, True], inplace=True)\n",
    "all_weekly_data.reset_index(drop=True, inplace=True)\n",
    "all_weekly_data.head(3)"
   ]
  },
  {
   "cell_type": "markdown",
   "metadata": {},
   "source": [
    "Нормируем оборот на размер эмиссии и добавление интегрированного ряда (первого порядка)"
   ]
  },
  {
   "cell_type": "code",
   "execution_count": 62,
   "metadata": {},
   "outputs": [],
   "source": [
    "all_weekly_data.loc[:, 'turnover_norm'] = all_weekly_data.turnover / all_weekly_data.issuance\n",
    "# all_weekly_data.loc[:, 'turnover_norm_diff'] = all_weekly_data.turnover.diff()"
   ]
  },
  {
   "cell_type": "markdown",
   "metadata": {},
   "source": [
    "Добавляем три переменные по бид-аск спреду и одну по g-спреду"
   ]
  },
  {
   "cell_type": "code",
   "execution_count": 63,
   "metadata": {},
   "outputs": [],
   "source": [
    "all_weekly_data.loc[:, 'prop_bid_ask'] = all_weekly_data.bid_ask_bp * 2 / (all_weekly_data.bid+all_weekly_data.ask)\n",
    "\n",
    "# all_weekly_data.loc[:, 'bid_ask_bp_diff'] = all_weekly_data.groupby('bond').bid_ask_bp.diff()\n",
    "\n",
    "# all_weekly_data.loc[:, 'bid_ask_bp_ln'] = all_weekly_data.bid_ask_bp.apply(np.log)\n",
    "# all_weekly_data.loc[:, 'bid_ask_bp_ln_diff'] = all_weekly_data.groupby('bond').bid_ask_bp_ln.diff()\n",
    "\n",
    "# all_weekly_data.loc[:, 'g_spread_bp_diff'] = all_weekly_data.groupby('bond').g_spread_bp.diff()"
   ]
  },
  {
   "cell_type": "markdown",
   "metadata": {},
   "source": [
    "## Добавление рейтингов и макро индексов и присоединение двух панелей"
   ]
  },
  {
   "cell_type": "code",
   "execution_count": 64,
   "metadata": {},
   "outputs": [],
   "source": [
    "# кривая доходности (двухгодичная)\n",
    "yield2y = pd.read_excel('CommonIndexes.xlsx', sheet_name='YieldCurve2Y', usecols='A:B',\n",
    "                        skiprows=7, parse_dates=['Дата'], index_col='Дата').resample('W').mean().reset_index()\n",
    "yield2y.rename(columns={'Дата': 'date', 'RUB Yield Curve 2Y': 'yield2y'}, inplace=True)\n",
    "\n",
    "# кривая доходности (десятилетняя)\n",
    "yield10y = pd.read_excel('CommonIndexes.xlsx', sheet_name='YieldCurve10Y', usecols='A:B',\n",
    "                         skiprows=7, parse_dates=['Дата'], index_col='Дата').resample('W').mean().reset_index()\n",
    "yield10y.rename(columns={'Дата': 'date', 'RUB Yield Curve 10Y': 'yield10y'}, inplace=True)\n",
    "\n",
    "# индекс Мос Биржи\n",
    "moex = pd.read_excel('CommonIndexes.xlsx', sheet_name='MOEXindex', usecols='A:B',\n",
    "                     skiprows=7, parse_dates=['Дата'], index_col='Дата').resample('W').mean().reset_index()\n",
    "moex.rename(columns={'Дата': 'date', 'Индекс МосБиржи': 'moex'}, inplace=True)\n",
    "\n",
    "moex['moex_ret'] = moex.moex.pct_change()\n",
    "\n",
    "# котировки нефти марки Brent\n",
    "brent = pd.read_excel('CommonIndexes.xlsx', sheet_name='Brent', usecols='A:B',\n",
    "                      skiprows=7, parse_dates=['Дата'], index_col='Дата').resample('W').mean().reset_index()\n",
    "brent.rename(columns={'Дата': 'date', 'Нефть Brent': 'brent'}, inplace=True)\n",
    "\n",
    "# ставка рефинансирования\n",
    "ref_rate = pd.read_excel('CommonIndexes.xlsx', sheet_name='RefinancingRate', usecols='A:B',\n",
    "                         skiprows=7, parse_dates=['Дата'], index_col='Дата').resample('W').mean().reset_index()\n",
    "ref_rate.rename(columns={'Дата': 'date', 'Ставка рефинансирования ЦБ РФ': 'ref_rate'}, inplace=True)\n",
    "\n",
    "# курс доллара\n",
    "usdrub = pd.read_excel('CommonIndexes.xlsx', sheet_name='USDRUB', usecols='A:B',\n",
    "                         skiprows=7, parse_dates=['Дата'], index_col='Дата').resample('W').mean().reset_index()\n",
    "usdrub.rename(columns={'Дата': 'date', 'USDRUB_TOD': 'usdrub'}, inplace=True)\n",
    "\n",
    "# соединяем\n",
    "all_weekly_data = all_weekly_data.merge(yield2y, how='left', on='date'\n",
    "                                       ).merge(yield10y, how='left', on='date'\n",
    "                                              ).merge(moex, how='left', on='date'\n",
    "                                                     ).merge(brent, how='left', on='date'\n",
    "                                                            ).merge(ref_rate, how='left', on='date'\n",
    "                                                                   ).merge(usdrub, how='left', on='date')\n",
    "\n",
    "# и добавляем переменную наклона\n",
    "all_weekly_data['slope'] = all_weekly_data.yield10y - all_weekly_data.yield2y"
   ]
  },
  {
   "cell_type": "markdown",
   "metadata": {},
   "source": [
    "Добавим информацию о рейтинге эмитентов (три версии: изначальную, числовую, и обрезанную версию исходной)"
   ]
  },
  {
   "cell_type": "code",
   "execution_count": 65,
   "metadata": {},
   "outputs": [],
   "source": [
    "oblig_discrip = oblig_discrip_data.rename(columns={'Бумага': 'bond', 'Рейтинг эмитента АКРА': 'rating'})\n",
    "\n",
    "oblig_discrip['rating_num'] = oblig_discrip.rating.replace({'A(RU)': 3,\n",
    "                                                            'A+(RU)': 3,\n",
    "                                                            'A-(RU)': 3,\n",
    "                                                            'AA(RU)': 2,\n",
    "                                                            'AA+(RU)': 2,\n",
    "                                                            'AA-(RU)': 2,\n",
    "                                                            'AAA(RU)': 1,\n",
    "                                                            'B+(RU)': 5,\n",
    "                                                            'BB(RU)': 5,\n",
    "                                                            'BB+(RU)': 5,\n",
    "                                                            'BB-(RU)': 5,\n",
    "                                                            'BBB(RU)': 4,\n",
    "                                                            'BBB+(RU)': 4,\n",
    "                                                            'BBB-(RU)': 4,\n",
    "                                                            'Withdrawn': np.nan})\n",
    "\n",
    "oblig_discrip['rating_cut'] = oblig_discrip.rating.replace({'A(RU)': 'A',\n",
    "                                                            'A+(RU)': 'A',\n",
    "                                                            'A-(RU)': 'A',\n",
    "                                                            'AA(RU)': 'AA',\n",
    "                                                            'AA+(RU)': 'AA',\n",
    "                                                            'AA-(RU)': 'AA',\n",
    "                                                            'AAA(RU)': 'AAA',\n",
    "                                                            'B+(RU)': 'BB',\n",
    "                                                            'BB(RU)': 'BB',\n",
    "                                                            'BB+(RU)': 'BB',\n",
    "                                                            'BB-(RU)': 'BB',\n",
    "                                                            'BBB(RU)': 'BBB',\n",
    "                                                            'BBB+(RU)': 'BBB',\n",
    "                                                            'BBB-(RU)': 'BBB',\n",
    "                                                            'Withdrawn': np.nan})\n",
    "\n",
    "all_weekly_data = all_weekly_data.merge(oblig_discrip.loc[:, ['bond', 'rating', \n",
    "                                                              'rating_num', 'rating_cut']], \n",
    "                                        on=['bond'], how='left')"
   ]
  },
  {
   "cell_type": "markdown",
   "metadata": {},
   "source": [
    "### Добавление признаков:\n",
    "#### 1. расстояния до дефолта на основе долговых обязательств и рыночной капитализации\n",
    "#### 2. меры неликвидности на основе данных рынка акций"
   ]
  },
  {
   "cell_type": "markdown",
   "metadata": {},
   "source": [
    "Получим тикеры компаний, которые есть в нашей выборке и оставим только их в панели с котировками акций"
   ]
  },
  {
   "cell_type": "code",
   "execution_count": 66,
   "metadata": {
    "scrolled": true
   },
   "outputs": [
    {
     "data": {
      "text/plain": [
       "47"
      ]
     },
     "execution_count": 66,
     "metadata": {},
     "output_type": "execute_result"
    }
   ],
   "source": [
    "tickers = stock_discrip_data_common.loc[stock_discrip_data_common.company.isin(all_weekly_data.company.unique()), \n",
    "                                        'Тикер'].tolist()\n",
    "len(tickers)"
   ]
  },
  {
   "cell_type": "code",
   "execution_count": 67,
   "metadata": {
    "scrolled": true
   },
   "outputs": [
    {
     "data": {
      "text/plain": [
       "(77946, 17)"
      ]
     },
     "execution_count": 67,
     "metadata": {},
     "output_type": "execute_result"
    }
   ],
   "source": [
    "stock_common_data = stock_common_data.loc[stock_common_data.SECID.isin(tickers)]\n",
    "stock_common_data.shape"
   ]
  },
  {
   "cell_type": "markdown",
   "metadata": {},
   "source": [
    "Создадим словарь для добавления столбца с названием компании"
   ]
  },
  {
   "cell_type": "code",
   "execution_count": 68,
   "metadata": {},
   "outputs": [],
   "source": [
    "dict_ticker_company = dict(zip(stock_discrip_data['Тикер'].tolist(), stock_discrip_data['company'].tolist()))\n",
    "stock_common_data['company'] = stock_common_data.SECID.map(dict_ticker_company)"
   ]
  },
  {
   "cell_type": "code",
   "execution_count": 69,
   "metadata": {},
   "outputs": [],
   "source": [
    "# afks = stock_common_data.loc[stock_common_data.SECID == 'AFKS', ['TRADEDATE', 'daily_ret']][1:]\n",
    "# from arch import arch_model\n",
    "# am = arch_model(afks.daily_ret)\n",
    "# res = am.fit()\n",
    "# res.conditional_volatility"
   ]
  },
  {
   "cell_type": "markdown",
   "metadata": {},
   "source": [
    "Открываем снова таблицу со списком облигаций и выделяем нужные (и уже переименованные) столбцы"
   ]
  },
  {
   "cell_type": "code",
   "execution_count": 70,
   "metadata": {},
   "outputs": [
    {
     "name": "stdout",
     "output_type": "stream",
     "text": [
      "(2384, 6)\n"
     ]
    },
    {
     "data": {
      "text/html": [
       "<div>\n",
       "<style scoped>\n",
       "    .dataframe tbody tr th:only-of-type {\n",
       "        vertical-align: middle;\n",
       "    }\n",
       "\n",
       "    .dataframe tbody tr th {\n",
       "        vertical-align: top;\n",
       "    }\n",
       "\n",
       "    .dataframe thead th {\n",
       "        text-align: right;\n",
       "    }\n",
       "</style>\n",
       "<table border=\"1\" class=\"dataframe\">\n",
       "  <thead>\n",
       "    <tr style=\"text-align: right;\">\n",
       "      <th></th>\n",
       "      <th>№ new</th>\n",
       "      <th>bond</th>\n",
       "      <th>company</th>\n",
       "      <th>issuance</th>\n",
       "      <th>date_reg</th>\n",
       "      <th>date_mat</th>\n",
       "    </tr>\n",
       "  </thead>\n",
       "  <tbody>\n",
       "    <tr>\n",
       "      <th>24</th>\n",
       "      <td>25</td>\n",
       "      <td>АЛРОСА, 05</td>\n",
       "      <td>АЛРОСА</td>\n",
       "      <td>500000000.0</td>\n",
       "      <td>2001-01-18</td>\n",
       "      <td>2002-03-15</td>\n",
       "    </tr>\n",
       "    <tr>\n",
       "      <th>25</th>\n",
       "      <td>26</td>\n",
       "      <td>АЛРОСА, 06</td>\n",
       "      <td>АЛРОСА</td>\n",
       "      <td>600000000.0</td>\n",
       "      <td>2001-03-28</td>\n",
       "      <td>2003-05-14</td>\n",
       "    </tr>\n",
       "    <tr>\n",
       "      <th>26</th>\n",
       "      <td>27</td>\n",
       "      <td>АЛРОСА, 07</td>\n",
       "      <td>АЛРОСА</td>\n",
       "      <td>600000000.0</td>\n",
       "      <td>2001-03-28</td>\n",
       "      <td>2003-07-03</td>\n",
       "    </tr>\n",
       "  </tbody>\n",
       "</table>\n",
       "</div>"
      ],
      "text/plain": [
       "    № new        bond company     issuance   date_reg   date_mat\n",
       "24     25  АЛРОСА, 05  АЛРОСА  500000000.0 2001-01-18 2002-03-15\n",
       "25     26  АЛРОСА, 06  АЛРОСА  600000000.0 2001-03-28 2003-05-14\n",
       "26     27  АЛРОСА, 07  АЛРОСА  600000000.0 2001-03-28 2003-07-03"
      ]
     },
     "execution_count": 70,
     "metadata": {},
     "output_type": "execute_result"
    }
   ],
   "source": [
    "oblig_emission_data = pd.read_excel('Список облигаций - clean.xlsx',\n",
    "                                    parse_dates=['Дата начала размещения', 'Дата окончания размещения',\n",
    "                                                 'Дата погашения', 'Дата начала начисления купонов',\n",
    "                                                 'Расчетная дата начала обращения', 'Дата регистрации', \n",
    "                                                 'Дата торгов'])\n",
    "\n",
    "oblig_emission_data.sort_values(\"Дата регистрации\", ascending=False, inplace=True)\n",
    "\n",
    "oblig_emission_data = oblig_emission_data.loc[oblig_emission_data.Эмитент.isin(all_weekly_data.company), \n",
    "                                              ['№ new', 'Бумага', 'Эмитент',\n",
    "                                               'Объем эмиссии', 'Дата регистрации', 'Дата погашения']]\n",
    "\n",
    "oblig_emission_data.sort_values(['Эмитент', 'Дата регистрации'], inplace=True)\n",
    "\n",
    "oblig_emission_data.rename(columns={'Бумага': 'bond', 'Эмитент': 'company', 'Объем эмиссии': 'issuance', \n",
    "                                    'Дата погашения': 'date_mat', 'Дата регистрации': 'date_reg'}, inplace=True)\n",
    "\n",
    "print(oblig_emission_data.shape)\n",
    "oblig_emission_data.head(3)"
   ]
  },
  {
   "cell_type": "markdown",
   "metadata": {},
   "source": [
    "Итерационно заполняем поля с обязательствами по облигациям."
   ]
  },
  {
   "cell_type": "code",
   "execution_count": 71,
   "metadata": {},
   "outputs": [
    {
     "name": "stderr",
     "output_type": "stream",
     "text": [
      "100%|██████████| 45943/45943 [07:23<00:00, 103.57it/s]\n"
     ]
    }
   ],
   "source": [
    "all_weekly_data['liab_current'] = np.nan\n",
    "all_weekly_data['liab_noncurrent'] = np.nan\n",
    "\n",
    "for i in trange(all_weekly_data.shape[0]):\n",
    "    # сохраняем нужную строчку\n",
    "    row_data = all_weekly_data.iloc[i]\n",
    "    \n",
    "    # выделяем нужный кусок таблицы\n",
    "    comp_data = oblig_emission_data.loc[oblig_emission_data.company == row_data['company']]\n",
    "    # получаем расстояния между датами\n",
    "    diff_data = (comp_data.loc[:, ['date_reg', 'date_mat']] - row_data['date']).apply(lambda x: x.dt.days) - 5\n",
    "    \n",
    "    # обязательствами признаем только те эмиссии, чьи даты регистрации после рассматриваемой\n",
    "    # краткосрочными - меньше либо равно 365 до даты погашения, долгосрочными - больше 365\n",
    "    liab_s = comp_data.loc[(diff_data.date_reg <= 0) & (diff_data.date_mat.between(0, 365)), 'issuance'].sum()\n",
    "    liab_l = comp_data.loc[(diff_data.date_reg <= 0) & (diff_data.date_mat > 365), 'issuance'].sum()\n",
    "    \n",
    "    all_weekly_data.iloc[i, -2] = liab_s\n",
    "    all_weekly_data.iloc[i, -1] = liab_l"
   ]
  },
  {
   "cell_type": "markdown",
   "metadata": {},
   "source": [
    "Создаём переменную точки дефолта"
   ]
  },
  {
   "cell_type": "code",
   "execution_count": 72,
   "metadata": {},
   "outputs": [],
   "source": [
    "all_weekly_data['default_point'] = all_weekly_data['liab_current'] + all_weekly_data['liab_noncurrent'] / 2\n",
    "# all_weekly_data.head(3)"
   ]
  },
  {
   "cell_type": "markdown",
   "metadata": {},
   "source": [
    "Оставляем в таблице с котировками акций только рассматриваемые компании"
   ]
  },
  {
   "cell_type": "code",
   "execution_count": 73,
   "metadata": {},
   "outputs": [],
   "source": [
    "stock_discrip_data_common = stock_discrip_data_common.loc[\n",
    "    stock_discrip_data_common.company.isin(all_weekly_data.company.unique())]\n",
    "\n",
    "usdrub = pd.read_excel('CommonIndexes.xlsx', sheet_name='USDRUB', usecols='A:B', skiprows=7, parse_dates=['Дата'])\n",
    "usdrub.rename(columns={'Дата': 'date', 'USDRUB_TOD': 'usdrub'}, inplace=True)"
   ]
  },
  {
   "cell_type": "markdown",
   "metadata": {},
   "source": [
    "Добавим капитализацию в рублях на последние имеющиеся в выборке дни"
   ]
  },
  {
   "cell_type": "code",
   "execution_count": 74,
   "metadata": {},
   "outputs": [],
   "source": [
    "stock_discrip_data_common['cap'] = stock_discrip_data_common['Капитализация, млн USD'] * 10**6 * usdrub.iloc[-1, 1]"
   ]
  },
  {
   "cell_type": "markdown",
   "metadata": {},
   "source": [
    "Посмотрим, чьи котировки за 2021 год отсутствуют, и удалим данные компании"
   ]
  },
  {
   "cell_type": "code",
   "execution_count": 75,
   "metadata": {
    "scrolled": true
   },
   "outputs": [
    {
     "data": {
      "text/html": [
       "<div>\n",
       "<style scoped>\n",
       "    .dataframe tbody tr th:only-of-type {\n",
       "        vertical-align: middle;\n",
       "    }\n",
       "\n",
       "    .dataframe tbody tr th {\n",
       "        vertical-align: top;\n",
       "    }\n",
       "\n",
       "    .dataframe thead th {\n",
       "        text-align: right;\n",
       "    }\n",
       "</style>\n",
       "<table border=\"1\" class=\"dataframe\">\n",
       "  <thead>\n",
       "    <tr style=\"text-align: right;\">\n",
       "      <th></th>\n",
       "      <th>TRADEDATE</th>\n",
       "      <th>CLOSE</th>\n",
       "      <th>company</th>\n",
       "    </tr>\n",
       "  </thead>\n",
       "  <tbody>\n",
       "    <tr>\n",
       "      <th>32</th>\n",
       "      <td>2019-10-08</td>\n",
       "      <td>1.3875</td>\n",
       "      <td>ЧЗПСН-Профнастил</td>\n",
       "    </tr>\n",
       "    <tr>\n",
       "      <th>39</th>\n",
       "      <td>2021-03-09</td>\n",
       "      <td>NaN</td>\n",
       "      <td>Светофор Групп</td>\n",
       "    </tr>\n",
       "    <tr>\n",
       "      <th>0</th>\n",
       "      <td>2021-04-23</td>\n",
       "      <td>35.6680</td>\n",
       "      <td>АФК Система</td>\n",
       "    </tr>\n",
       "  </tbody>\n",
       "</table>\n",
       "</div>"
      ],
      "text/plain": [
       "    TRADEDATE    CLOSE           company\n",
       "32 2019-10-08   1.3875  ЧЗПСН-Профнастил\n",
       "39 2021-03-09      NaN    Светофор Групп\n",
       "0  2021-04-23  35.6680       АФК Система"
      ]
     },
     "execution_count": 75,
     "metadata": {},
     "output_type": "execute_result"
    }
   ],
   "source": [
    "stock_common_data.groupby('SECID').apply(\n",
    "    lambda x: x.iloc[-1]).loc[:, ['TRADEDATE', 'CLOSE', 'company']\n",
    "                             ].reset_index(drop=True).sort_values('TRADEDATE').head(3)"
   ]
  },
  {
   "cell_type": "code",
   "execution_count": 76,
   "metadata": {},
   "outputs": [],
   "source": [
    "stock_common_data = stock_common_data[~stock_common_data.company.isin(['Светофор Групп', 'ЧЗПСН-Профнастил'])]\n",
    "all_weekly_data = all_weekly_data[~all_weekly_data.company.isin(['Светофор Групп', 'ЧЗПСН-Профнастил'])]"
   ]
  },
  {
   "cell_type": "markdown",
   "metadata": {},
   "source": [
    "Получим доходность акций и затем их волатильность; и переименуем пару столбцов"
   ]
  },
  {
   "cell_type": "code",
   "execution_count": 77,
   "metadata": {
    "scrolled": true
   },
   "outputs": [],
   "source": [
    "stock_common_data['daily_ret'] = stock_common_data.groupby('SECID')['CLOSE'].pct_change() * 100\n",
    "stock_common_data.dropna(inplace=True)\n",
    "stock_common_data['variance'] = (stock_common_data.daily_ret - stock_common_data.daily_ret.mean()) ** 2\n",
    "\n",
    "stock_common_data.rename(columns={'CLOSE': 'close',\n",
    "                                  'VALUE': 'trading_volume', \n",
    "                                  'TRADEDATE': 'date'}, inplace=True)"
   ]
  },
  {
   "cell_type": "markdown",
   "metadata": {},
   "source": [
    "Оставим только интересующие нас столбцы"
   ]
  },
  {
   "cell_type": "code",
   "execution_count": 78,
   "metadata": {},
   "outputs": [],
   "source": [
    "stock_common_mini_data = stock_common_data.loc[:, ['date', 'close', 'daily_ret', 'SECID',\n",
    "                                                   'trading_volume', 'variance', 'company']]"
   ]
  },
  {
   "cell_type": "markdown",
   "metadata": {},
   "source": [
    "Посчитаем примерное количество акций по каждой компании; далее считаем капитализацию за каждый день для каждой компании"
   ]
  },
  {
   "cell_type": "code",
   "execution_count": 79,
   "metadata": {},
   "outputs": [],
   "source": [
    "last_observ_prices = stock_common_mini_data.groupby('SECID').apply(\n",
    "    lambda x: x.iloc[-1]).loc[:, ['date', 'close', 'company']].reset_index(drop=True)\n",
    "last_observ_prices = last_observ_prices.merge(stock_discrip_data_common.loc[:, ['company', 'cap']], how='left')\n",
    "last_observ_prices['num_of_stocks'] = last_observ_prices.cap / last_observ_prices.close"
   ]
  },
  {
   "cell_type": "code",
   "execution_count": 80,
   "metadata": {},
   "outputs": [
    {
     "data": {
      "text/html": [
       "<div>\n",
       "<style scoped>\n",
       "    .dataframe tbody tr th:only-of-type {\n",
       "        vertical-align: middle;\n",
       "    }\n",
       "\n",
       "    .dataframe tbody tr th {\n",
       "        vertical-align: top;\n",
       "    }\n",
       "\n",
       "    .dataframe thead th {\n",
       "        text-align: right;\n",
       "    }\n",
       "</style>\n",
       "<table border=\"1\" class=\"dataframe\">\n",
       "  <thead>\n",
       "    <tr style=\"text-align: right;\">\n",
       "      <th></th>\n",
       "      <th>date</th>\n",
       "      <th>close</th>\n",
       "      <th>daily_ret</th>\n",
       "      <th>SECID</th>\n",
       "      <th>trading_volume</th>\n",
       "      <th>variance</th>\n",
       "      <th>company</th>\n",
       "      <th>num_of_stocks</th>\n",
       "      <th>cap</th>\n",
       "    </tr>\n",
       "  </thead>\n",
       "  <tbody>\n",
       "    <tr>\n",
       "      <th>0</th>\n",
       "      <td>2014-06-10</td>\n",
       "      <td>45.499</td>\n",
       "      <td>2.364561</td>\n",
       "      <td>AFKS</td>\n",
       "      <td>522319645.4</td>\n",
       "      <td>5.239356</td>\n",
       "      <td>АФК Система</td>\n",
       "      <td>9.485545e+09</td>\n",
       "      <td>4.315828e+11</td>\n",
       "    </tr>\n",
       "    <tr>\n",
       "      <th>1</th>\n",
       "      <td>2014-06-11</td>\n",
       "      <td>45.300</td>\n",
       "      <td>-0.437372</td>\n",
       "      <td>AFKS</td>\n",
       "      <td>215501200.9</td>\n",
       "      <td>0.263137</td>\n",
       "      <td>АФК Система</td>\n",
       "      <td>9.485545e+09</td>\n",
       "      <td>4.296952e+11</td>\n",
       "    </tr>\n",
       "    <tr>\n",
       "      <th>2</th>\n",
       "      <td>2014-06-16</td>\n",
       "      <td>45.999</td>\n",
       "      <td>1.543046</td>\n",
       "      <td>AFKS</td>\n",
       "      <td>822593112.0</td>\n",
       "      <td>2.153408</td>\n",
       "      <td>АФК Система</td>\n",
       "      <td>9.485545e+09</td>\n",
       "      <td>4.363256e+11</td>\n",
       "    </tr>\n",
       "  </tbody>\n",
       "</table>\n",
       "</div>"
      ],
      "text/plain": [
       "        date   close  daily_ret SECID  trading_volume  variance      company  \\\n",
       "0 2014-06-10  45.499   2.364561  AFKS     522319645.4  5.239356  АФК Система   \n",
       "1 2014-06-11  45.300  -0.437372  AFKS     215501200.9  0.263137  АФК Система   \n",
       "2 2014-06-16  45.999   1.543046  AFKS     822593112.0  2.153408  АФК Система   \n",
       "\n",
       "   num_of_stocks           cap  \n",
       "0   9.485545e+09  4.315828e+11  \n",
       "1   9.485545e+09  4.296952e+11  \n",
       "2   9.485545e+09  4.363256e+11  "
      ]
     },
     "execution_count": 80,
     "metadata": {},
     "output_type": "execute_result"
    }
   ],
   "source": [
    "stock_common_mini_data = stock_common_mini_data.merge(last_observ_prices.drop(columns=['close', 'date', 'cap']), \n",
    "                                                      on=['company'], how='left')\n",
    "stock_common_mini_data['cap'] = stock_common_mini_data.num_of_stocks * stock_common_mini_data.close\n",
    "stock_common_mini_data.head(3)"
   ]
  },
  {
   "cell_type": "markdown",
   "metadata": {},
   "source": [
    "Сделаем недельное усреднение и присоединим информацию к нашему основному фрейму"
   ]
  },
  {
   "cell_type": "code",
   "execution_count": 84,
   "metadata": {},
   "outputs": [],
   "source": [
    "stock_common = pd.DataFrame()\n",
    "for c in stock_common_mini_data.company.unique():\n",
    "    temp_data = stock_common_mini_data.loc[stock_common_mini_data.company == c]\n",
    "    temp_data.set_index('date', inplace=True)\n",
    "    \n",
    "    temp_data = temp_data.resample('W').mean().reset_index()\n",
    "    temp_data['company'] = c\n",
    "    \n",
    "    stock_common = pd.concat([stock_common, temp_data], axis=0)"
   ]
  },
  {
   "cell_type": "code",
   "execution_count": 85,
   "metadata": {},
   "outputs": [
    {
     "data": {
      "text/plain": [
       "(40519, 61)"
      ]
     },
     "execution_count": 85,
     "metadata": {},
     "output_type": "execute_result"
    }
   ],
   "source": [
    "all_weekly_data = all_weekly_data.merge(stock_common, on=['date', 'company'], how='inner')\n",
    "all_weekly_data.shape"
   ]
  },
  {
   "cell_type": "markdown",
   "metadata": {},
   "source": [
    "Добавим переменную дистанции до дефолта и вероятности дефолта на основе нормального распределения"
   ]
  },
  {
   "cell_type": "code",
   "execution_count": 86,
   "metadata": {},
   "outputs": [],
   "source": [
    "all_weekly_data['dist_to_default'] = \\\n",
    "(all_weekly_data.cap - all_weekly_data.default_point) / \\\n",
    "(all_weekly_data.cap * (all_weekly_data.variance ** 0.5) * (252 ** 0.5))"
   ]
  },
  {
   "cell_type": "code",
   "execution_count": 88,
   "metadata": {},
   "outputs": [],
   "source": [
    "from scipy.stats import norm"
   ]
  },
  {
   "cell_type": "code",
   "execution_count": 116,
   "metadata": {},
   "outputs": [],
   "source": [
    "all_weekly_data['prop_of_default'] = all_weekly_data.dist_to_default.apply(lambda x: norm.cdf(-x))"
   ]
  },
  {
   "cell_type": "markdown",
   "metadata": {},
   "source": [
    "Добавим переменную неликвидности по уже агрегированным данным"
   ]
  },
  {
   "cell_type": "code",
   "execution_count": 96,
   "metadata": {},
   "outputs": [],
   "source": [
    "all_weekly_data['illiquidity'] = (all_weekly_data.variance / all_weekly_data.trading_volume) ** (1/3)"
   ]
  },
  {
   "cell_type": "markdown",
   "metadata": {},
   "source": [
    "Ещё раз проверяем, что все бонды длиной не меньше 15"
   ]
  },
  {
   "cell_type": "code",
   "execution_count": 97,
   "metadata": {},
   "outputs": [],
   "source": [
    "all_weekly_data = all_weekly_data.loc[~all_weekly_data.bond.isin(\n",
    "    list(all_weekly_data.bond.value_counts()[all_weekly_data.bond.value_counts() < 15].index))]"
   ]
  },
  {
   "cell_type": "markdown",
   "metadata": {},
   "source": [
    "Посмотрим на размер таблицы, количество компаний в выборке, количество бондов обычных и со встроенным опционом."
   ]
  },
  {
   "cell_type": "code",
   "execution_count": 117,
   "metadata": {},
   "outputs": [],
   "source": [
    "all_weekly_data.sort_values(['bond', 'date'], inplace=True)"
   ]
  },
  {
   "cell_type": "code",
   "execution_count": 118,
   "metadata": {},
   "outputs": [
    {
     "data": {
      "text/plain": [
       "((40500, 64), 43, 161)"
      ]
     },
     "execution_count": 118,
     "metadata": {},
     "output_type": "execute_result"
    }
   ],
   "source": [
    "all_weekly_data.shape, all_weekly_data.company.nunique(), \\\n",
    "all_weekly_data.groupby('bond').apply(lambda x: x.put_call_date.notna().any()).sum()"
   ]
  },
  {
   "cell_type": "code",
   "execution_count": 119,
   "metadata": {},
   "outputs": [
    {
     "data": {
      "text/plain": [
       "Index(['date', 'bid', 'ask', 'bid_ask_bp', 'market_price', 'admitted_price',\n",
       "       'close_price', 'indicative', 'turnover', 'num_of_deals',\n",
       "       'turnover_in_securities', 'current_coupon', 'ytm_ind_p', 'ytm_close_p',\n",
       "       'accrued_interest', 'duration', 'mod_duration', 'ytm_oferta_ind_p',\n",
       "       'ytm_oferta_close_p', 'dur_to_p_c_date', 'mod_dur_to_p_c_date',\n",
       "       'g_spread_bp', 'exchange', 'indicative_type', 'maturity',\n",
       "       'put_call_date', 'bond', 'cum_count', 'counted_vals', 'company',\n",
       "       'sector', 'year_num', 'quarter_num', 'month_num', 'week_num',\n",
       "       'issuance', 'reg_date', 'days_left', 'days_passed', 'turnover_norm',\n",
       "       'prop_bid_ask', 'yield2y', 'yield10y', 'moex', 'moex_ret', 'brent',\n",
       "       'ref_rate', 'usdrub', 'slope', 'rating', 'rating_num', 'rating_cut',\n",
       "       'liab_current', 'liab_noncurrent', 'default_point', 'close',\n",
       "       'daily_ret', 'trading_volume', 'variance', 'num_of_stocks', 'cap',\n",
       "       'dist_to_default', 'prop_of_default', 'illiquidity'],\n",
       "      dtype='object')"
      ]
     },
     "execution_count": 119,
     "metadata": {},
     "output_type": "execute_result"
    }
   ],
   "source": [
    "all_weekly_data.columns"
   ]
  },
  {
   "cell_type": "markdown",
   "metadata": {},
   "source": [
    "Сохранение подготовленного фрейма"
   ]
  },
  {
   "cell_type": "code",
   "execution_count": 120,
   "metadata": {},
   "outputs": [],
   "source": [
    "all_weekly_data.to_pickle('prep_weekly_data.pkl')"
   ]
  },
  {
   "cell_type": "code",
   "execution_count": 121,
   "metadata": {},
   "outputs": [],
   "source": [
    "plot_data = all_weekly_data.copy()"
   ]
  },
  {
   "cell_type": "code",
   "execution_count": 122,
   "metadata": {},
   "outputs": [],
   "source": [
    "plot_data.rating_cut.fillna('Unknown', inplace=True)"
   ]
  },
  {
   "cell_type": "code",
   "execution_count": 123,
   "metadata": {},
   "outputs": [
    {
     "data": {
      "text/plain": [
       "(-500.0, 1000.0)"
      ]
     },
     "execution_count": 123,
     "metadata": {},
     "output_type": "execute_result"
    },
    {
     "data": {
      "image/png": "[encoded data removed]",
      "text/plain": [
       "<Figure size 1080x504 with 1 Axes>"
      ]
     },
     "metadata": {},
     "output_type": "display_data"
    }
   ],
   "source": [
    "fig, ax = plt.subplots(figsize=(15, 7))\n",
    "la = plot_data.loc[plot_data.date.dt.year > 2013\n",
    "                  ].groupby(['rating_cut', 'date'])['g_spread_bp'].mean().reset_index()\n",
    "sns.lineplot(data=la, x='date', y='g_spread_bp', hue='rating_cut')\n",
    "\n",
    "plt.xlabel('Год', fontsize=13)\n",
    "plt.ylabel('G-спред, б.п.', fontsize=13)\n",
    "plt.title('Медианный спред по корпоративным облигациям', fontsize=15)\n",
    "\n",
    "plt.legend(title='Рейтинг', fontsize=10)\n",
    "\n",
    "plt.ylim(-500, 1000)"
   ]
  },
  {
   "cell_type": "code",
   "execution_count": 124,
   "metadata": {},
   "outputs": [
    {
     "name": "stderr",
     "output_type": "stream",
     "text": [
      "<ipython-input-124-44588249da38>:1: FutureWarning: Indexing with multiple keys (implicitly converted to a tuple of keys) will be deprecated, use a list instead.\n",
      "  plot_data.groupby('rating_cut')['dist_to_default', 'prop_of_default'].median()\n"
     ]
    },
    {
     "data": {
      "text/html": [
       "<div>\n",
       "<style scoped>\n",
       "    .dataframe tbody tr th:only-of-type {\n",
       "        vertical-align: middle;\n",
       "    }\n",
       "\n",
       "    .dataframe tbody tr th {\n",
       "        vertical-align: top;\n",
       "    }\n",
       "\n",
       "    .dataframe thead th {\n",
       "        text-align: right;\n",
       "    }\n",
       "</style>\n",
       "<table border=\"1\" class=\"dataframe\">\n",
       "  <thead>\n",
       "    <tr style=\"text-align: right;\">\n",
       "      <th></th>\n",
       "      <th>dist_to_default</th>\n",
       "      <th>prop_of_default</th>\n",
       "    </tr>\n",
       "    <tr>\n",
       "      <th>rating_cut</th>\n",
       "      <th></th>\n",
       "      <th></th>\n",
       "    </tr>\n",
       "  </thead>\n",
       "  <tbody>\n",
       "    <tr>\n",
       "      <th>A</th>\n",
       "      <td>0.058412</td>\n",
       "      <td>0.476710</td>\n",
       "    </tr>\n",
       "    <tr>\n",
       "      <th>AA</th>\n",
       "      <td>0.046652</td>\n",
       "      <td>0.481395</td>\n",
       "    </tr>\n",
       "    <tr>\n",
       "      <th>AAA</th>\n",
       "      <td>0.036016</td>\n",
       "      <td>0.485635</td>\n",
       "    </tr>\n",
       "    <tr>\n",
       "      <th>Unknown</th>\n",
       "      <td>0.029737</td>\n",
       "      <td>0.488138</td>\n",
       "    </tr>\n",
       "  </tbody>\n",
       "</table>\n",
       "</div>"
      ],
      "text/plain": [
       "            dist_to_default  prop_of_default\n",
       "rating_cut                                  \n",
       "A                  0.058412         0.476710\n",
       "AA                 0.046652         0.481395\n",
       "AAA                0.036016         0.485635\n",
       "Unknown            0.029737         0.488138"
      ]
     },
     "execution_count": 124,
     "metadata": {},
     "output_type": "execute_result"
    }
   ],
   "source": [
    "plot_data.groupby('rating_cut')['dist_to_default', 'prop_of_default'].median()"
   ]
  }
 ],
 "metadata": {
  "kernelspec": {
   "display_name": "Python 3",
   "language": "python",
   "name": "python3"
  },
  "language_info": {
   "codemirror_mode": {
    "name": "ipython",
    "version": 3
   },
   "file_extension": ".py",
   "mimetype": "text/x-python",
   "name": "python",
   "nbconvert_exporter": "python",
   "pygments_lexer": "ipython3",
   "version": "3.8.1"
  }
 },
 "nbformat": 4,
 "nbformat_minor": 4
}
