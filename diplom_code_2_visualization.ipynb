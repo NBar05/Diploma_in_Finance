{
 "cells": [
  {
   "cell_type": "markdown",
   "metadata": {},
   "source": [
    "## Код для дипломной работы по теме:\n",
    "## Факторная модель спредов на российском рынке корпоративных облигаций"
   ]
  },
  {
   "cell_type": "code",
   "execution_count": 71,
   "metadata": {},
   "outputs": [],
   "source": [
    "import xlrd\n",
    "import string\n",
    "import pickle\n",
    "import numpy as np\n",
    "import pandas as pd\n",
    "\n",
    "import statsmodels.api as sm\n",
    "import statsmodels.formula.api as smf\n",
    "\n",
    "from scipy.stats import mstats\n",
    "\n",
    "import matplotlib.dates as mdates\n",
    "import matplotlib.pyplot as plt\n",
    "import seaborn as sns\n",
    "\n",
    "sns.set_theme(style=\"darkgrid\")\n",
    "\n",
    "import time\n",
    "import pyautogui\n",
    "\n",
    "pd.set_option('display.max_columns', None)\n",
    "pd.set_option('display.max_rows', 100)\n",
    "\n",
    "from tqdm import tqdm, trange\n",
    "\n",
    "from collections import Counter"
   ]
  },
  {
   "cell_type": "markdown",
   "metadata": {},
   "source": [
    "## Открытие данных"
   ]
  },
  {
   "cell_type": "code",
   "execution_count": 72,
   "metadata": {
    "scrolled": false
   },
   "outputs": [
    {
     "data": {
      "text/plain": [
       "((4237, 36), (616, 4), (40500, 64))"
      ]
     },
     "execution_count": 72,
     "metadata": {},
     "output_type": "execute_result"
    }
   ],
   "source": [
    "oblig_discrip_data = pd.read_excel('Список облигаций - clean.xlsx', parse_dates=['Дата начала размещения',\n",
    "                                                                                 'Дата окончания размещения',\n",
    "                                                                                 'Дата погашения',\n",
    "                                                                                 'Дата начала начисления купонов',\n",
    "                                                                                 'Расчетная дата начала обращения',\n",
    "                                                                                 'Дата регистрации',\n",
    "                                                                                 'Дата торгов'])\n",
    "oblig_discrip_data.sort_values(\"Дата регистрации\", ascending=False, inplace=True)\n",
    "\n",
    "oblig_discrip_data = oblig_discrip_data.loc[oblig_discrip_data['Дата регистрации'].dt.year >= 2012]\n",
    "oblig_discrip_data = oblig_discrip_data.loc[oblig_discrip_data['Дата регистрации'].dt.year <= 2020]\n",
    "\n",
    "# Удаляем две проблемные облигации\n",
    "strange_bonds = ['Ипотечный агент Эклипс-1, класс Б', 'РОСБАНК, БО-12']\n",
    "oblig_discrip_data = oblig_discrip_data.loc[~oblig_discrip_data.Бумага.isin(strange_bonds)]\n",
    "\n",
    "# Добавляем ещё информацию о данных эмиссиях\n",
    "extra_info_1 = pd.read_excel('bondsearch_14_04_2021-1.xlsx')\n",
    "extra_info_2 = pd.read_excel('bondsearch_14_04_2021-2.xlsx')\n",
    "extra_info_3 = pd.read_excel('bondsearch_14_04_2021-3.xlsx')\n",
    "# extra_info_4 = pd.read_excel('bondsearch_14_04_2021-4.xlsx')\n",
    "extra_info_1.shape, extra_info_2.shape, extra_info_3.shape #, extra_info_4.shape\n",
    "\n",
    "extra_info = pd.concat([extra_info_1, extra_info_2, extra_info_3], axis=0)\n",
    "extra_info.drop_duplicates(inplace=True)\n",
    "set(extra_info.columns).intersection(set(oblig_discrip_data.columns))\n",
    "\n",
    "extra_info.drop(columns=['Биржа', 'Бумага', 'Периодичность выплаты купонов', 'Эмитент'], inplace=True)\n",
    "oblig_discrip_data = oblig_discrip_data.merge(extra_info, on=['ISIN'], how='left')\n",
    "\n",
    "oblig_discrip_data.drop(columns=['Рейтинг эмитента в ин.валюте M/S&P/F', 'Рейтинг эмиссии в ин.валюте M/S&P/F', \n",
    "                                 'Рейтинг эмитента в нац.валюте M/S&P/F', 'Рейтинг эмиссии в нац.валюте M/S&P/F', \n",
    "                                 'Дата начала размещения', 'Дата окончания размещения', \n",
    "                                 'Начало размещения', 'Окончание размещения', '№ old', \n",
    "                                 'Дата оферты (put)', 'Дата оферты (call)', 'Дата торгов', 'Статус эмиссии'],\n",
    "                        inplace=True)\n",
    "\n",
    "# Открываем таблицу со списком компании\n",
    "company_data = pd.read_excel('Список компаний.xlsx', parse_dates=['Дата регистрации'])\n",
    "company_data = company_data.loc[company_data['Дата регистрации'].dt.year >= 2012]\n",
    "company_data = company_data.loc[company_data['Дата регистрации'].dt.year <= 2020]\n",
    "\n",
    "# Открываем панель\n",
    "prep_weekly_data = pd.read_pickle('prep_weekly_data.pkl')\n",
    "\n",
    "oblig_discrip_data.shape, company_data.shape, prep_weekly_data.shape"
   ]
  },
  {
   "cell_type": "code",
   "execution_count": 3,
   "metadata": {},
   "outputs": [
    {
     "data": {
      "text/html": [
       "<div>\n",
       "<style scoped>\n",
       "    .dataframe tbody tr th:only-of-type {\n",
       "        vertical-align: middle;\n",
       "    }\n",
       "\n",
       "    .dataframe tbody tr th {\n",
       "        vertical-align: top;\n",
       "    }\n",
       "\n",
       "    .dataframe thead th {\n",
       "        text-align: right;\n",
       "    }\n",
       "</style>\n",
       "<table border=\"1\" class=\"dataframe\">\n",
       "  <thead>\n",
       "    <tr style=\"text-align: right;\">\n",
       "      <th>Наименование</th>\n",
       "      <th>date</th>\n",
       "      <th>Облигации Министерства Финансов</th>\n",
       "      <th>Облигации Банка России</th>\n",
       "      <th>Муниципальные облигации</th>\n",
       "      <th>Субъекты Федерации</th>\n",
       "      <th>Муниципальные образования</th>\n",
       "      <th>Муниципальный облигации (по непогашенному номиналу)</th>\n",
       "      <th>Корпоративные облигации</th>\n",
       "      <th>АПК и сельское хозяйство</th>\n",
       "      <th>Банки</th>\n",
       "      <th>Горнодобывающая пром.</th>\n",
       "      <th>Легкая пром.</th>\n",
       "      <th>Машиностроение</th>\n",
       "      <th>Нефтегазовая отрасль</th>\n",
       "      <th>Пищевая пром.</th>\n",
       "      <th>Связь и телекоммуникации</th>\n",
       "      <th>Строительство и девелопмент</th>\n",
       "      <th>Торговля и ритэйл</th>\n",
       "      <th>Транспорт</th>\n",
       "      <th>Финансовые институты</th>\n",
       "      <th>Химическая и нефтехимическая пром.</th>\n",
       "      <th>Цветная металлургия</th>\n",
       "      <th>Черная металлургия</th>\n",
       "      <th>Другие отрасли</th>\n",
       "      <th>Корпоративные облигации (по непогашенному номиналу)</th>\n",
       "      <th>Рыночные корпоративные облигации</th>\n",
       "      <th>Новые выпуски</th>\n",
       "      <th>Аукционы ГКО-ОФЗ</th>\n",
       "      <th>Аукционы КОБР</th>\n",
       "      <th>Новые выпуски муниципальных облигаций</th>\n",
       "      <th>Новые выпуски корпоративных облигаций</th>\n",
       "      <th>Новые выпуски рыночных корпоративных облигаций</th>\n",
       "    </tr>\n",
       "  </thead>\n",
       "  <tbody>\n",
       "    <tr>\n",
       "      <th>0</th>\n",
       "      <td>2011-04-29</td>\n",
       "      <td>2818.05</td>\n",
       "      <td>Нет данных</td>\n",
       "      <td>448.924</td>\n",
       "      <td>438.474</td>\n",
       "      <td>10.45</td>\n",
       "      <td>440.781</td>\n",
       "      <td>3221.51</td>\n",
       "      <td>17.4328</td>\n",
       "      <td>749.736</td>\n",
       "      <td>39.82</td>\n",
       "      <td>0</td>\n",
       "      <td>122.68</td>\n",
       "      <td>369.503</td>\n",
       "      <td>66.7326</td>\n",
       "      <td>230.988</td>\n",
       "      <td>95.3984</td>\n",
       "      <td>88.913</td>\n",
       "      <td>264.3</td>\n",
       "      <td>348.059</td>\n",
       "      <td>191.842</td>\n",
       "      <td>52.4</td>\n",
       "      <td>222.2</td>\n",
       "      <td>150.274</td>\n",
       "      <td>3468.01</td>\n",
       "      <td>2963.72</td>\n",
       "      <td>NaN</td>\n",
       "      <td>71.5172</td>\n",
       "      <td>Нет данных</td>\n",
       "      <td>1.822</td>\n",
       "      <td>116.71</td>\n",
       "      <td>115.157</td>\n",
       "    </tr>\n",
       "    <tr>\n",
       "      <th>1</th>\n",
       "      <td>2011-05-31</td>\n",
       "      <td>2931.8</td>\n",
       "      <td>Нет данных</td>\n",
       "      <td>452.045</td>\n",
       "      <td>441.595</td>\n",
       "      <td>10.45</td>\n",
       "      <td>446.911</td>\n",
       "      <td>3234.19</td>\n",
       "      <td>20.4328</td>\n",
       "      <td>750.736</td>\n",
       "      <td>39.82</td>\n",
       "      <td>0</td>\n",
       "      <td>143.771</td>\n",
       "      <td>369.503</td>\n",
       "      <td>64.7326</td>\n",
       "      <td>230.986</td>\n",
       "      <td>92.5984</td>\n",
       "      <td>84.613</td>\n",
       "      <td>264.3</td>\n",
       "      <td>345.379</td>\n",
       "      <td>199.342</td>\n",
       "      <td>52.4</td>\n",
       "      <td>221</td>\n",
       "      <td>141.353</td>\n",
       "      <td>3500.55</td>\n",
       "      <td>2956.98</td>\n",
       "      <td>NaN</td>\n",
       "      <td>78.2495</td>\n",
       "      <td>Нет данных</td>\n",
       "      <td>8</td>\n",
       "      <td>40.0911</td>\n",
       "      <td>19</td>\n",
       "    </tr>\n",
       "  </tbody>\n",
       "</table>\n",
       "</div>"
      ],
      "text/plain": [
       "Наименование       date Облигации Министерства Финансов  \\\n",
       "0            2011-04-29                         2818.05   \n",
       "1            2011-05-31                          2931.8   \n",
       "\n",
       "Наименование Облигации Банка России Муниципальные облигации  \\\n",
       "0                        Нет данных                 448.924   \n",
       "1                        Нет данных                 452.045   \n",
       "\n",
       "Наименование Субъекты Федерации Муниципальные образования  \\\n",
       "0                       438.474                     10.45   \n",
       "1                       441.595                     10.45   \n",
       "\n",
       "Наименование Муниципальный облигации (по непогашенному номиналу)  \\\n",
       "0                                                       440.781    \n",
       "1                                                       446.911    \n",
       "\n",
       "Наименование Корпоративные облигации АПК и сельское хозяйство    Банки  \\\n",
       "0                            3221.51                  17.4328  749.736   \n",
       "1                            3234.19                  20.4328  750.736   \n",
       "\n",
       "Наименование Горнодобывающая пром. Легкая пром. Машиностроение  \\\n",
       "0                            39.82            0         122.68   \n",
       "1                            39.82            0        143.771   \n",
       "\n",
       "Наименование Нефтегазовая отрасль Пищевая пром. Связь и телекоммуникации  \\\n",
       "0                         369.503       66.7326                  230.988   \n",
       "1                         369.503       64.7326                  230.986   \n",
       "\n",
       "Наименование Строительство и девелопмент Торговля и ритэйл Транспорт  \\\n",
       "0                                95.3984            88.913     264.3   \n",
       "1                                92.5984            84.613     264.3   \n",
       "\n",
       "Наименование Финансовые институты Химическая и нефтехимическая пром.  \\\n",
       "0                         348.059                            191.842   \n",
       "1                         345.379                            199.342   \n",
       "\n",
       "Наименование Цветная металлургия Черная металлургия Другие отрасли  \\\n",
       "0                           52.4              222.2        150.274   \n",
       "1                           52.4                221        141.353   \n",
       "\n",
       "Наименование Корпоративные облигации (по непогашенному номиналу)  \\\n",
       "0                                                       3468.01    \n",
       "1                                                       3500.55    \n",
       "\n",
       "Наименование Рыночные корпоративные облигации Новые выпуски Аукционы ГКО-ОФЗ  \\\n",
       "0                                     2963.72           NaN          71.5172   \n",
       "1                                     2956.98           NaN          78.2495   \n",
       "\n",
       "Наименование Аукционы КОБР Новые выпуски муниципальных облигаций  \\\n",
       "0               Нет данных                                 1.822   \n",
       "1               Нет данных                                     8   \n",
       "\n",
       "Наименование Новые выпуски корпоративных облигаций  \\\n",
       "0                                           116.71   \n",
       "1                                          40.0911   \n",
       "\n",
       "Наименование Новые выпуски рыночных корпоративных облигаций  \n",
       "0                                                   115.157  \n",
       "1                                                        19  "
      ]
     },
     "execution_count": 3,
     "metadata": {},
     "output_type": "execute_result"
    }
   ],
   "source": [
    "market_volume = pd.read_excel('Объём рынка.xlsx', skiprows=1, nrows=31).drop(\n",
    "    columns=['ID', 'Единица измерения']).set_index('Наименование').T.reset_index().rename(columns={'index': \n",
    "                                                                                                   'date'})\n",
    "market_volume.head(2)"
   ]
  },
  {
   "cell_type": "code",
   "execution_count": 4,
   "metadata": {},
   "outputs": [],
   "source": [
    "# plt.figure(figsize=(15, 8))\n",
    "# sns.lineplot(x=market_volume.date, y=market_volume['Облигации Министерства Финансов'].astype(int), \n",
    "#              label='Облигации Министерства Финансов')\n",
    "# # sns.lineplot(x=market_volume.date, y=market_volume['Муниципальные облигации'].astype(int))\n",
    "# sns.lineplot(x=market_volume.date, y=market_volume['Корпоративные облигации'].astype(int), \n",
    "#              label='Корпоративные облигации')\n",
    "# sns.lineplot(x=market_volume.date, y=market_volume['Рыночные корпоративные облигации'].astype(int), \n",
    "#              label='Рыночные корпоративные облигации')\n",
    "# plt.xlabel('Год', fontsize=13)\n",
    "# plt.ylabel('Млрд. руб.', fontsize=13)\n",
    "# plt.title('Тенденция к расширению рынка облигаций', fontsize=15)\n",
    "# plt.legend(loc=2, prop={'size': 15})\n",
    "# plt.show()"
   ]
  },
  {
   "cell_type": "code",
   "execution_count": 5,
   "metadata": {},
   "outputs": [],
   "source": [
    "# plt.figure(figsize=(15, 8))\n",
    "# for col in ['Банки', 'Нефтегазовая отрасль', 'Связь и телекоммуникации', 'Транспорт', 'Финансовые институты']:\n",
    "    \n",
    "#     sns.lineplot(x=market_volume.date, y=market_volume[col].astype(int), label=col)\n",
    "    \n",
    "# plt.xlabel('Год', fontsize=13)\n",
    "# plt.ylabel('Млрд. руб.', fontsize=13)\n",
    "# plt.title('Топ 5 отраслей по выпуску облигаций', fontsize=15)\n",
    "# plt.legend(loc=2, prop={'size': 15})\n",
    "# plt.show()"
   ]
  },
  {
   "cell_type": "code",
   "execution_count": 12,
   "metadata": {},
   "outputs": [],
   "source": [
    "# prep_weekly_data.loc[:, ['bid_ask_bp', 'close_price', \n",
    "#                          'turnover', 'g_spread_bp', 'issuance']].describe().round(2).to_excel('descriptive.xlsx')"
   ]
  },
  {
   "cell_type": "code",
   "execution_count": 7,
   "metadata": {},
   "outputs": [
    {
     "data": {
      "text/plain": [
       "Банки            0.661568\n",
       "Связь/телеком    0.084130\n",
       "Энергетика       0.057361\n",
       "Нефть и газ      0.051625\n",
       "Торговля         0.026769\n",
       "Черная метал.    0.022945\n",
       "Строительство    0.021033\n",
       "Хим/нефтехим     0.019120\n",
       "Горнодобыча      0.017208\n",
       "Пищевая пром     0.015296\n",
       "Машиностр        0.015296\n",
       "Транспорт        0.005736\n",
       "Цвет. метал.     0.001912\n",
       "Name: sector, dtype: float64"
      ]
     },
     "execution_count": 7,
     "metadata": {},
     "output_type": "execute_result"
    }
   ],
   "source": [
    "prep_weekly_data.drop_duplicates(subset='bond').sector.value_counts(normalize=True)"
   ]
  },
  {
   "cell_type": "code",
   "execution_count": 8,
   "metadata": {
    "scrolled": false
   },
   "outputs": [
    {
     "data": {
      "text/plain": [
       "sector         company                          \n",
       "Банки          Сбербанк России                      0.583815\n",
       "               ВТБ                                  0.332370\n",
       "               Московский кредитный банк            0.063584\n",
       "               РОСБАНК                              0.020231\n",
       "Горнодобыча    АЛРОСА                               0.777778\n",
       "               Полюс                                0.222222\n",
       "Машиностр      КАМАЗ                                0.875000\n",
       "               ИРКУТ                                0.125000\n",
       "Нефть и газ    Роснефть                             0.518519\n",
       "               Газпром нефть                        0.259259\n",
       "               Башнефть                             0.148148\n",
       "               Татнефть                             0.037037\n",
       "               ЯТЭК                                 0.037037\n",
       "Пищевая пром   Белуга Групп                         0.500000\n",
       "               Группа Черкизово                     0.500000\n",
       "Связь/телеком  АФК Система                          0.363636\n",
       "               МТС                                  0.340909\n",
       "               Ростелеком                           0.181818\n",
       "               МегаФон                              0.113636\n",
       "Строительство  Группа ЛСР (ПАО)                     0.454545\n",
       "               Группа компаний Самолет              0.181818\n",
       "               Мостотрест                           0.181818\n",
       "               ПИК-Специализированный застройщик    0.181818\n",
       "Торговля       Магнит                               0.785714\n",
       "               Детский мир                          0.214286\n",
       "Транспорт      ТрансКонтейнер                       0.666667\n",
       "               Аэрофлот                             0.333333\n",
       "Хим/нефтехим   Акрон                                0.600000\n",
       "               Уралкалий                            0.300000\n",
       "               НКНХ                                 0.100000\n",
       "Цвет. метал.   ГМК Норильский никель                1.000000\n",
       "Черная метал.  ЧТПЗ                                 0.500000\n",
       "               ТМК                                  0.333333\n",
       "               НЛМК                                 0.083333\n",
       "               Северсталь                           0.083333\n",
       "Энергетика     ФСК ЕЭС                              0.266667\n",
       "               Россети Московский регион            0.166667\n",
       "               РусГидро                             0.133333\n",
       "               МРСК Центра и Приволжья              0.100000\n",
       "               ОГК-2                                0.100000\n",
       "               Россети Ленэнерго                    0.100000\n",
       "               МРСК Урала                           0.066667\n",
       "               МРСК Центра                          0.066667\n",
       "Name: company, dtype: float64"
      ]
     },
     "execution_count": 8,
     "metadata": {},
     "output_type": "execute_result"
    }
   ],
   "source": [
    "prep_weekly_data.drop_duplicates(subset='bond').groupby('sector').company.value_counts(normalize=True)"
   ]
  },
  {
   "cell_type": "code",
   "execution_count": 9,
   "metadata": {},
   "outputs": [
    {
     "data": {
      "text/plain": [
       "NaN          0.475333\n",
       "AAA(RU)      0.389654\n",
       "AA(RU)       0.054494\n",
       "A(RU)        0.048469\n",
       "A+(RU)       0.020914\n",
       "Withdrawn    0.009926\n",
       "A-(RU)       0.001210\n",
       "Name: rating, dtype: float64"
      ]
     },
     "execution_count": 9,
     "metadata": {},
     "output_type": "execute_result"
    }
   ],
   "source": [
    "prep_weekly_data.rating.value_counts(dropna=False, normalize=True)"
   ]
  },
  {
   "cell_type": "code",
   "execution_count": 16,
   "metadata": {},
   "outputs": [],
   "source": [
    "# sns.set_theme(style=\"darkgrid\")\n",
    "# plt.figure(figsize=(15, 7))\n",
    "# sns.countplot(data=prep_weekly_data, x='year_num')\n",
    "# plt.xlabel('Год', fontsize=13)\n",
    "# plt.ylabel('Количество наблюдений', fontsize=13)\n",
    "# plt.title('Тенденция к расширению рынка корпоративных облигаций', fontsize=15)\n",
    "# plt.show()"
   ]
  },
  {
   "cell_type": "code",
   "execution_count": 17,
   "metadata": {},
   "outputs": [
    {
     "data": {
      "text/plain": [
       "Index(['date', 'bid', 'ask', 'bid_ask_bp', 'market_price', 'admitted_price',\n",
       "       'close_price', 'indicative', 'turnover', 'num_of_deals',\n",
       "       'turnover_in_securities', 'current_coupon', 'ytm_ind_p', 'ytm_close_p',\n",
       "       'accrued_interest', 'duration', 'mod_duration', 'ytm_oferta_ind_p',\n",
       "       'ytm_oferta_close_p', 'dur_to_p_c_date', 'mod_dur_to_p_c_date',\n",
       "       'g_spread_bp', 'exchange', 'indicative_type', 'maturity',\n",
       "       'put_call_date', 'bond', 'cum_count', 'counted_vals', 'company',\n",
       "       'sector', 'year_num', 'quarter_num', 'month_num', 'week_num',\n",
       "       'issuance', 'reg_date', 'days_left', 'days_passed', 'turnover_norm',\n",
       "       'prop_bid_ask', 'yield2y', 'yield10y', 'moex', 'moex_ret', 'brent',\n",
       "       'ref_rate', 'usdrub', 'slope', 'rating', 'rating_num', 'rating_cut',\n",
       "       'liab_current', 'liab_noncurrent', 'default_point', 'close',\n",
       "       'daily_ret', 'trading_volume', 'variance', 'num_of_stocks', 'cap',\n",
       "       'dist_to_default', 'prop_of_default', 'illiquidity'],\n",
       "      dtype='object')"
      ]
     },
     "execution_count": 17,
     "metadata": {},
     "output_type": "execute_result"
    }
   ],
   "source": [
    "prep_weekly_data.columns"
   ]
  },
  {
   "cell_type": "code",
   "execution_count": 23,
   "metadata": {},
   "outputs": [],
   "source": [
    "prep_weekly_data['year_month'] = prep_weekly_data.year_num.astype(str) +\"-\"+ prep_weekly_data.month_num.astype(str)"
   ]
  },
  {
   "cell_type": "code",
   "execution_count": 52,
   "metadata": {},
   "outputs": [
    {
     "data": {
      "image/png": "[encoded data removed]",
      "text/plain": [
       "<Figure size 1152x504 with 2 Axes>"
      ]
     },
     "metadata": {},
     "output_type": "display_data"
    }
   ],
   "source": [
    "fig, ax = plt.subplots(1, 2, figsize=(16, 7))\n",
    "sns.pointplot(x=\"year_month\", y=\"g_spread_bp\", data=prep_weekly_data.sort_values('date'), ci=99, ax=ax[0])\n",
    "ax[0].xaxis.set_ticks(np.arange(1, 100, 12))\n",
    "ax[0].set_xlabel(\"год-месяц\")\n",
    "ax[0].set_ylabel(\"G-спред, б.п.\")\n",
    "\n",
    "sns.pointplot(x=\"company\", y=\"g_spread_bp\", data=prep_weekly_data.sort_values('date'), ci=99, ax=ax[1])\n",
    "ax[1].set_xticks([])\n",
    "ax[1].set_xlabel(\"компания\")\n",
    "ax[1].set_ylabel(\"G-спред, б.п.\")\n",
    "plt.show()"
   ]
  },
  {
   "cell_type": "code",
   "execution_count": 48,
   "metadata": {},
   "outputs": [
    {
     "data": {
      "text/plain": [
       "company\n",
       "Сбербанк России                     -339.079734\n",
       "ВТБ                                 -297.751383\n",
       "ГМК Норильский никель                 68.737684\n",
       "МТС                                   68.776307\n",
       "Газпром нефть                         70.943591\n",
       "Ростелеком                            74.420260\n",
       "Татнефть                              75.611812\n",
       "Северсталь                            75.882593\n",
       "МегаФон                               78.215606\n",
       "Роснефть                              79.888735\n",
       "АЛРОСА                                82.210033\n",
       "ОГК-2                                 84.504963\n",
       "Московский кредитный банк             84.602886\n",
       "РусГидро                              87.356389\n",
       "РОСБАНК                               92.357117\n",
       "ТрансКонтейнер                        93.223810\n",
       "ФСК ЕЭС                               93.702601\n",
       "Башнефть                              96.763488\n",
       "Магнит                                97.386589\n",
       "Полюс                                105.861578\n",
       "Акрон                                108.957817\n",
       "Уралкалий                            113.649822\n",
       "НКНХ                                 123.456519\n",
       "МРСК Центра и Приволжья              128.700564\n",
       "Россети Московский регион            141.670089\n",
       "ЧТПЗ                                 149.167035\n",
       "ТМК                                  154.126021\n",
       "МРСК Урала                           154.383549\n",
       "Детский мир                          155.753699\n",
       "МРСК Центра                          164.789442\n",
       "КАМАЗ                                165.722836\n",
       "Аэрофлот                             174.544031\n",
       "Россети Ленэнерго                    176.234993\n",
       "Белуга Групп                         195.867572\n",
       "ИРКУТ                                202.466837\n",
       "Группа Черкизово                     203.026074\n",
       "Группа ЛСР (ПАО)                     204.750204\n",
       "НЛМК                                 218.283489\n",
       "АФК Система                          224.379135\n",
       "Мостотрест                           227.333091\n",
       "ПИК-Специализированный застройщик    239.300614\n",
       "ЯТЭК                                 275.703849\n",
       "Группа компаний Самолет              360.323679\n",
       "Name: g_spread_bp, dtype: float64"
      ]
     },
     "execution_count": 48,
     "metadata": {},
     "output_type": "execute_result"
    }
   ],
   "source": [
    "prep_weekly_data.groupby(\"company\")['g_spread_bp'].mean().sort_values()"
   ]
  },
  {
   "cell_type": "code",
   "execution_count": 51,
   "metadata": {},
   "outputs": [
    {
     "data": {
      "text/plain": [
       "(523, 43, 13)"
      ]
     },
     "execution_count": 51,
     "metadata": {},
     "output_type": "execute_result"
    }
   ],
   "source": [
    "prep_weekly_data.bond.nunique(), prep_weekly_data.company.nunique(), prep_weekly_data.sector.nunique()"
   ]
  },
  {
   "cell_type": "code",
   "execution_count": 57,
   "metadata": {},
   "outputs": [],
   "source": [
    "translation_1 = {'Дата торгов': 'date', \n",
    "                 'Название биржи': 'exchange',\n",
    "                 'Котировка на покупку, закрытие (bid), %': 'bid',\n",
    "                 'Котировка на продажу, закрытие (ask), %': 'ask',\n",
    "                 'Bid-ask спред, б.п.': 'bid_ask_bp',\n",
    "                 'Рыночная цена, %': 'market_price',\n",
    "                 'Признаваемая котировка, %': 'admitted_price',\n",
    "                 'Цена закрытия, %': 'close_price',\n",
    "                 'Индикативная цена, %': 'indicative',\n",
    "                 'Тип индикативной цены': 'indicative_type',\n",
    "                 'Оборот': 'turnover',\n",
    "                 'Количество сделок': 'num_of_deals',\n",
    "                 'Объем сделок в бумагах': 'turnover_in_securities',\n",
    "                 'Текущая ставка купона, %': 'current_coupon',\n",
    "                 'Дата погашения': 'maturity',\n",
    "                 'Доходность к погашению по инд. цене, %': 'ytm_ind_p',\n",
    "                 'Доходность к погашению по цене закрытия, %': 'ytm_close_p',\n",
    "                 'НКД': 'accrued_interest', \n",
    "                 'Дюрация': 'duration',\n",
    "                 'Модифицированная дюрация': 'mod_duration',\n",
    "                 'Дата оферты (put/call)': 'put_call_date',\n",
    "                 'Доходность к оферте по инд. цене, %': 'ytm_oferta_ind_p',\n",
    "                 'Доходность к оферте по цене закрытия, %': 'ytm_oferta_close_p',\n",
    "                 'Дюрация к оферте': 'dur_to_p_c_date',\n",
    "                 'Модифицированная дюрация к оферте': 'mod_dur_to_p_c_date',\n",
    "                 'G-spread, б.п.': 'g_spread_bp'\n",
    "              }"
   ]
  },
  {
   "cell_type": "code",
   "execution_count": 70,
   "metadata": {
    "scrolled": false
   },
   "outputs": [],
   "source": [
    "pd.DataFrame(prep_weekly_data.count().reset_index()).merge(\n",
    "    pd.DataFrame(translation_1.items()), left_on=\"index\", right_on=1, how='left'\n",
    ").iloc[:, :3].rename(columns={'index': 'Сокращение (на англ.)', \n",
    "                              '0_x': 'Количество непустых',\n",
    "                              '0_y': 'Полное название'}).to_excel('all_vars.xlsx')"
   ]
  },
  {
   "cell_type": "code",
   "execution_count": null,
   "metadata": {},
   "outputs": [],
   "source": []
  }
 ],
 "metadata": {
  "kernelspec": {
   "display_name": "Python 3",
   "language": "python",
   "name": "python3"
  },
  "language_info": {
   "codemirror_mode": {
    "name": "ipython",
    "version": 3
   },
   "file_extension": ".py",
   "mimetype": "text/x-python",
   "name": "python",
   "nbconvert_exporter": "python",
   "pygments_lexer": "ipython3",
   "version": "3.8.1"
  }
 },
 "nbformat": 4,
 "nbformat_minor": 4
}
